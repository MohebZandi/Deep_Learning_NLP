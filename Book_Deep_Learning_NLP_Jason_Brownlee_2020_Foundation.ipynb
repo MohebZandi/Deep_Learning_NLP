{
  "nbformat": 4,
  "nbformat_minor": 0,
  "metadata": {
    "colab": {
      "name": "Book_Deep_Learning_NLP_Jason Brownlee_2020_Foundation.ipynb",
      "provenance": [],
      "collapsed_sections": [],
      "toc_visible": true,
      "mount_file_id": "1qJrm-4pGIievAqN2pa1ltkMcPwDCaVSa",
      "authorship_tag": "ABX9TyM7gLG/7w1uU3b9n/JuJ1Oa",
      "include_colab_link": true
    },
    "kernelspec": {
      "name": "python3",
      "display_name": "Python 3"
    },
    "language_info": {
      "name": "python"
    },
    "accelerator": "GPU"
  },
  "cells": [
    {
      "cell_type": "markdown",
      "metadata": {
        "id": "view-in-github",
        "colab_type": "text"
      },
      "source": [
        "<a href=\"https://colab.research.google.com/github/MohebZandi/Deep_Learning_NLP/blob/main/Book_Deep_Learning_NLP_Jason_Brownlee_2020_Foundation.ipynb\" target=\"_parent\"><img src=\"https://colab.research.google.com/assets/colab-badge.svg\" alt=\"Open In Colab\"/></a>"
      ]
    },
    {
      "cell_type": "markdown",
      "source": [
        "# **Book_Deep_Learning_NLP_Jason Brownlee_2020**\n",
        "\n",
        "# Section One: Bag of Words, First models of Neural Network and word Embeding\n",
        "Jason Brownlee\n",
        "2020"
      ],
      "metadata": {
        "id": "XpP-LrpbTU5R"
      }
    },
    {
      "cell_type": "markdown",
      "source": [
        "# Part II - Foundations\n",
        "### Foundations\n",
        "\n",
        "\n",
        "\n"
      ],
      "metadata": {
        "id": "kf082u6TTO4q"
      }
    },
    {
      "cell_type": "markdown",
      "source": [
        "\n",
        "#### Chapter 1\n",
        "#### Natural Language Processing\n",
        "\n",
        "What natural language is and how it is different from other types of data.\n",
        "\n",
        "What makes working with natural language so challenging.\n",
        "\n",
        "Where the field of NLP came from and how it is defined by modern practitioners.\n",
        "\n",
        "\n",
        "#### Chapter 2\n",
        "#### Deep Learning\n",
        "\n",
        "-  The motivation for exploring and adopting large neural network models.\n",
        "-  The perspective on deep learning as hierarchical feature learning.\n",
        "-  The promise of scalability of deep learning with the size of data.\n",
        "\n",
        "\n",
        "\n",
        "#### Chapter 3\n",
        "#### Promise of Deep Learning for Natural Language\n",
        "\n",
        "1- The Promise of Drop-in Replacement Models. That is, deep learning methods can\n",
        "be dropped into existing natural language systems as replacement models that can achieve\n",
        "commensurate or better performance.\n",
        "\n",
        "2- The Promise of New NLP Models. That is, deep learning methods offer the op-\n",
        "portunity of new modeling approaches to challenging natural language problems like\n",
        "sequence-to-sequence prediction.\n",
        "\n",
        "3- The Promise of Feature Learning. That is, that deep learning methods can learn\n",
        "the features from natural language required by the model, rather than requiring that the\n",
        "features be specified and extracted by an expert.\n",
        "\n",
        "4- The Promise of Continued Improvement. That is, that the performance of deep\n",
        "learning in natural language processing is based on real results and that the improvements\n",
        "appear to be continuing and perhaps speeding up.\n",
        "\n",
        "5- The Promise of End-to-End Models. That is, that large end-to-end deep learning\n",
        "models can be fit on natural language problems offering a more general and better-\n",
        "performing approach.\n",
        "\n",
        "#### Chapter 4\n",
        "#### How to Develop Deep Learning Models With Keras\n",
        "\n",
        "Keras Model Life-Cycle\n",
        "\n",
        "Below is an overview of the 5 steps in the neural network model life-cycle in Keras:\n",
        "1. Define Network.\n",
        "2. Compile Network.\n",
        "3. Fit Network.\n",
        "4. Evaluate Network.\n",
        "5. Make Predictions.\n",
        "\n"
      ],
      "metadata": {
        "id": "HfQvrc5F9Xmk"
      }
    },
    {
      "cell_type": "code",
      "execution_count": null,
      "metadata": {
        "id": "NAwNfwCsSo8t"
      },
      "outputs": [],
      "source": [
        "import numpy as np\n",
        "import pandas as pd\n",
        "from google.colab import files\n",
        "\n",
        "from sklearn.preprocessing import MinMaxScaler\n",
        "scaler = MinMaxScaler(feature_range = (0, 1))\n",
        "\n",
        "from keras.layers import LSTM, Bidirectional, Dense, Activation\n",
        "import matplotlib.pyplot as plt\n",
        "import seaborn as sns\n",
        "from keras.models import Sequential\n",
        "from sklearn.metrics import mean_squared_error\n",
        "from tensorflow.keras.optimizers import Adam,Nadam, SGD\n"
      ]
    },
    {
      "cell_type": "code",
      "source": [
        "# Step 1: Define Network\n",
        "\n",
        "model = Sequential()\n",
        "model.add(Dense(2))\n",
        "\n",
        "# or\n",
        "\n",
        "layers = [Dense(2)]\n",
        "model = Sequential(layers)"
      ],
      "metadata": {
        "id": "qPn9FxTSStvL"
      },
      "execution_count": null,
      "outputs": []
    },
    {
      "cell_type": "code",
      "source": [
        "# For example, a small Multilayer Perceptron model\n",
        "# with 2 inputs in the visible layer, 5 neurons in the hidden layer and one neuron in the output\n",
        "# layer can be defined as:\n",
        "\n",
        "model = Sequential()\n",
        "model.add(Dense(5, input_dim=2))\n",
        "model.add(Dense(1))\n"
      ],
      "metadata": {
        "id": "SJiB_8cYS8lK"
      },
      "execution_count": null,
      "outputs": []
    },
    {
      "cell_type": "code",
      "source": [
        "# activation functions that transform a summed signal from each neuron in a layer can be extracted and\n",
        "# added to the Sequential as a layer-like object called the Activation class.\n",
        "\n",
        "model = Sequential()\n",
        "model.add(Dense(5, input_dim=2))\n",
        "model.add(Activation('relu'))\n",
        "model.add(Dense(1))\n",
        "model.add(Activation('sigmoid'))"
      ],
      "metadata": {
        "id": "WKPhM0LcUhce"
      },
      "execution_count": null,
      "outputs": []
    },
    {
      "cell_type": "markdown",
      "source": [
        "The choice of Activation function is most important for the output layer as it will define the format that predictions will take. \n",
        "\n",
        "For example, below are some common predictive modeling\n",
        "problem types and the structure and standard activation function that you can use in the output\n",
        "\n",
        "layer:\n",
        "1- Regression: Linear activation function, or *linear*, and the number of neurons matching\n",
        "the number of outputs.\n",
        "\n",
        "2- Binary Classification (2 class): Logistic activation function, or *sigmoid*, and one\n",
        "neuron the output layer.\n",
        "\n",
        "3- Multiclass Classification (>2 class): Softmax activation function, or *softmax*, and\n",
        "one output neuron per class value, assuming a one hot encoded output pattern."
      ],
      "metadata": {
        "id": "9pPlOTRAViOZ"
      }
    },
    {
      "cell_type": "code",
      "source": [
        "# Step 1: Compile Network\n",
        "\n",
        "# Example of compiling a defined model.\n",
        "model.compile(optimizer='sgd', loss='mean_squared_error')"
      ],
      "metadata": {
        "id": "xLcvcEtMVLoA"
      },
      "execution_count": null,
      "outputs": []
    },
    {
      "cell_type": "code",
      "source": [
        "# Alternately, the optimizer can be created and configured before being provided as an argument\n",
        "# to the compilation step.\n",
        "\n",
        "algorithm = SGD(lr=0.1, momentum=0.3)\n",
        "model.compile(optimizer=algorithm, loss='mean_squared_error')"
      ],
      "metadata": {
        "colab": {
          "base_uri": "https://localhost:8080/"
        },
        "id": "zjQ463SMWVHx",
        "outputId": "40ced94e-bbd6-41a8-dcb5-764d670a1672"
      },
      "execution_count": null,
      "outputs": [
        {
          "output_type": "stream",
          "name": "stderr",
          "text": [
            "/usr/local/lib/python3.7/dist-packages/keras/optimizer_v2/gradient_descent.py:102: UserWarning: The `lr` argument is deprecated, use `learning_rate` instead.\n",
            "  super(SGD, self).__init__(name, **kwargs)\n"
          ]
        }
      ]
    },
    {
      "cell_type": "markdown",
      "source": [
        "Below are some standard loss functions for different predictive\n",
        "model types:\n",
        "\n",
        "- Regression: Mean Squared Error or *mean_squared_error*.\n",
        "\n",
        "- Binary Classification (2 class): Logarithmic Loss, also called cross-entropy or\n",
        "*binary_crossentropy*.\n",
        "\n",
        "- Multiclass Classification (>2 class): Multiclass Logarithmic Loss or *categorical_crossentropy*."
      ],
      "metadata": {
        "id": "Vd6mpik9X7mS"
      }
    },
    {
      "cell_type": "markdown",
      "source": [
        "The most common optimization algorithm is *stochastic gradient descent(sgd)*, but Keras also\n",
        "supports a suite of other state-of-the-art optimization algorithms that work well with little or\n",
        "no configuration. Perhaps the most commonly used optimization algorithms because of their\n",
        "generally better performance are:\n",
        "\n",
        "- Stochastic Gradient Descent, or *sgd*, that requires the tuning of a learning rate and\n",
        "momentum.\n",
        "\n",
        "- Adam, or *adam*, that requires the tuning of learning rate.\n",
        "\n",
        "- RMSprop, or *rmsprop*, that requires the tuning of learning rate."
      ],
      "metadata": {
        "id": "4ti4TZdSYhRK"
      }
    },
    {
      "cell_type": "code",
      "source": [
        "# Generally, the most useful additional metric to collect is accuracy for classification\n",
        "# problems. The metrics to collect are specified by name in an array. For example:\n",
        "\n",
        "model.compile(optimizer='sgd', loss='mean_squared_error', metrics=['accuracy'])"
      ],
      "metadata": {
        "id": "NfDQkRbCW-nu"
      },
      "execution_count": null,
      "outputs": []
    },
    {
      "cell_type": "markdown",
      "source": [
        "## Step 3. Fit Network\n",
        "\n",
        "Once the network is compiled, it can be fit, which means adapt the weights on a training dataset.\n",
        "\n",
        "Fitting the network requires the training data to be specified, both a matrix of input patterns, X,\n",
        "and an array of matching output patterns, y."
      ],
      "metadata": {
        "id": "3vP2ad0yZsPa"
      }
    },
    {
      "cell_type": "markdown",
      "source": [
        "**Example of fitting a compiled model.**\n",
        "\n",
        "history = model.fit(X, y, batch_size=10, epochs=100)\n",
        "\n",
        "#\n",
        "\n",
        "#\n",
        "\n",
        "Once fit, a history object is returned that provides a summary of the performance of the\n",
        "model during training. \n",
        "\n",
        "This includes both the loss and any additional metrics specified when\n",
        "compiling the model, recorded each epoch."
      ],
      "metadata": {
        "id": "XbAN0vdta9_Q"
      }
    },
    {
      "cell_type": "markdown",
      "source": [
        "You can reduce the amount of information displayed to just the\n",
        "loss each epoch by setting the verbose argument to 2. \n",
        "\n",
        "You can turn off all output by setting\n",
        "verbose to 0. For example:\n",
        "\n",
        "#\n",
        "\n",
        "history = model.fit(X, y, batch_size=10, epochs=100, verbose=0)"
      ],
      "metadata": {
        "id": "4Lmrv82rbv6p"
      }
    },
    {
      "cell_type": "markdown",
      "source": [
        "## **Step 4. Evaluate Network**\n",
        "\n",
        "The model evaluates the loss across all of the test patterns, as well as any other metrics\n",
        "specified when the model was compiled, like classification accuracy. \n",
        "\n",
        "A list of evaluation metrics\n",
        "is returned. \n",
        "\n",
        "For example, for a model compiled with the accuracy metric, we could evaluate it\n",
        "on a new dataset as follows:\n",
        "\n",
        "loss, accuracy = model.evaluate(X, y)\n",
        "\n",
        "#\n",
        "\n",
        "#\n",
        "\n",
        "Turn off verbose:\n",
        "\n",
        "loss, accuracy = model.evaluate(X, y, verbose=0)"
      ],
      "metadata": {
        "id": "-H_Bc_aucGUw"
      }
    },
    {
      "cell_type": "markdown",
      "source": [
        "## **Step 5. Make Predictions**\n",
        "\n",
        "Once we are satisfied with the performance of our fit model, we can use it to make predictions\n",
        "on new data. \n",
        "\n",
        "This is as easy as calling the *predict()* function on the model with an array of\n",
        "new input patterns. \n",
        "\n",
        "For example:\n",
        "\n",
        "predictions = model.predict(X)\n",
        "\n",
        "\n",
        "The predictions will be returned in the format provided by the output layer of the network.\n",
        "\n",
        "- In the case of a regression problem, these predictions may be in the format of the problem\n",
        "directly, provided by a linear activation function. \n",
        "\n",
        "- For a binary classification problem, the\n",
        "predictions may be an array of probabilities for the first class that can be converted to a 1 or 0\n",
        "by rounding.\n",
        "\n",
        "- For a multiclass classification problem, the results may be in the form of an array of\n",
        "probabilities (assuming a one hot encoded output variable) that may need to be converted to a\n",
        "single class output prediction using the *argmax()* NumPy function. \n",
        "\n",
        "Alternately, for classification\n",
        "problems, we can use the *predict_classes()* function that will automatically convert uncrisp\n",
        "predictions to crisp integer class values.\n",
        "\n",
        "predictions = model.predict_classes(X)"
      ],
      "metadata": {
        "id": "GHr7cr4ycwSR"
      }
    },
    {
      "cell_type": "markdown",
      "source": [
        "## Standard Network Models"
      ],
      "metadata": {
        "id": "uZIYp85nJiYs"
      }
    },
    {
      "cell_type": "code",
      "source": [
        "# Multilayer Perceptron\n",
        "from tensorflow.keras.utils import plot_model\n",
        "from keras.models import Model\n",
        "from keras.layers import Input\n",
        "from keras.layers import Dense\n",
        "visible = Input(shape=(10,))\n",
        "hidden1 = Dense(10, activation='relu')(visible)\n",
        "hidden2 = Dense(20, activation='relu')(hidden1)\n",
        "hidden3 = Dense(10, activation='relu')(hidden2)\n",
        "output = Dense(1, activation='sigmoid')(hidden3)\n",
        "model = Model(inputs=visible, outputs=output)\n",
        "# summarize layers\n",
        "model.summary()\n",
        "# plot graph\n",
        "plot_model(model, to_file='multilayer_perceptron_graph.png')"
      ],
      "metadata": {
        "colab": {
          "base_uri": "https://localhost:8080/",
          "height": 811
        },
        "id": "CmCYrdHSZOW1",
        "outputId": "585c3df6-6fbc-4016-a38b-a50fbdc95633"
      },
      "execution_count": null,
      "outputs": [
        {
          "output_type": "stream",
          "name": "stdout",
          "text": [
            "Model: \"model\"\n",
            "_________________________________________________________________\n",
            " Layer (type)                Output Shape              Param #   \n",
            "=================================================================\n",
            " input_1 (InputLayer)        [(None, 10)]              0         \n",
            "                                                                 \n",
            " dense_6 (Dense)             (None, 10)                110       \n",
            "                                                                 \n",
            " dense_7 (Dense)             (None, 20)                220       \n",
            "                                                                 \n",
            " dense_8 (Dense)             (None, 10)                210       \n",
            "                                                                 \n",
            " dense_9 (Dense)             (None, 1)                 11        \n",
            "                                                                 \n",
            "=================================================================\n",
            "Total params: 551\n",
            "Trainable params: 551\n",
            "Non-trainable params: 0\n",
            "_________________________________________________________________\n"
          ]
        },
        {
          "output_type": "execute_result",
          "data": {
            "image/png": "[encoded data removed]",
            "text/plain": [
              "<IPython.core.display.Image object>"
            ]
          },
          "metadata": {},
          "execution_count": 20
        }
      ]
    },
    {
      "cell_type": "code",
      "source": [
        "# Convolutional Neural Network (CNN)\n",
        "from tensorflow.keras.utils import plot_model\n",
        "from keras.models import Model\n",
        "from keras.layers import Input\n",
        "from keras.layers import Dense\n",
        "from keras.layers.convolutional import Conv2D\n",
        "from keras.layers.pooling import MaxPooling2D\n",
        "visible = Input(shape=(64,64,1))\n",
        "conv1 = Conv2D(32, (4,4), activation='relu')(visible)\n",
        "pool1 = MaxPooling2D()(conv1)\n",
        "conv2 = Conv2D(16, (4,4), activation='relu')(pool1)\n",
        "pool2 = MaxPooling2D()(conv2)\n",
        "hidden1 = Dense(10, activation='relu')(pool2)\n",
        "output = Dense(1, activation='sigmoid')(hidden1)\n",
        "model = Model(inputs=visible, outputs=output)\n",
        "# summarize layers\n",
        "model.summary()\n",
        "# plot graph\n",
        "plot_model(model, to_file='convolutional_neural_network.png')"
      ],
      "metadata": {
        "id": "cK1RW9X5a2jK",
        "colab": {
          "base_uri": "https://localhost:8080/",
          "height": 1000
        },
        "outputId": "315ec118-4058-4793-f4d9-3930971211a3"
      },
      "execution_count": null,
      "outputs": [
        {
          "output_type": "stream",
          "name": "stdout",
          "text": [
            "Model: \"model\"\n",
            "_________________________________________________________________\n",
            " Layer (type)                Output Shape              Param #   \n",
            "=================================================================\n",
            " input_1 (InputLayer)        [(None, 64, 64, 1)]       0         \n",
            "                                                                 \n",
            " conv2d (Conv2D)             (None, 61, 61, 32)        544       \n",
            "                                                                 \n",
            " max_pooling2d (MaxPooling2D  (None, 30, 30, 32)       0         \n",
            " )                                                               \n",
            "                                                                 \n",
            " conv2d_1 (Conv2D)           (None, 27, 27, 16)        8208      \n",
            "                                                                 \n",
            " max_pooling2d_1 (MaxPooling  (None, 13, 13, 16)       0         \n",
            " 2D)                                                             \n",
            "                                                                 \n",
            " dense (Dense)               (None, 13, 13, 10)        170       \n",
            "                                                                 \n",
            " dense_1 (Dense)             (None, 13, 13, 1)         11        \n",
            "                                                                 \n",
            "=================================================================\n",
            "Total params: 8,933\n",
            "Trainable params: 8,933\n",
            "Non-trainable params: 0\n",
            "_________________________________________________________________\n"
          ]
        },
        {
          "output_type": "execute_result",
          "data": {
            "image/png": "[encoded data removed]",
            "text/plain": [
              "<IPython.core.display.Image object>"
            ]
          },
          "metadata": {},
          "execution_count": 2
        }
      ]
    },
    {
      "cell_type": "code",
      "source": [
        "# Recurrent Neural Network (RNN)\n",
        "from tensorflow.keras.utils import plot_model\n",
        "from keras.models import Model\n",
        "from keras.layers import Input\n",
        "from keras.layers import Dense\n",
        "from keras.layers.recurrent import LSTM\n",
        "visible = Input(shape=(100,1))\n",
        "hidden1 = LSTM(10)(visible)\n",
        "hidden2 = Dense(10, activation='relu')(hidden1)\n",
        "output = Dense(1, activation='sigmoid')(hidden2)\n",
        "model = Model(inputs=visible, outputs=output)\n",
        "# summarize layers\n",
        "model.summary()\n",
        "# plot graph\n",
        "plot_model(model, to_file='recurrent_neural_network.png')"
      ],
      "metadata": {
        "colab": {
          "base_uri": "https://localhost:8080/",
          "height": 678
        },
        "id": "Tq4NYUk5GdHF",
        "outputId": "106dcd14-ce63-4cbf-ba9a-1ffd067bb81c"
      },
      "execution_count": null,
      "outputs": [
        {
          "output_type": "stream",
          "name": "stdout",
          "text": [
            "Model: \"model_1\"\n",
            "_________________________________________________________________\n",
            " Layer (type)                Output Shape              Param #   \n",
            "=================================================================\n",
            " input_2 (InputLayer)        [(None, 100, 1)]          0         \n",
            "                                                                 \n",
            " lstm (LSTM)                 (None, 10)                480       \n",
            "                                                                 \n",
            " dense_2 (Dense)             (None, 10)                110       \n",
            "                                                                 \n",
            " dense_3 (Dense)             (None, 1)                 11        \n",
            "                                                                 \n",
            "=================================================================\n",
            "Total params: 601\n",
            "Trainable params: 601\n",
            "Non-trainable params: 0\n",
            "_________________________________________________________________\n"
          ]
        },
        {
          "output_type": "execute_result",
          "data": {
            "image/png": "[encoded data removed]",
            "text/plain": [
              "<IPython.core.display.Image object>"
            ]
          },
          "metadata": {},
          "execution_count": 4
        }
      ]
    },
    {
      "cell_type": "markdown",
      "source": [
        "# Part III - Data Preparation\n",
        "### Data Preparation\n",
        "\n",
        "\n",
        "- How to Clean Text Manually and with NLTK\n",
        "\n",
        "- How to Prepare Text Data with scikit-learn\n",
        "\n",
        "- How to Prepare Text Data With Keras"
      ],
      "metadata": {
        "id": "WTFwEySUJ0bO"
      }
    },
    {
      "cell_type": "markdown",
      "source": [
        "### How to Clean Text Manually and with NLTK\n",
        "\n",
        "Text Cleaning Is Task Specific\n",
        "\n",
        "Take a moment to look at the text. What do you notice? Here's what I see:\n",
        "\n",
        "- It's plain text so there is no markup to parse (yay!).\n",
        "- The translation of the original German uses UK English (e.g. travelling).\n",
        "- The lines are artificially wrapped with new lines at about 70 characters (meh)\n",
        "- There are no obvious typos or spelling mistakes.\n",
        "- There's punctuation like commas, apostrophes, quotes, question marks, and more.\n",
        "- There's hyphenated descriptions like armour-like.\n",
        "- There's a lot of use of the em dash (-) to continue sentences (maybe replace with commas?).\n",
        "- There are names (e.g. Mr. Samsa)\n",
        "- There does not appear to be numbers that require handling (e.g. 1999)\n",
        "- There are section markers (e.g. II and III )."
      ],
      "metadata": {
        "id": "zyfz0axvKv_W"
      }
    },
    {
      "cell_type": "code",
      "source": [
        "# Manual Tokenization\n",
        "\n",
        "# Split by Whitespace\n",
        "\n",
        "from google.colab import files\n",
        "\n",
        "uploaded = files.upload()"
      ],
      "metadata": {
        "colab": {
          "resources": {
            "http://localhost:8080/nbextensions/google.colab/files.js": {
              "data": "Ly8gQ29weXJpZ2h0IDIwMTcgR29vZ2xlIExMQwovLwovLyBMaWNlbnNlZCB1bmRlciB0aGUgQXBhY2hlIExpY2Vuc2UsIFZlcnNpb24gMi4wICh0aGUgIkxpY2Vuc2UiKTsKLy8geW91IG1heSBub3QgdXNlIHRoaXMgZmlsZSBleGNlcHQgaW4gY29tcGxpYW5jZSB3aXRoIHRoZSBMaWNlbnNlLgovLyBZb3UgbWF5IG9idGFpbiBhIGNvcHkgb2YgdGhlIExpY2Vuc2UgYXQKLy8KLy8gICAgICBodHRwOi8vd3d3LmFwYWNoZS5vcmcvbGljZW5zZXMvTElDRU5TRS0yLjAKLy8KLy8gVW5sZXNzIHJlcXVpcmVkIGJ5IGFwcGxpY2FibGUgbGF3IG9yIGFncmVlZCB0byBpbiB3cml0aW5nLCBzb2Z0d2FyZQovLyBkaXN0cmlidXRlZCB1bmRlciB0aGUgTGljZW5zZSBpcyBkaXN0cmlidXRlZCBvbiBhbiAiQVMgSVMiIEJBU0lTLAovLyBXSVRIT1VUIFdBUlJBTlRJRVMgT1IgQ09ORElUSU9OUyBPRiBBTlkgS0lORCwgZWl0aGVyIGV4cHJlc3Mgb3IgaW1wbGllZC4KLy8gU2VlIHRoZSBMaWNlbnNlIGZvciB0aGUgc3BlY2lmaWMgbGFuZ3VhZ2UgZ292ZXJuaW5nIHBlcm1pc3Npb25zIGFuZAovLyBsaW1pdGF0aW9ucyB1bmRlciB0aGUgTGljZW5zZS4KCi8qKgogKiBAZmlsZW92ZXJ2aWV3IEhlbHBlcnMgZm9yIGdvb2dsZS5jb2xhYiBQeXRob24gbW9kdWxlLgogKi8KKGZ1bmN0aW9uKHNjb3BlKSB7CmZ1bmN0aW9uIHNwYW4odGV4dCwgc3R5bGVBdHRyaWJ1dGVzID0ge30pIHsKICBjb25zdCBlbGVtZW50ID0gZG9jdW1lbnQuY3JlYXRlRWxlbWVudCgnc3BhbicpOwogIGVsZW1lbnQudGV4dENvbnRlbnQgPSB0ZXh0OwogIGZvciAoY29uc3Qga2V5IG9mIE9iamVjdC5rZXlzKHN0eWxlQXR0cmlidXRlcykpIHsKICAgIGVsZW1lbnQuc3R5bGVba2V5XSA9IHN0eWxlQXR0cmlidXRlc1trZXldOwogIH0KICByZXR1cm4gZWxlbWVudDsKfQoKLy8gTWF4IG51bWJlciBvZiBieXRlcyB3aGljaCB3aWxsIGJlIHVwbG9hZGVkIGF0IGEgdGltZS4KY29uc3QgTUFYX1BBWUxPQURfU0laRSA9IDEwMCAqIDEwMjQ7CgpmdW5jdGlvbiBfdXBsb2FkRmlsZXMoaW5wdXRJZCwgb3V0cHV0SWQpIHsKICBjb25zdCBzdGVwcyA9IHVwbG9hZEZpbGVzU3RlcChpbnB1dElkLCBvdXRwdXRJZCk7CiAgY29uc3Qgb3V0cHV0RWxlbWVudCA9IGRvY3VtZW50LmdldEVsZW1lbnRCeUlkKG91dHB1dElkKTsKICAvLyBDYWNoZSBzdGVwcyBvbiB0aGUgb3V0cHV0RWxlbWVudCB0byBtYWtlIGl0IGF2YWlsYWJsZSBmb3IgdGhlIG5leHQgY2FsbAogIC8vIHRvIHVwbG9hZEZpbGVzQ29udGludWUgZnJvbSBQeXRob24uCiAgb3V0cHV0RWxlbWVudC5zdGVwcyA9IHN0ZXBzOwoKICByZXR1cm4gX3VwbG9hZEZpbGVzQ29udGludWUob3V0cHV0SWQpOwp9CgovLyBUaGlzIGlzIHJvdWdobHkgYW4gYXN5bmMgZ2VuZXJhdG9yIChub3Qgc3VwcG9ydGVkIGluIHRoZSBicm93c2VyIHlldCksCi8vIHdoZXJlIHRoZXJlIGFyZSBtdWx0aXBsZSBhc3luY2hyb25vdXMgc3RlcHMgYW5kIHRoZSBQeXRob24gc2lkZSBpcyBnb2luZwovLyB0byBwb2xsIGZvciBjb21wbGV0aW9uIG9mIGVhY2ggc3RlcC4KLy8gVGhpcyB1c2VzIGEgUHJvbWlzZSB0byBibG9jayB0aGUgcHl0aG9uIHNpZGUgb24gY29tcGxldGlvbiBvZiBlYWNoIHN0ZXAsCi8vIHRoZW4gcGFzc2VzIHRoZSByZXN1bHQgb2YgdGhlIHByZXZpb3VzIHN0ZXAgYXMgdGhlIGlucHV0IHRvIHRoZSBuZXh0IHN0ZXAuCmZ1bmN0aW9uIF91cGxvYWRGaWxlc0NvbnRpbnVlKG91dHB1dElkKSB7CiAgY29uc3Qgb3V0cHV0RWxlbWVudCA9IGRvY3VtZW50LmdldEVsZW1lbnRCeUlkKG91dHB1dElkKTsKICBjb25zdCBzdGVwcyA9IG91dHB1dEVsZW1lbnQuc3RlcHM7CgogIGNvbnN0IG5leHQgPSBzdGVwcy5uZXh0KG91dHB1dEVsZW1lbnQubGFzdFByb21pc2VWYWx1ZSk7CiAgcmV0dXJuIFByb21pc2UucmVzb2x2ZShuZXh0LnZhbHVlLnByb21pc2UpLnRoZW4oKHZhbHVlKSA9PiB7CiAgICAvLyBDYWNoZSB0aGUgbGFzdCBwcm9taXNlIHZhbHVlIHRvIG1ha2UgaXQgYXZhaWxhYmxlIHRvIHRoZSBuZXh0CiAgICAvLyBzdGVwIG9mIHRoZSBnZW5lcmF0b3IuCiAgICBvdXRwdXRFbGVtZW50Lmxhc3RQcm9taXNlVmFsdWUgPSB2YWx1ZTsKICAgIHJldHVybiBuZXh0LnZhbHVlLnJlc3BvbnNlOwogIH0pOwp9CgovKioKICogR2VuZXJhdG9yIGZ1bmN0aW9uIHdoaWNoIGlzIGNhbGxlZCBiZXR3ZWVuIGVhY2ggYXN5bmMgc3RlcCBvZiB0aGUgdXBsb2FkCiAqIHByb2Nlc3MuCiAqIEBwYXJhbSB7c3RyaW5nfSBpbnB1dElkIEVsZW1lbnQgSUQgb2YgdGhlIGlucHV0IGZpbGUgcGlja2VyIGVsZW1lbnQuCiAqIEBwYXJhbSB7c3RyaW5nfSBvdXRwdXRJZCBFbGVtZW50IElEIG9mIHRoZSBvdXRwdXQgZGlzcGxheS4KICogQHJldHVybiB7IUl0ZXJhYmxlPCFPYmplY3Q+fSBJdGVyYWJsZSBvZiBuZXh0IHN0ZXBzLgogKi8KZnVuY3Rpb24qIHVwbG9hZEZpbGVzU3RlcChpbnB1dElkLCBvdXRwdXRJZCkgewogIGNvbnN0IGlucHV0RWxlbWVudCA9IGRvY3VtZW50LmdldEVsZW1lbnRCeUlkKGlucHV0SWQpOwogIGlucHV0RWxlbWVudC5kaXNhYmxlZCA9IGZhbHNlOwoKICBjb25zdCBvdXRwdXRFbGVtZW50ID0gZG9jdW1lbnQuZ2V0RWxlbWVudEJ5SWQob3V0cHV0SWQpOwogIG91dHB1dEVsZW1lbnQuaW5uZXJIVE1MID0gJyc7CgogIGNvbnN0IHBpY2tlZFByb21pc2UgPSBuZXcgUHJvbWlzZSgocmVzb2x2ZSkgPT4gewogICAgaW5wdXRFbGVtZW50LmFkZEV2ZW50TGlzdGVuZXIoJ2NoYW5nZScsIChlKSA9PiB7CiAgICAgIHJlc29sdmUoZS50YXJnZXQuZmlsZXMpOwogICAgfSk7CiAgfSk7CgogIGNvbnN0IGNhbmNlbCA9IGRvY3VtZW50LmNyZWF0ZUVsZW1lbnQoJ2J1dHRvbicpOwogIGlucHV0RWxlbWVudC5wYXJlbnRFbGVtZW50LmFwcGVuZENoaWxkKGNhbmNlbCk7CiAgY2FuY2VsLnRleHRDb250ZW50ID0gJ0NhbmNlbCB1cGxvYWQnOwogIGNvbnN0IGNhbmNlbFByb21pc2UgPSBuZXcgUHJvbWlzZSgocmVzb2x2ZSkgPT4gewogICAgY2FuY2VsLm9uY2xpY2sgPSAoKSA9PiB7CiAgICAgIHJlc29sdmUobnVsbCk7CiAgICB9OwogIH0pOwoKICAvLyBXYWl0IGZvciB0aGUgdXNlciB0byBwaWNrIHRoZSBmaWxlcy4KICBjb25zdCBmaWxlcyA9IHlpZWxkIHsKICAgIHByb21pc2U6IFByb21pc2UucmFjZShbcGlja2VkUHJvbWlzZSwgY2FuY2VsUHJvbWlzZV0pLAogICAgcmVzcG9uc2U6IHsKICAgICAgYWN0aW9uOiAnc3RhcnRpbmcnLAogICAgfQogIH07CgogIGNhbmNlbC5yZW1vdmUoKTsKCiAgLy8gRGlzYWJsZSB0aGUgaW5wdXQgZWxlbWVudCBzaW5jZSBmdXJ0aGVyIHBpY2tzIGFyZSBub3QgYWxsb3dlZC4KICBpbnB1dEVsZW1lbnQuZGlzYWJsZWQgPSB0cnVlOwoKICBpZiAoIWZpbGVzKSB7CiAgICByZXR1cm4gewogICAgICByZXNwb25zZTogewogICAgICAgIGFjdGlvbjogJ2NvbXBsZXRlJywKICAgICAgfQogICAgfTsKICB9CgogIGZvciAoY29uc3QgZmlsZSBvZiBmaWxlcykgewogICAgY29uc3QgbGkgPSBkb2N1bWVudC5jcmVhdGVFbGVtZW50KCdsaScpOwogICAgbGkuYXBwZW5kKHNwYW4oZmlsZS5uYW1lLCB7Zm9udFdlaWdodDogJ2JvbGQnfSkpOwogICAgbGkuYXBwZW5kKHNwYW4oCiAgICAgICAgYCgke2ZpbGUudHlwZSB8fCAnbi9hJ30pIC0gJHtmaWxlLnNpemV9IGJ5dGVzLCBgICsKICAgICAgICBgbGFzdCBtb2RpZmllZDogJHsKICAgICAgICAgICAgZmlsZS5sYXN0TW9kaWZpZWREYXRlID8gZmlsZS5sYXN0TW9kaWZpZWREYXRlLnRvTG9jYWxlRGF0ZVN0cmluZygpIDoKICAgICAgICAgICAgICAgICAgICAgICAgICAgICAgICAgICAgJ24vYSd9IC0gYCkpOwogICAgY29uc3QgcGVyY2VudCA9IHNwYW4oJzAlIGRvbmUnKTsKICAgIGxpLmFwcGVuZENoaWxkKHBlcmNlbnQpOwoKICAgIG91dHB1dEVsZW1lbnQuYXBwZW5kQ2hpbGQobGkpOwoKICAgIGNvbnN0IGZpbGVEYXRhUHJvbWlzZSA9IG5ldyBQcm9taXNlKChyZXNvbHZlKSA9PiB7CiAgICAgIGNvbnN0IHJlYWRlciA9IG5ldyBGaWxlUmVhZGVyKCk7CiAgICAgIHJlYWRlci5vbmxvYWQgPSAoZSkgPT4gewogICAgICAgIHJlc29sdmUoZS50YXJnZXQucmVzdWx0KTsKICAgICAgfTsKICAgICAgcmVhZGVyLnJlYWRBc0FycmF5QnVmZmVyKGZpbGUpOwogICAgfSk7CiAgICAvLyBXYWl0IGZvciB0aGUgZGF0YSB0byBiZSByZWFkeS4KICAgIGxldCBmaWxlRGF0YSA9IHlpZWxkIHsKICAgICAgcHJvbWlzZTogZmlsZURhdGFQcm9taXNlLAogICAgICByZXNwb25zZTogewogICAgICAgIGFjdGlvbjogJ2NvbnRpbnVlJywKICAgICAgfQogICAgfTsKCiAgICAvLyBVc2UgYSBjaHVua2VkIHNlbmRpbmcgdG8gYXZvaWQgbWVzc2FnZSBzaXplIGxpbWl0cy4gU2VlIGIvNjIxMTU2NjAuCiAgICBsZXQgcG9zaXRpb24gPSAwOwogICAgZG8gewogICAgICBjb25zdCBsZW5ndGggPSBNYXRoLm1pbihmaWxlRGF0YS5ieXRlTGVuZ3RoIC0gcG9zaXRpb24sIE1BWF9QQVlMT0FEX1NJWkUpOwogICAgICBjb25zdCBjaHVuayA9IG5ldyBVaW50OEFycmF5KGZpbGVEYXRhLCBwb3NpdGlvbiwgbGVuZ3RoKTsKICAgICAgcG9zaXRpb24gKz0gbGVuZ3RoOwoKICAgICAgY29uc3QgYmFzZTY0ID0gYnRvYShTdHJpbmcuZnJvbUNoYXJDb2RlLmFwcGx5KG51bGwsIGNodW5rKSk7CiAgICAgIHlpZWxkIHsKICAgICAgICByZXNwb25zZTogewogICAgICAgICAgYWN0aW9uOiAnYXBwZW5kJywKICAgICAgICAgIGZpbGU6IGZpbGUubmFtZSwKICAgICAgICAgIGRhdGE6IGJhc2U2NCwKICAgICAgICB9LAogICAgICB9OwoKICAgICAgbGV0IHBlcmNlbnREb25lID0gZmlsZURhdGEuYnl0ZUxlbmd0aCA9PT0gMCA/CiAgICAgICAgICAxMDAgOgogICAgICAgICAgTWF0aC5yb3VuZCgocG9zaXRpb24gLyBmaWxlRGF0YS5ieXRlTGVuZ3RoKSAqIDEwMCk7CiAgICAgIHBlcmNlbnQudGV4dENvbnRlbnQgPSBgJHtwZXJjZW50RG9uZX0lIGRvbmVgOwoKICAgIH0gd2hpbGUgKHBvc2l0aW9uIDwgZmlsZURhdGEuYnl0ZUxlbmd0aCk7CiAgfQoKICAvLyBBbGwgZG9uZS4KICB5aWVsZCB7CiAgICByZXNwb25zZTogewogICAgICBhY3Rpb246ICdjb21wbGV0ZScsCiAgICB9CiAgfTsKfQoKc2NvcGUuZ29vZ2xlID0gc2NvcGUuZ29vZ2xlIHx8IHt9OwpzY29wZS5nb29nbGUuY29sYWIgPSBzY29wZS5nb29nbGUuY29sYWIgfHwge307CnNjb3BlLmdvb2dsZS5jb2xhYi5fZmlsZXMgPSB7CiAgX3VwbG9hZEZpbGVzLAogIF91cGxvYWRGaWxlc0NvbnRpbnVlLAp9Owp9KShzZWxmKTsK",
              "ok": true,
              "headers": [
                [
                  "content-type",
                  "application/javascript"
                ]
              ],
              "status": 200,
              "status_text": ""
            }
          },
          "base_uri": "https://localhost:8080/",
          "height": 74
        },
        "id": "tCn0mKqcG3v3",
        "outputId": "aecc994e-c3e2-4918-afb2-51c7eff09423"
      },
      "execution_count": null,
      "outputs": [
        {
          "output_type": "display_data",
          "data": {
            "text/html": [
              "\n",
              "     <input type=\"file\" id=\"files-d14d0ace-2924-4b58-b7ec-88fb40432cf9\" name=\"files[]\" multiple disabled\n",
              "        style=\"border:none\" />\n",
              "     <output id=\"result-d14d0ace-2924-4b58-b7ec-88fb40432cf9\">\n",
              "      Upload widget is only available when the cell has been executed in the\n",
              "      current browser session. Please rerun this cell to enable.\n",
              "      </output>\n",
              "      <script src=\"/nbextensions/google.colab/files.js\"></script> "
            ],
            "text/plain": [
              "<IPython.core.display.HTML object>"
            ]
          },
          "metadata": {}
        },
        {
          "output_type": "stream",
          "name": "stdout",
          "text": [
            "Saving metamorphosis_clean.txt to metamorphosis_clean.txt\n"
          ]
        }
      ]
    },
    {
      "cell_type": "code",
      "source": [
        "# load text\n",
        "filename = 'metamorphosis_clean.txt'\n",
        "file = open(filename, 'rt')\n",
        "text = file.read()\n",
        "\n",
        "file.close()\n",
        "# split into words by white space\n",
        "words = text.split()\n",
        "print(words[:100])"
      ],
      "metadata": {
        "colab": {
          "base_uri": "https://localhost:8080/"
        },
        "id": "iRogIY7JQb29",
        "outputId": "14e8cc86-ab9f-46b8-fdcb-d8f4528b65c0"
      },
      "execution_count": null,
      "outputs": [
        {
          "output_type": "stream",
          "name": "stdout",
          "text": [
            "['\\ufeffOne', 'morning,', 'when', 'Gregor', 'Samsa', 'woke', 'from', 'troubled', 'dreams,', 'he', 'found', 'himself', 'transformed', 'in', 'his', 'bed', 'into', 'a', 'horrible', 'vermin.', 'He', 'lay', 'on', 'his', 'armour-like', 'back,', 'and', 'if', 'he', 'lifted', 'his', 'head', 'a', 'little', 'he', 'could', 'see', 'his', 'brown', 'belly,', 'slightly', 'domed', 'and', 'divided', 'by', 'arches', 'into', 'stiff', 'sections.', 'The', 'bedding', 'was', 'hardly', 'able', 'to', 'cover', 'it', 'and', 'seemed', 'ready', 'to', 'slide', 'off', 'any', 'moment.', 'His', 'many', 'legs,', 'pitifully', 'thin', 'compared', 'with', 'the', 'size', 'of', 'the', 'rest', 'of', 'him,', 'waved', 'about', 'helplessly', 'as', 'he', 'looked.', '\"What\\'s', 'happened', 'to', 'me?\"', 'he', 'thought.', 'It', \"wasn't\", 'a', 'dream.', 'His', 'room,', 'a', 'proper', 'human']\n"
          ]
        }
      ]
    },
    {
      "cell_type": "code",
      "source": [
        "# Select Words\n",
        "\n",
        "# Another approach might be to use the regex model (re) and split the document into words by\n",
        "# selecting for strings of alphanumeric characters (a-z, A-Z, 0-9 and ` '). For example:\n",
        "\n",
        "import re\n",
        "# load text\n",
        "filename = 'metamorphosis_clean.txt'\n",
        "file = open(filename, 'rt')\n",
        "text = file.read()\n",
        "file.close()\n",
        "# split based on words only\n",
        "words = re.split(r'\\W+', text)\n",
        "print(words[:100])"
      ],
      "metadata": {
        "colab": {
          "base_uri": "https://localhost:8080/"
        },
        "id": "zwXYBkS1Qq0r",
        "outputId": "00f32048-3157-475e-984c-5c117252ac1e"
      },
      "execution_count": null,
      "outputs": [
        {
          "output_type": "stream",
          "name": "stdout",
          "text": [
            "['', 'One', 'morning', 'when', 'Gregor', 'Samsa', 'woke', 'from', 'troubled', 'dreams', 'he', 'found', 'himself', 'transformed', 'in', 'his', 'bed', 'into', 'a', 'horrible', 'vermin', 'He', 'lay', 'on', 'his', 'armour', 'like', 'back', 'and', 'if', 'he', 'lifted', 'his', 'head', 'a', 'little', 'he', 'could', 'see', 'his', 'brown', 'belly', 'slightly', 'domed', 'and', 'divided', 'by', 'arches', 'into', 'stiff', 'sections', 'The', 'bedding', 'was', 'hardly', 'able', 'to', 'cover', 'it', 'and', 'seemed', 'ready', 'to', 'slide', 'off', 'any', 'moment', 'His', 'many', 'legs', 'pitifully', 'thin', 'compared', 'with', 'the', 'size', 'of', 'the', 'rest', 'of', 'him', 'waved', 'about', 'helplessly', 'as', 'he', 'looked', 'What', 's', 'happened', 'to', 'me', 'he', 'thought', 'It', 'wasn', 't', 'a', 'dream', 'His']\n"
          ]
        }
      ]
    },
    {
      "cell_type": "code",
      "source": [
        "# Split by Whitespace and Remove Punctuation\n",
        "\n",
        "import string\n",
        "\n",
        "print(string.punctuation)"
      ],
      "metadata": {
        "colab": {
          "base_uri": "https://localhost:8080/"
        },
        "id": "rX-epeRfRSaJ",
        "outputId": "f4130989-eb7e-409d-9bf4-23665f8aab8c"
      },
      "execution_count": null,
      "outputs": [
        {
          "output_type": "stream",
          "name": "stdout",
          "text": [
            "!\"#$%&'()*+,-./:;<=>?@[\\]^_`{|}~\n"
          ]
        }
      ]
    },
    {
      "cell_type": "code",
      "source": [
        "# We can use regular expressions to select for the punctuation characters and use the sub()\n",
        "# function to replace them with nothing. For example:\n",
        "\n",
        "re_punc = re.compile('[%s]' % re.escape(string.punctuation))\n",
        "# remove punctuation from each word\n",
        "stripped = [re_punc.sub('', w) for w in words]"
      ],
      "metadata": {
        "id": "4j57V3DKR78s"
      },
      "execution_count": null,
      "outputs": []
    },
    {
      "cell_type": "code",
      "source": [
        "# We can put all of this together, load the text file, split it into words by white space, then\n",
        "# translate each word to remove the punctuation.\n",
        "\n",
        "import string\n",
        "import re\n",
        "# load text\n",
        "filename = 'metamorphosis_clean.txt'\n",
        "file = open(filename, 'rt')\n",
        "text = file.read()\n",
        "file.close()\n",
        "# split into words by white space\n",
        "words = text.split()\n",
        "# prepare regex for char filtering\n",
        "re_punc = re.compile('[%s]' % re.escape(string.punctuation))\n",
        "# remove punctuation from each word\n",
        "stripped = [re_punc.sub('', w) for w in words]\n",
        "print(stripped[:100])"
      ],
      "metadata": {
        "colab": {
          "base_uri": "https://localhost:8080/"
        },
        "id": "xUnXC1JpSXvw",
        "outputId": "5e48ad0d-e2d1-4249-f69e-1aa94192b780"
      },
      "execution_count": null,
      "outputs": [
        {
          "output_type": "stream",
          "name": "stdout",
          "text": [
            "['\\ufeffOne', 'morning', 'when', 'Gregor', 'Samsa', 'woke', 'from', 'troubled', 'dreams', 'he', 'found', 'himself', 'transformed', 'in', 'his', 'bed', 'into', 'a', 'horrible', 'vermin', 'He', 'lay', 'on', 'his', 'armourlike', 'back', 'and', 'if', 'he', 'lifted', 'his', 'head', 'a', 'little', 'he', 'could', 'see', 'his', 'brown', 'belly', 'slightly', 'domed', 'and', 'divided', 'by', 'arches', 'into', 'stiff', 'sections', 'The', 'bedding', 'was', 'hardly', 'able', 'to', 'cover', 'it', 'and', 'seemed', 'ready', 'to', 'slide', 'off', 'any', 'moment', 'His', 'many', 'legs', 'pitifully', 'thin', 'compared', 'with', 'the', 'size', 'of', 'the', 'rest', 'of', 'him', 'waved', 'about', 'helplessly', 'as', 'he', 'looked', 'Whats', 'happened', 'to', 'me', 'he', 'thought', 'It', 'wasnt', 'a', 'dream', 'His', 'room', 'a', 'proper', 'human']\n"
          ]
        }
      ]
    },
    {
      "cell_type": "code",
      "source": [
        "# Sometimes text data may contain non-printable characters.\n",
        "\n",
        "re_print = re.compile('[^%s]' % re.escape(string.printable))\n",
        "result = [re_print.sub('', w) for w in words]\n",
        "print(result[:100])"
      ],
      "metadata": {
        "id": "qrfIX680SpkV",
        "colab": {
          "base_uri": "https://localhost:8080/"
        },
        "outputId": "100a36fa-3256-4f17-987f-dcd9b662ff60"
      },
      "execution_count": null,
      "outputs": [
        {
          "output_type": "stream",
          "name": "stdout",
          "text": [
            "['One', 'morning,', 'when', 'Gregor', 'Samsa', 'woke', 'from', 'troubled', 'dreams,', 'he', 'found', 'himself', 'transformed', 'in', 'his', 'bed', 'into', 'a', 'horrible', 'vermin.', 'He', 'lay', 'on', 'his', 'armour-like', 'back,', 'and', 'if', 'he', 'lifted', 'his', 'head', 'a', 'little', 'he', 'could', 'see', 'his', 'brown', 'belly,', 'slightly', 'domed', 'and', 'divided', 'by', 'arches', 'into', 'stiff', 'sections.', 'The', 'bedding', 'was', 'hardly', 'able', 'to', 'cover', 'it', 'and', 'seemed', 'ready', 'to', 'slide', 'off', 'any', 'moment.', 'His', 'many', 'legs,', 'pitifully', 'thin', 'compared', 'with', 'the', 'size', 'of', 'the', 'rest', 'of', 'him,', 'waved', 'about', 'helplessly', 'as', 'he', 'looked.', '\"What\\'s', 'happened', 'to', 'me?\"', 'he', 'thought.', 'It', \"wasn't\", 'a', 'dream.', 'His', 'room,', 'a', 'proper', 'human']\n"
          ]
        }
      ]
    },
    {
      "cell_type": "code",
      "source": [
        "# Normalizing Case\n",
        "\n",
        "# We can convert all words to lowercase by calling the lower() function on each\n",
        "# word. For example:\n",
        "\n",
        "words = text.split()\n",
        "# convert to lower case\n",
        "words = [word.lower() for word in words]\n",
        "print(words[:100])"
      ],
      "metadata": {
        "colab": {
          "base_uri": "https://localhost:8080/"
        },
        "id": "f3Z12moyTXnl",
        "outputId": "440e1c73-5dd0-4526-ea1d-7a2d56a6882b"
      },
      "execution_count": null,
      "outputs": [
        {
          "output_type": "stream",
          "name": "stdout",
          "text": [
            "['\\ufeffone', 'morning,', 'when', 'gregor', 'samsa', 'woke', 'from', 'troubled', 'dreams,', 'he', 'found', 'himself', 'transformed', 'in', 'his', 'bed', 'into', 'a', 'horrible', 'vermin.', 'he', 'lay', 'on', 'his', 'armour-like', 'back,', 'and', 'if', 'he', 'lifted', 'his', 'head', 'a', 'little', 'he', 'could', 'see', 'his', 'brown', 'belly,', 'slightly', 'domed', 'and', 'divided', 'by', 'arches', 'into', 'stiff', 'sections.', 'the', 'bedding', 'was', 'hardly', 'able', 'to', 'cover', 'it', 'and', 'seemed', 'ready', 'to', 'slide', 'off', 'any', 'moment.', 'his', 'many', 'legs,', 'pitifully', 'thin', 'compared', 'with', 'the', 'size', 'of', 'the', 'rest', 'of', 'him,', 'waved', 'about', 'helplessly', 'as', 'he', 'looked.', '\"what\\'s', 'happened', 'to', 'me?\"', 'he', 'thought.', 'it', \"wasn't\", 'a', 'dream.', 'his', 'room,', 'a', 'proper', 'human']\n"
          ]
        }
      ]
    },
    {
      "cell_type": "markdown",
      "source": [
        "### Tokenization and Cleaning with NLTK"
      ],
      "metadata": {
        "id": "HKUU5uroUFw1"
      }
    },
    {
      "cell_type": "code",
      "source": [
        "import nltk\n",
        "# nltk.download()"
      ],
      "metadata": {
        "id": "vTS5V_t9TsrA"
      },
      "execution_count": null,
      "outputs": []
    },
    {
      "cell_type": "code",
      "source": [
        "# NLTK script to split text into sentences.\n",
        "\n",
        "\n",
        "# nltk.download('punkt')\n",
        "from nltk import sent_tokenize\n",
        "# load data\n",
        "filename = 'metamorphosis_clean.txt'\n",
        "file = open(filename, 'rt')\n",
        "text = file.read()\n",
        "file.close()\n",
        "# split into sentences\n",
        "sentences = sent_tokenize(text)\n",
        "print(sentences[0])"
      ],
      "metadata": {
        "colab": {
          "base_uri": "https://localhost:8080/"
        },
        "id": "H8-vpR1c4J4-",
        "outputId": "5444fc06-1259-4b37-b35d-30ccca01e0a2"
      },
      "execution_count": null,
      "outputs": [
        {
          "output_type": "stream",
          "name": "stdout",
          "text": [
            "﻿One morning, when Gregor Samsa woke from troubled dreams, he found\n",
            "himself transformed in his bed into a horrible vermin.\n"
          ]
        }
      ]
    },
    {
      "cell_type": "code",
      "source": [
        "# NLTK script to split text into words.\n",
        "\n",
        "from nltk.tokenize import word_tokenize\n",
        "# load data\n",
        "filename = 'metamorphosis_clean.txt'\n",
        "file = open(filename, 'rt')\n",
        "text = file.read()\n",
        "file.close()\n",
        "# split into words\n",
        "tokens = word_tokenize(text)\n",
        "print(tokens[:100])"
      ],
      "metadata": {
        "colab": {
          "base_uri": "https://localhost:8080/"
        },
        "id": "NjEbdA5L4ma5",
        "outputId": "f42f8da1-9adb-4f79-dbf1-9ef4a27dadc7"
      },
      "execution_count": null,
      "outputs": [
        {
          "output_type": "stream",
          "name": "stdout",
          "text": [
            "['\\ufeffOne', 'morning', ',', 'when', 'Gregor', 'Samsa', 'woke', 'from', 'troubled', 'dreams', ',', 'he', 'found', 'himself', 'transformed', 'in', 'his', 'bed', 'into', 'a', 'horrible', 'vermin', '.', 'He', 'lay', 'on', 'his', 'armour-like', 'back', ',', 'and', 'if', 'he', 'lifted', 'his', 'head', 'a', 'little', 'he', 'could', 'see', 'his', 'brown', 'belly', ',', 'slightly', 'domed', 'and', 'divided', 'by', 'arches', 'into', 'stiff', 'sections', '.', 'The', 'bedding', 'was', 'hardly', 'able', 'to', 'cover', 'it', 'and', 'seemed', 'ready', 'to', 'slide', 'off', 'any', 'moment', '.', 'His', 'many', 'legs', ',', 'pitifully', 'thin', 'compared', 'with', 'the', 'size', 'of', 'the', 'rest', 'of', 'him', ',', 'waved', 'about', 'helplessly', 'as', 'he', 'looked', '.', '``', 'What', \"'s\", 'happened', 'to']\n"
          ]
        }
      ]
    },
    {
      "cell_type": "code",
      "source": [
        "# NLTK script to remove punctuation.\n",
        "\n",
        "\n",
        "from nltk.tokenize import word_tokenize\n",
        "# load data\n",
        "filename = 'metamorphosis_clean.txt'\n",
        "file = open(filename, 'rt')\n",
        "text = file.read()\n",
        "file.close()\n",
        "# split into words\n",
        "tokens = word_tokenize(text)\n",
        "# remove all tokens that are not alphabetic\n",
        "words = [word for word in tokens if word.isalpha()]\n",
        "print(words[:100])"
      ],
      "metadata": {
        "colab": {
          "base_uri": "https://localhost:8080/"
        },
        "id": "jqMiK5_E5Xy7",
        "outputId": "d202c362-13c7-48a1-ba5a-d5ae414a7293"
      },
      "execution_count": null,
      "outputs": [
        {
          "output_type": "stream",
          "name": "stdout",
          "text": [
            "['morning', 'when', 'Gregor', 'Samsa', 'woke', 'from', 'troubled', 'dreams', 'he', 'found', 'himself', 'transformed', 'in', 'his', 'bed', 'into', 'a', 'horrible', 'vermin', 'He', 'lay', 'on', 'his', 'back', 'and', 'if', 'he', 'lifted', 'his', 'head', 'a', 'little', 'he', 'could', 'see', 'his', 'brown', 'belly', 'slightly', 'domed', 'and', 'divided', 'by', 'arches', 'into', 'stiff', 'sections', 'The', 'bedding', 'was', 'hardly', 'able', 'to', 'cover', 'it', 'and', 'seemed', 'ready', 'to', 'slide', 'off', 'any', 'moment', 'His', 'many', 'legs', 'pitifully', 'thin', 'compared', 'with', 'the', 'size', 'of', 'the', 'rest', 'of', 'him', 'waved', 'about', 'helplessly', 'as', 'he', 'looked', 'What', 'happened', 'to', 'me', 'he', 'thought', 'It', 'was', 'a', 'dream', 'His', 'room', 'a', 'proper', 'human', 'room', 'although']\n"
          ]
        }
      ]
    },
    {
      "cell_type": "code",
      "source": [
        "# Filter out Stop Words (and Pipeline)\n",
        "\n",
        "\n",
        "nltk.download('stopwords')\n",
        "from nltk.corpus import stopwords\n",
        "stop_words = stopwords.words('english')\n",
        "print(stop_words)\n",
        "print(len(stop_words))"
      ],
      "metadata": {
        "colab": {
          "base_uri": "https://localhost:8080/"
        },
        "id": "WaSLE21r52FT",
        "outputId": "c090b50e-2439-4a9c-d8f4-886b8f406b6d"
      },
      "execution_count": null,
      "outputs": [
        {
          "output_type": "stream",
          "name": "stdout",
          "text": [
            "[nltk_data] Downloading package stopwords to /root/nltk_data...\n",
            "[nltk_data]   Unzipping corpora/stopwords.zip.\n",
            "['i', 'me', 'my', 'myself', 'we', 'our', 'ours', 'ourselves', 'you', \"you're\", \"you've\", \"you'll\", \"you'd\", 'your', 'yours', 'yourself', 'yourselves', 'he', 'him', 'his', 'himself', 'she', \"she's\", 'her', 'hers', 'herself', 'it', \"it's\", 'its', 'itself', 'they', 'them', 'their', 'theirs', 'themselves', 'what', 'which', 'who', 'whom', 'this', 'that', \"that'll\", 'these', 'those', 'am', 'is', 'are', 'was', 'were', 'be', 'been', 'being', 'have', 'has', 'had', 'having', 'do', 'does', 'did', 'doing', 'a', 'an', 'the', 'and', 'but', 'if', 'or', 'because', 'as', 'until', 'while', 'of', 'at', 'by', 'for', 'with', 'about', 'against', 'between', 'into', 'through', 'during', 'before', 'after', 'above', 'below', 'to', 'from', 'up', 'down', 'in', 'out', 'on', 'off', 'over', 'under', 'again', 'further', 'then', 'once', 'here', 'there', 'when', 'where', 'why', 'how', 'all', 'any', 'both', 'each', 'few', 'more', 'most', 'other', 'some', 'such', 'no', 'nor', 'not', 'only', 'own', 'same', 'so', 'than', 'too', 'very', 's', 't', 'can', 'will', 'just', 'don', \"don't\", 'should', \"should've\", 'now', 'd', 'll', 'm', 'o', 're', 've', 'y', 'ain', 'aren', \"aren't\", 'couldn', \"couldn't\", 'didn', \"didn't\", 'doesn', \"doesn't\", 'hadn', \"hadn't\", 'hasn', \"hasn't\", 'haven', \"haven't\", 'isn', \"isn't\", 'ma', 'mightn', \"mightn't\", 'mustn', \"mustn't\", 'needn', \"needn't\", 'shan', \"shan't\", 'shouldn', \"shouldn't\", 'wasn', \"wasn't\", 'weren', \"weren't\", 'won', \"won't\", 'wouldn', \"wouldn't\"]\n",
            "179\n"
          ]
        }
      ]
    },
    {
      "cell_type": "markdown",
      "source": [
        "Stop Words:\n",
        "\n",
        "You can see that they are all lower case and have punctuation removed. \n",
        "\n",
        "You could compare\n",
        "your tokens to the stop words and filter them out, but you must ensure that your text is prepared\n",
        "the same way. \n",
        "\n",
        "Let's demonstrate this with a small pipeline of text preparation including:\n",
        "-  Load the raw text.\n",
        "-  Split into tokens.\n",
        "-  Convert to lowercase.\n",
        "-  Remove punctuation from each token.\n",
        "-  Filter out remaining tokens that are not alphabetic.\n",
        "-  Filter out tokens that are stop words."
      ],
      "metadata": {
        "id": "FAh0M0A46npy"
      }
    },
    {
      "cell_type": "code",
      "source": [
        "import string\n",
        "import re\n",
        "from nltk.tokenize import word_tokenize\n",
        "from nltk.corpus import stopwords\n",
        "# load data\n",
        "filename = 'metamorphosis_clean.txt'\n",
        "file = open(filename, 'rt')\n",
        "text = file.read()\n",
        "file.close()\n",
        "# split into words\n",
        "tokens = word_tokenize(text)\n",
        "# convert to lower case\n",
        "tokens = [w.lower() for w in tokens]\n",
        "# prepare regex for char filtering\n",
        "re_punc = re.compile('[%s]' % re.escape(string.punctuation))\n",
        "# remove punctuation from each word\n",
        "stripped = [re_punc.sub('', w) for w in tokens]\n",
        "# remove remaining tokens that are not alphabetic\n",
        "words = [word for word in stripped if word.isalpha()]\n",
        "# filter out stop words\n",
        "stop_words = set(stopwords.words('english'))\n",
        "words = [w for w in words if not w in stop_words]\n",
        "print(words[:100])"
      ],
      "metadata": {
        "colab": {
          "base_uri": "https://localhost:8080/"
        },
        "id": "tR5SqrQq6MCt",
        "outputId": "d83aaee0-646e-4509-a3d3-fef0893f1ed2"
      },
      "execution_count": null,
      "outputs": [
        {
          "output_type": "stream",
          "name": "stdout",
          "text": [
            "['morning', 'gregor', 'samsa', 'woke', 'troubled', 'dreams', 'found', 'transformed', 'bed', 'horrible', 'vermin', 'lay', 'armourlike', 'back', 'lifted', 'head', 'little', 'could', 'see', 'brown', 'belly', 'slightly', 'domed', 'divided', 'arches', 'stiff', 'sections', 'bedding', 'hardly', 'able', 'cover', 'seemed', 'ready', 'slide', 'moment', 'many', 'legs', 'pitifully', 'thin', 'compared', 'size', 'rest', 'waved', 'helplessly', 'looked', 'happened', 'thought', 'nt', 'dream', 'room', 'proper', 'human', 'room', 'although', 'little', 'small', 'lay', 'peacefully', 'four', 'familiar', 'walls', 'collection', 'textile', 'samples', 'lay', 'spread', 'table', 'samsa', 'travelling', 'salesman', 'hung', 'picture', 'recently', 'cut', 'illustrated', 'magazine', 'housed', 'nice', 'gilded', 'frame', 'showed', 'lady', 'fitted', 'fur', 'hat', 'fur', 'boa', 'sat', 'upright', 'raising', 'heavy', 'fur', 'muff', 'covered', 'whole', 'lower', 'arm', 'towards', 'viewer', 'gregor']\n"
          ]
        }
      ]
    },
    {
      "cell_type": "markdown",
      "source": [
        "Running this example, we can see that in addition to all of the other transforms, stop words\n",
        "like a and to have been removed. I note that we are still left with tokens like *nt*. The rabbit\n",
        "hole is deep; there's always more we can do."
      ],
      "metadata": {
        "id": "o0rU1YSu7jwI"
      }
    },
    {
      "cell_type": "markdown",
      "source": [
        "Stem Words\n",
        "\n",
        "Stemming refers to the process of reducing each word to its root or base. For example *fishing,\n",
        "fished, fisher* all reduce to the stem **fish**.\n",
        "\n",
        "There are many stemming algorithms,\n",
        "although a popular and long-standing method is the *Porter Stemming* algorithm. This method\n",
        "is available in NLTK via the *PorterStemmer* class."
      ],
      "metadata": {
        "id": "LzsKlBLm7yRl"
      }
    },
    {
      "cell_type": "code",
      "source": [
        "# NLTK script stem words.\n",
        "# the stemming implementation has also reduced\n",
        "# the tokens to lowercase, likely for internal look-ups in word tables.\n",
        "\n",
        "\n",
        "from nltk.tokenize import word_tokenize\n",
        "from nltk.stem.porter import PorterStemmer\n",
        "# load data\n",
        "filename = 'metamorphosis_clean.txt'\n",
        "file = open(filename, 'rt')\n",
        "text = file.read()\n",
        "file.close()\n",
        "# split into words\n",
        "tokens = word_tokenize(text)\n",
        "# stemming of words\n",
        "porter = PorterStemmer()\n",
        "stemmed = [porter.stem(word) for word in tokens]\n",
        "print(stemmed[:100])"
      ],
      "metadata": {
        "colab": {
          "base_uri": "https://localhost:8080/"
        },
        "id": "8JSZLLu37WlY",
        "outputId": "753cc95a-db44-4248-b993-561dde3b5fa6"
      },
      "execution_count": null,
      "outputs": [
        {
          "output_type": "stream",
          "name": "stdout",
          "text": [
            "['\\ufeffone', 'morn', ',', 'when', 'gregor', 'samsa', 'woke', 'from', 'troubl', 'dream', ',', 'he', 'found', 'himself', 'transform', 'in', 'hi', 'bed', 'into', 'a', 'horribl', 'vermin', '.', 'He', 'lay', 'on', 'hi', 'armour-lik', 'back', ',', 'and', 'if', 'he', 'lift', 'hi', 'head', 'a', 'littl', 'he', 'could', 'see', 'hi', 'brown', 'belli', ',', 'slightli', 'dome', 'and', 'divid', 'by', 'arch', 'into', 'stiff', 'section', '.', 'the', 'bed', 'wa', 'hardli', 'abl', 'to', 'cover', 'it', 'and', 'seem', 'readi', 'to', 'slide', 'off', 'ani', 'moment', '.', 'hi', 'mani', 'leg', ',', 'piti', 'thin', 'compar', 'with', 'the', 'size', 'of', 'the', 'rest', 'of', 'him', ',', 'wave', 'about', 'helplessli', 'as', 'he', 'look', '.', '``', 'what', \"'s\", 'happen', 'to']\n"
          ]
        }
      ]
    },
    {
      "cell_type": "markdown",
      "source": [
        "Additional Text Cleaning Considerations\n",
        "\n",
        "Here is a shortlist of additional considerations when cleaning text:\n",
        "-  Handling large documents and large collections of text documents that do not fit into\n",
        "memory.\n",
        "-  Extracting text from markup like HTML, PDF, or other structured document formats.\n",
        "-  Transliteration of characters from other languages into English.\n",
        "-  Decoding Unicode characters into a normalized form, such as UTF8.\n",
        "-  Handling of domain specific words, phrases, and acronyms.\n",
        "-  Handling or removing numbers, such as dates and amounts.\n",
        "-  Locating and correcting common typos and misspellings."
      ],
      "metadata": {
        "id": "EzjocET19xxA"
      }
    },
    {
      "cell_type": "markdown",
      "source": [
        "### How to Prepare Text Data with scikit-learn\n",
        "\n",
        "After completing this tutorial, you will know:\n",
        "-  How to convert text to word count vectors with *CountVectorizer.*\n",
        "-  How to convert text to word frequency vectors with *TfidfVectorizer.*\n",
        "-  How to convert text to unique integers with *HashingVectorizer.*"
      ],
      "metadata": {
        "id": "pcNdxGTF-RTT"
      }
    },
    {
      "cell_type": "markdown",
      "source": [
        "The Bag-of-Words Model\n",
        "\n",
        "The model is simple in that it throws away all of the order\n",
        "information in the words and focuses on the occurrence of words in a document.\n",
        "\n",
        "This can be done by assigning each word a unique number.\n",
        "\n",
        "Then any document we see can be encoded\n",
        "as a fixed-length vector with the length of the vocabulary of known words. \n",
        "\n",
        "The value in each position in the vector could be filled with a count or frequency of each word in the encoded\n",
        "document."
      ],
      "metadata": {
        "id": "ZWD7JyBh_ZWg"
      }
    },
    {
      "cell_type": "markdown",
      "source": [
        "The scikit-learn library provides 3 different schemes that we can use, and we will briefly look at each.\n",
        "\n",
        "- Word Counts with **CountVectorizer**\n",
        "\n",
        "The CountVectorizer provides a simple way to both tokenize a collection of text documents\n",
        "and build a vocabulary of known words, but also to encode new documents using that vocabulary.\n",
        "\n",
        "An encoded vector is returned with a length of the entire vocabulary and an integer count for the number of times each word appeared in the document. \n",
        "\n",
        "Because these vectors will\n",
        "contain a lot of zeros, we call them sparse. Python provides an efficient way of handling sparse vectors in the scipy.sparse package. \n",
        "\n",
        "The vectors returned from a call to transform() will\n",
        "be sparse vectors, and you can transform them back to NumPy arrays to look and better understand what is going on by calling the toarray() function. \n",
        "\n",
        "Below is an example of using\n",
        "the CountVectorizer to tokenize, build a vocabulary, and then encode a document.\n"
      ],
      "metadata": {
        "id": "a2XGMqBMARtX"
      }
    },
    {
      "cell_type": "code",
      "source": [
        "from sklearn.feature_extraction.text import CountVectorizer\n",
        "# list of text documents\n",
        "text = [\"The quick brown fox jumped over the lazy dog.\"]\n",
        "# create the transform\n",
        "vectorizer = CountVectorizer()\n",
        "# tokenize and build vocab\n",
        "vectorizer.fit(text)\n",
        "# summarize\n",
        "print(vectorizer.vocabulary_)\n",
        "# encode document\n",
        "vector = vectorizer.transform(text)\n",
        "# summarize encoded vector\n",
        "print('\\nshape of the encoded document: ',vector.shape)\n",
        "print(type(vector))\n",
        "print()\n",
        "print('sparse vector:\\n',vector)\n",
        "print()\n",
        "print(vector.toarray())"
      ],
      "metadata": {
        "colab": {
          "base_uri": "https://localhost:8080/"
        },
        "id": "ym9qzGiI8kC0",
        "outputId": "3c0f936e-04f3-4286-b364-794b1ae34d82"
      },
      "execution_count": null,
      "outputs": [
        {
          "output_type": "stream",
          "name": "stdout",
          "text": [
            "{'the': 7, 'quick': 6, 'brown': 0, 'fox': 2, 'jumped': 3, 'over': 5, 'lazy': 4, 'dog': 1}\n",
            "\n",
            "shape of the encoded document:  (1, 8)\n",
            "<class 'scipy.sparse.csr.csr_matrix'>\n",
            "\n",
            "sparse vector:\n",
            "   (0, 0)\t1\n",
            "  (0, 1)\t1\n",
            "  (0, 2)\t1\n",
            "  (0, 3)\t1\n",
            "  (0, 4)\t1\n",
            "  (0, 5)\t1\n",
            "  (0, 6)\t1\n",
            "  (0, 7)\t2\n",
            "\n",
            "[[1 1 1 1 1 1 1 2]]\n"
          ]
        }
      ]
    },
    {
      "cell_type": "code",
      "source": [
        "# Importantly, the same vectorizer can be used on documents that contain words not included\n",
        "# in the vocabulary.\n",
        "\n",
        "\n",
        "# encode another document\n",
        "text2 = [\"the puppy\"]\n",
        "vector = vectorizer.transform(text2)\n",
        "print(vector.toarray())\n",
        "\n",
        "\n",
        "# The encoded vectors can then be used directly with a machine learning algorithm."
      ],
      "metadata": {
        "colab": {
          "base_uri": "https://localhost:8080/"
        },
        "id": "JxfzawNnBQyT",
        "outputId": "d2a4f1c1-c976-4e71-c98d-b770cb47a052"
      },
      "execution_count": null,
      "outputs": [
        {
          "output_type": "stream",
          "name": "stdout",
          "text": [
            "[[0 0 0 0 0 0 0 1]]\n"
          ]
        }
      ]
    },
    {
      "cell_type": "markdown",
      "source": [
        "- **Word Frequencies with TfidfVectorizer**\n",
        "\n",
        "Without going into the math, TF-IDF are word frequency scores that try to highlight\n",
        "words that are more interesting, e.g. frequent in a document but not across documents.\n",
        "\n",
        "- Term Frequency (tf): This summarizes how often a given word appears within a document.\n",
        "- Inverse Document Frequency (idf): This downscales words that appear a lot across documents.\n",
        "\n",
        "The TfidfVectorizer will tokenize documents, learn the vocabulary and inverse document frequency weightings, and allow you to encode new documents.\n",
        "\n",
        "Alternately, if you already have a\n",
        "learned *CountVectorizer*, you can use it with a **TfidfTransformer** to just calculate the inverse\n",
        "document frequencies and start encoding documents."
      ],
      "metadata": {
        "id": "j9ut0sxJDX5o"
      }
    },
    {
      "cell_type": "code",
      "source": [
        "from sklearn.feature_extraction.text import TfidfVectorizer\n",
        "# list of text documents\n",
        "text = [\"The quick brown fox jumped over the lazy dog.\",\n",
        "\"The dog.\",\n",
        "\"The fox\"]\n",
        "# create the transform\n",
        "vectorizer = TfidfVectorizer()\n",
        "# tokenize and build vocab\n",
        "vectorizer.fit(text)\n",
        "# summarize\n",
        "print(vectorizer.vocabulary_)\n",
        "print('\\ntf_idf vector:\\n',vectorizer.idf_)\n",
        "\n",
        "# encode document, the first text\n",
        "vector = vectorizer.transform([text[0]])\n",
        "\n",
        "# summarize encoded vector\n",
        "print('\\nvector shape: ', vector.shape)\n",
        "print(vector.toarray())"
      ],
      "metadata": {
        "colab": {
          "base_uri": "https://localhost:8080/"
        },
        "id": "xV6w2rloC8dH",
        "outputId": "2cf1646d-93a4-4a1c-a3e1-d9049db4c936"
      },
      "execution_count": null,
      "outputs": [
        {
          "output_type": "stream",
          "name": "stdout",
          "text": [
            "{'the': 7, 'quick': 6, 'brown': 0, 'fox': 2, 'jumped': 3, 'over': 5, 'lazy': 4, 'dog': 1}\n",
            "\n",
            "tf_idf vector:\n",
            " [1.69314718 1.28768207 1.28768207 1.69314718 1.69314718 1.69314718\n",
            " 1.69314718 1.        ]\n",
            "\n",
            "vector shape:  (1, 8)\n",
            "[[0.36388646 0.27674503 0.27674503 0.36388646 0.36388646 0.36388646\n",
            "  0.36388646 0.42983441]]\n"
          ]
        }
      ]
    },
    {
      "cell_type": "markdown",
      "source": [
        "- Hashing with HashingVectorizer\n",
        "\n",
        "Counts and frequencies can be very useful, but one limitation of these methods is that the vocabulary can become very large. This, in turn, will require large vectors for encoding\n",
        "documents and impose large requirements on memory and slow down algorithms. \n",
        "\n",
        "A clever work\n",
        "around is to use a one way hash of words to convert them to integers. \n",
        "\n",
        "The clever part is that\n",
        "no vocabulary is required and you can choose an arbitrary-long fixed length vector.\n",
        "\n",
        "A downside is that the hash is a one-way function so there is no way to convert the encoding back to a word\n",
        "(which may not matter for many supervised learning tasks).\n",
        "\n",
        "\n",
        "The values\n",
        "of the encoded document correspond to normalized word counts by default in the range of -1 to 1, but could be made simple integer counts by changing the default configuration."
      ],
      "metadata": {
        "id": "B6KYMM72GQ51"
      }
    },
    {
      "cell_type": "code",
      "source": [
        "from sklearn.feature_extraction.text import HashingVectorizer\n",
        "# list of text documents\n",
        "text = [\"The quick brown fox jumped over the lazy dog.\"]\n",
        "# create the transform\n",
        "vectorizer = HashingVectorizer(n_features=20)\n",
        "# encode document\n",
        "vector = vectorizer.transform(text)\n",
        "# summarize encoded vector\n",
        "print(vector.shape)\n",
        "print(vector.toarray())"
      ],
      "metadata": {
        "colab": {
          "base_uri": "https://localhost:8080/"
        },
        "id": "Fd-Dcft4EyBQ",
        "outputId": "15417549-dafc-4b27-d993-2b5113b06bb7"
      },
      "execution_count": null,
      "outputs": [
        {
          "output_type": "stream",
          "name": "stdout",
          "text": [
            "(1, 20)\n",
            "[[ 0.          0.          0.          0.          0.          0.33333333\n",
            "   0.         -0.33333333  0.33333333  0.          0.          0.33333333\n",
            "   0.          0.          0.         -0.33333333  0.          0.\n",
            "  -0.66666667  0.        ]]\n"
          ]
        }
      ]
    },
    {
      "cell_type": "markdown",
      "source": [
        "### How to Prepare Text Data With Keras"
      ],
      "metadata": {
        "id": "V9qSyWeiKEYf"
      }
    },
    {
      "cell_type": "markdown",
      "source": [
        "The Keras deep learning library provides some basic tools to help you\n",
        "prepare your text data. \n",
        "\n",
        "In this tutorial, you will discover how you can use Keras to prepare\n",
        "your text data.\n",
        "\n",
        "- About the convenience methods that you can use to quickly prepare text data.\n",
        "- The Tokenizer API that can be fit on training data and used to encode training, validation,\n",
        "and test documents.\n",
        "- The range of 4 different document encoding schemes offered by the Tokenizer API.\n",
        "\n",
        "**Split Words with text to word sequence**\n",
        "\n",
        "Keras provides the\n",
        "text to word sequence() function that you can use to split text into a list of words. \n",
        "\n",
        "By default, this function automatically does 3 things:\n",
        "\n",
        "- Splits words by space.\n",
        "- Filters out punctuation.\n",
        "- Converts text to lowercase (lower=True).\n",
        "\n",
        "You can change any of these defaults by passing arguments to the function.\n",
        "\n"
      ],
      "metadata": {
        "id": "0vnO0pcaK2RU"
      }
    },
    {
      "cell_type": "code",
      "source": [
        "from keras.preprocessing.text import text_to_word_sequence\n",
        "# define the document\n",
        "text = 'The quick brown fox jumped over the lazy dog.'\n",
        "# tokenize the document\n",
        "result = text_to_word_sequence(text)\n",
        "print(result)"
      ],
      "metadata": {
        "id": "XxeK9CFNH-M7",
        "colab": {
          "base_uri": "https://localhost:8080/"
        },
        "outputId": "1c68e320-29ec-4133-bed0-558de0a6d6f1"
      },
      "execution_count": null,
      "outputs": [
        {
          "output_type": "stream",
          "name": "stdout",
          "text": [
            "['the', 'quick', 'brown', 'fox', 'jumped', 'over', 'the', 'lazy', 'dog']\n"
          ]
        }
      ]
    },
    {
      "cell_type": "markdown",
      "source": [
        "**Encoding with one hot**\n",
        "\n",
        "In addition to the text, the vocabulary size (total words) must be specified. \n",
        "\n",
        "This could be the\n",
        "total number of words in the document or more if you intend to encode additional documents\n",
        "that contains additional words.\n",
        "\n",
        "We can use the text to word sequence() function from the previous section to split the\n",
        "document into words and then use a set to represent only the unique words in the document."
      ],
      "metadata": {
        "id": "0UBtcPlkLp8o"
      }
    },
    {
      "cell_type": "code",
      "source": [
        "# Note: Given the stochastic nature of neural networks, your specific results may vary. Consider\n",
        "# running the example a few times.\n",
        "\n",
        "# Example of one hot encoding.\n",
        "\n",
        "from keras.preprocessing.text import one_hot\n",
        "from keras.preprocessing.text import text_to_word_sequence\n",
        "# define the document\n",
        "text = 'The quick brown fox jumped over the lazy dog.'\n",
        "# estimate the size of the vocabulary\n",
        "words = set(text_to_word_sequence(text))\n",
        "vocab_size = len(words)\n",
        "print(vocab_size)\n",
        "# integer encode the document\n",
        "result = one_hot(text, round(vocab_size*1.3))\n",
        "print(result)"
      ],
      "metadata": {
        "colab": {
          "base_uri": "https://localhost:8080/"
        },
        "id": "DNlDUlhnLmNP",
        "outputId": "7d248227-7fbc-4a82-c47a-5846b603ce2a"
      },
      "execution_count": null,
      "outputs": [
        {
          "output_type": "stream",
          "name": "stdout",
          "text": [
            "8\n",
            "[7, 7, 8, 5, 8, 7, 7, 8, 4]\n"
          ]
        }
      ]
    },
    {
      "cell_type": "markdown",
      "source": [
        "**Hash Encoding with hashing trick**\n",
        "\n",
        "A limitation of integer and count base encodings is that they must maintain a vocabulary of\n",
        "words and their mapping to integers. \n",
        "\n",
        "An alternative to this approach is to use a one-way hash\n",
        "function to convert words to integers. \n",
        "\n",
        "This avoids the need to keep track of a vocabulary, which\n",
        "is faster and requires less memory.\n",
        "\n"
      ],
      "metadata": {
        "id": "_Rkf6zoIMUoC"
      }
    },
    {
      "cell_type": "code",
      "source": [
        "# Example of hash encoding.\n",
        "\n",
        "from keras.preprocessing.text import hashing_trick\n",
        "from keras.preprocessing.text import text_to_word_sequence\n",
        "# define the document\n",
        "text = 'The quick brown fox jumped over the lazy dog.'\n",
        "# estimate the size of the vocabulary\n",
        "words = set(text_to_word_sequence(text))\n",
        "vocab_size = len(words)\n",
        "print(vocab_size)\n",
        "# integer encode the document\n",
        "result = hashing_trick(text, round(vocab_size*1.3), hash_function='md5')\n",
        "print(result)"
      ],
      "metadata": {
        "colab": {
          "base_uri": "https://localhost:8080/"
        },
        "id": "rmrvXJc2MSgR",
        "outputId": "578ee5bc-fc8d-41e1-fa14-56f406e3c899"
      },
      "execution_count": null,
      "outputs": [
        {
          "output_type": "stream",
          "name": "stdout",
          "text": [
            "8\n",
            "[6, 4, 1, 2, 7, 5, 6, 2, 6]\n"
          ]
        }
      ]
    },
    {
      "cell_type": "markdown",
      "source": [
        "**Tokenizer API**\n",
        "\n",
        "\n",
        "Keras provides a more sophisticated API for preparing text that can be fit and reused to prepare multiple text documents.\n",
        "\n",
        "This may be the preferred approach for large projects. \n",
        "\n",
        "Keras provides\n",
        "the Tokenizer class for preparing text documents for deep learning. \n",
        "\n",
        "The Tokenizer must be constructed and then fit on either raw text documents or integer encoded text documents.\n",
        "\n"
      ],
      "metadata": {
        "id": "-uQqZf8eNKSM"
      }
    },
    {
      "cell_type": "code",
      "source": [
        "from keras.preprocessing.text import Tokenizer\n",
        "# define 5 documents\n",
        "docs = ['Well done!',\n",
        "'Good work',\n",
        "'Great effort',\n",
        "'nice work',\n",
        "'Excellent!']\n",
        "# create the tokenizer\n",
        "t = Tokenizer()\n",
        "# fit the tokenizer on the documents\n",
        "t.fit_on_texts(docs)"
      ],
      "metadata": {
        "id": "YAuDsaXANizp"
      },
      "execution_count": null,
      "outputs": []
    },
    {
      "cell_type": "markdown",
      "source": [
        "Once fit, the Tokenizer provides 4 attributes that you can use to query what has been\n",
        "learned about your documents:\n",
        "- word **counts**: A dictionary mapping of words and their occurrence counts when the Tokenizer was fit.\n",
        "- word **docs**: A dictionary mapping of words and the number of documents that each appears in.\n",
        "- word **index**: A dictionary of words and their uniquely assigned integers.\n",
        "- **document count**: A dictionary mapping and the number of documents they appear in calculated during the fit."
      ],
      "metadata": {
        "id": "Xt_0kvK9NngZ"
      }
    },
    {
      "cell_type": "code",
      "source": [
        "# summarize what was learned\n",
        "print('word_counts:\\n', t.word_counts)\n",
        "print('\\ndocument_count:\\n',t.document_count)\n",
        "print('\\n\\nword_index:\\n',t.word_index)\n",
        "print('\\nword_docs:\\n',t.word_docs)"
      ],
      "metadata": {
        "colab": {
          "base_uri": "https://localhost:8080/"
        },
        "id": "OdGdo0_SNGiJ",
        "outputId": "e61d4817-726b-4214-c94f-96f99c98d707"
      },
      "execution_count": null,
      "outputs": [
        {
          "output_type": "stream",
          "name": "stdout",
          "text": [
            "word_counts:\n",
            " OrderedDict([('well', 1), ('done', 1), ('good', 1), ('work', 2), ('great', 1), ('effort', 1), ('nice', 1), ('excellent', 1)])\n",
            "\n",
            "document_count:\n",
            " 5\n",
            "\n",
            "\n",
            "word_index:\n",
            " {'work': 1, 'well': 2, 'done': 3, 'good': 4, 'great': 5, 'effort': 6, 'nice': 7, 'excellent': 8}\n",
            "\n",
            "word_docs:\n",
            " defaultdict(<class 'int'>, {'well': 1, 'done': 1, 'work': 2, 'good': 1, 'great': 1, 'effort': 1, 'nice': 1, 'excellent': 1})\n"
          ]
        }
      ]
    },
    {
      "cell_type": "markdown",
      "source": [
        "Once the Tokenizer has been fit on training data, it can be used to encode documents in\n",
        "the train or test datasets. \n",
        "\n",
        "The *texts_to_matrix()* function on the *Tokenizer* can be used to\n",
        "create one vector per document provided per input. \n",
        "\n",
        "The length of the vectors is the total size\n",
        "of the vocabulary. \n",
        "\n",
        "This function provides a suite of standard bag-of-words model text encoding\n",
        "schemes that can be provided via a mode argument to the function.\n",
        "\n",
        "The modes available include:\n",
        "- **binary**: Whether or not each word is present in the document. This is the **default**.\n",
        "- **count**: The count of each word in the document.\n",
        "- **tfidf**: The Text Frequency-Inverse DocumentFrequency (TF-IDF) scoring for each word in the document.\n",
        "- **freq**: The frequency of each word as a ratio of words within each document.\n",
        "\n",
        "**The Tokenizer will be the key way we will prepare text for word embeddings throughout this book.**"
      ],
      "metadata": {
        "id": "z6Q6sMI7OUUn"
      }
    },
    {
      "cell_type": "code",
      "source": [
        "# We can put all of this together with a worked example.\n",
        "\n",
        "from keras.preprocessing.text import Tokenizer\n",
        "# define 5 documents\n",
        "docs = ['Well done!',\n",
        "'Good work',\n",
        "'Great effort',\n",
        "'nice work',\n",
        "'Excellent!']\n",
        "# create the tokenizer\n",
        "t = Tokenizer()\n",
        "# fit the tokenizer on the documents\n",
        "t.fit_on_texts(docs)\n",
        "# summarize what was learned\n",
        "print('word_counts:\\n', t.word_counts)\n",
        "print('\\ndocument_count:\\n',t.document_count)\n",
        "print('\\n\\nword_index:\\n',t.word_index)\n",
        "print('\\nword_docs:\\n',t.word_docs)\n",
        "\n",
        "# integer encode documents\n",
        "encoded_docs = t.texts_to_matrix(docs, mode='count')\n",
        "print('\\n\\ntexts_to_matrix:\\n',encoded_docs)"
      ],
      "metadata": {
        "colab": {
          "base_uri": "https://localhost:8080/"
        },
        "id": "fXvkc0foOL7g",
        "outputId": "89f1cdd9-993e-439a-9a4e-1e05def87924"
      },
      "execution_count": null,
      "outputs": [
        {
          "output_type": "stream",
          "name": "stdout",
          "text": [
            "word_counts:\n",
            " OrderedDict([('well', 1), ('done', 1), ('good', 1), ('work', 2), ('great', 1), ('effort', 1), ('nice', 1), ('excellent', 1)])\n",
            "\n",
            "document_count:\n",
            " 5\n",
            "\n",
            "\n",
            "word_index:\n",
            " {'work': 1, 'well': 2, 'done': 3, 'good': 4, 'great': 5, 'effort': 6, 'nice': 7, 'excellent': 8}\n",
            "\n",
            "word_docs:\n",
            " defaultdict(<class 'int'>, {'well': 1, 'done': 1, 'work': 2, 'good': 1, 'great': 1, 'effort': 1, 'nice': 1, 'excellent': 1})\n",
            "\n",
            "\n",
            "texts_to_matrix:\n",
            " [[0. 0. 1. 1. 0. 0. 0. 0. 0.]\n",
            " [0. 1. 0. 0. 1. 0. 0. 0. 0.]\n",
            " [0. 0. 0. 0. 0. 1. 1. 0. 0.]\n",
            " [0. 1. 0. 0. 0. 0. 0. 1. 0.]\n",
            " [0. 0. 0. 0. 0. 0. 0. 0. 1.]]\n"
          ]
        }
      ]
    },
    {
      "cell_type": "markdown",
      "source": [
        "# Part IV Bag-of-Words"
      ],
      "metadata": {
        "id": "hAX2Qg7UKonM"
      }
    },
    {
      "cell_type": "markdown",
      "source": [
        "The bag-of-words model is a way of representing text data when modeling text with machine learning algorithms.\n",
        "\n",
        "In this\n",
        "tutorial, you will discover the bag-of-words model for feature extraction in natural language\n",
        "processing. \n",
        "\n",
        "After completing this tutorial, you will know:\n",
        "- What the bag-of-words model is and why it is needed to represent text.\n",
        "- How to develop a bag-of-words model for a collection of documents.\n",
        "- How to use different techniques to prepare a vocabulary and score words.\n",
        "\n",
        "Machine learning algorithms cannot work\n",
        "with raw text directly; the text must be converted into numbers. \n",
        "\n",
        "Specifically, vectors of numbers.\n",
        "\n",
        "*In language processing, the vectors x are derived from textual data, in order to reflect various linguistic properties of the text.*\n",
        "\n",
        "This is called feature extraction or feature encoding. \n",
        "\n",
        "A popular and simple method of feature extraction with text data is called the bag-of-words model of text.\n",
        "\n",
        "The approach is very simple and \n",
        "flexible, and can be used in a myriad of ways for extracting features from documents. \n",
        "\n",
        "A bag-of-words is a representation of text that describes the occurrence of words within a document. \n",
        "\n",
        "It involves two things:\n",
        "- A vocabulary of known words.\n",
        "- A measure of the presence of known words.\n",
        "\n",
        "It is called a bag-of-words , because any information about the order or structure of words in the document is discarded. \n",
        "\n",
        "The model is only concerned with whether known words **occur** in\n",
        "the document, **not where** in the document."
      ],
      "metadata": {
        "id": "WobS0Tw6QhdC"
      }
    },
    {
      "cell_type": "markdown",
      "source": [
        "*A very common feature extraction procedures for sentences and documents is the bag-of-words approach (BOW). In this approach, we look at the histogram of the\n",
        "words within the text, i.e. considering each word count as a feature.*\n",
        "\n",
        "The bag-of-words can be as simple or complex as you like. \n",
        "\n",
        "The complexity comes both in deciding how to design\n",
        "the vocabulary of known words (or tokens) and how to score the presence of known words.\n",
        "\n"
      ],
      "metadata": {
        "id": "SI_1NKvQT9YJ"
      }
    },
    {
      "cell_type": "markdown",
      "source": [
        "**Example of the Bag-of-Words Model**\n",
        "\n",
        "Sample of text from A Tale of Two Cities by Charles Dickens.\n",
        "\n",
        "It was the best of times,\n",
        "\n",
        "it was the worst of times,\n",
        "\n",
        "it was the age of wisdom,\n",
        "\n",
        "it was the age of foolishness,\n",
        "\n",
        "For this small example, let's treat each line as a separate document and the 4 lines as our entire corpus of documents.\n",
        "\n",
        "**list of all of the words in our model vocabulary.**\n",
        "- it\n",
        "- was\n",
        "- the\n",
        "- best\n",
        "- of\n",
        "- times\n",
        "- worst\n",
        "- age\n",
        "- wisdom\n",
        "- foolishness\n",
        "\n",
        "That is a vocabulary of 10 words from a corpus containing 24 words."
      ],
      "metadata": {
        "id": "SSxH4EhnUsI3"
      }
    },
    {
      "cell_type": "markdown",
      "source": [
        "**Create Document Vectors**\n",
        "\n",
        "Because\n",
        "we know the vocabulary has 10 words, we can use a fixed-length document representation of 10, with one position in the vector to score each word. \n",
        "\n",
        "The simplest scoring method is to mark the\n",
        "presence of words as a boolean value, 0 for absent, 1 for present.\n",
        "\n",
        "first document (It was the best of times) and convert it into a binary vector. The scoring of the document would look as follows:\n",
        "\n",
        "- it = 1\n",
        "-was = 1\n",
        "-the = 1\n",
        "-best = 1\n",
        "-of = 1\n",
        "-times = 1\n",
        "-worst = 0\n",
        "-age = 0\n",
        "-wisdom = 0\n",
        "-foolishness = 0\n",
        "\n",
        "As a binary vector, this would look as follows:\n",
        "\n",
        "[1, 1, 1, 1, 1, 1, 0, 0, 0, 0]\n",
        "\n",
        "The other three documents would look as follows:\n",
        "\n",
        "- \"it was the worst of times\" = [1, 1, 1, 0, 1, 1, 1, 0, 0, 0]\n",
        "- \"it was the age of wisdom\" = [1, 1, 1, 0, 1, 0, 0, 1, 1, 0]\n",
        "- \"it was the age of foolishness\" = [1, 1, 1, 0, 1, 0, 0, 1, 0, 1]\n",
        "\n",
        "New documents that\n",
        "overlap with the vocabulary of known words, but may contain words outside of the vocabulary, can still be encoded, where only the **occurrence of known words** are scored and unknown words are ignored."
      ],
      "metadata": {
        "id": "XkyOpoISVbXx"
      }
    },
    {
      "cell_type": "markdown",
      "source": [
        "**Managing Vocabulary**\n",
        "\n",
        "You can\n",
        "imagine that for a very large corpus, such as thousands of books, that the length of the vector\n",
        "might be thousands or millions of positions. Further, each document may contain very few of the known words in the vocabulary.\n",
        "\n",
        "This results in a vector with lots of zero scores, called a sparse vector or sparse representation.\n",
        "\n",
        "Sparse vectors require more memory and computational resources when modeling and the vast number of positions or dimensions can make the modeling process very challenging for traditional algorithms. \n",
        "\n",
        "As such, there is pressure to decrease the size of the vocabulary when\n",
        "using a bag-of-words model.\n",
        "\n",
        "There are simple text cleaning techniques that can be used as a first step, such as:\n",
        "\n",
        "- Ignoring case.\n",
        "- Ignoring punctuation.\n",
        "- Ignoring frequent words that don't contain much information, called **stop words**, like a, of, etc.\n",
        "- Fixing misspelled words.\n",
        "- Reducing words to their stem (e.g. play from playing) using stemming algorithms.\n",
        "\n",
        "-----------------------------------------\n",
        "A more sophisticated approach is to create a vocabulary of grouped words. This both\n",
        "changes the scope of the vocabulary and allows the bag-of-words to capture a little bit more\n",
        "meaning from the document. \n",
        "\n",
        "In this approach, each word or token is called a *gram*. \n",
        "\n",
        "Creating a vocabulary of *two-word pairs* is, in turn, called a *bigram* model. \n",
        "\n",
        "Again, only the bigrams that\n",
        "appear in the corpus are modeled, not all possible bigrams.\n",
        "\n",
        "An n-gram is an n-token sequence of words: a 2-gram (more commonly called a\n",
        "bigram) is a two-word sequence of words like \\please turn\", \\turn your\", or \\your homework\", and a 3-gram (more commonly called a **trigram**) is a three-word sequence of words like \\please turn your\", or \\turn your homework\".\n",
        "- \n",
        "Often a simple\n",
        "bigram approach is better than a 1-gram bag-of-words model for tasks like documentation\n",
        "classification."
      ],
      "metadata": {
        "id": "xw6NIj5NXxUX"
      }
    },
    {
      "cell_type": "markdown",
      "source": [
        "**Scoring Words**\n",
        "\n",
        "\n",
        "- Word Hashing: \n",
        "\n",
        "    Words are hashed deterministically to the same integer index in the target hash space. A binary score or count can then be used to score the word. \n",
        "\n",
        "    This is called the hash trick or feature\n",
        "    hashing. \n",
        "\n",
        "    The challenge is to choose a hash space to accommodate the chosen vocabulary size to minimize the probability of collisions and trade-of sparsity.\n",
        "\n",
        "- TF-IDF\n",
        "    \n",
        "    **Term Frequency (TF)**: is a scoring of the frequency of the word in the current document.\n",
        "    \n",
        "    **Inverse Document Frequency (IDF)**: is a scoring of how rare the word is across documents.\n",
        "    \n",
        "    The scores are a weighting where not all words are equally as important or interesting. \n",
        "    \n",
        "    The scores have the effect of highlighting words that are distinct (contain useful information) in a given document."
      ],
      "metadata": {
        "id": "G_86OSeCaRFp"
      }
    },
    {
      "cell_type": "markdown",
      "source": [
        "**Limitations of Bag-of-Words**\n",
        "\n",
        "The bag-of-words model is very simple to understand and implement and offers a lot of exibility for customization on your specific text data. \n",
        "\n",
        "It has been used with great success on prediction\n",
        "problems like language modeling and documentation classification. \n",
        "\n",
        "Nevertheless, it suffers from some shortcomings, such as:\n",
        "\n",
        "- **Vocabulary**: The vocabulary requires careful design, most specifically in order to manage\n",
        "the size, which impacts the sparsity of the document representations.\n",
        "\n",
        "- **Sparsity**: Sparse representations are harder to model both for computational reasons\n",
        "(space and time complexity) and also for information reasons, where the challenge is for\n",
        "the models to harness so little information in such a large representational space.\n",
        "\n",
        "- **Meaning**: Discarding word order ignores the context, and in turn meaning of words in\n",
        "the document (semantics). Context and meaning can offer a lot to the model, that if\n",
        "modeled could tell the difference between the same words differently arranged (this is interesting vs is this interesting), synonyms (old bike vs used bike), and much more."
      ],
      "metadata": {
        "id": "6Cx4f8gEcQ07"
      }
    },
    {
      "cell_type": "markdown",
      "source": [
        "## **How to Prepare Movie Review Data for Sentiment Analysis**\n",
        "\n",
        "**Text data preparation is different for each problem.**\n",
        "\n",
        "Preparation starts with simple steps, like\n",
        "loading data, but quickly gets diffcult with cleaning tasks that are very specific to the data you\n",
        "are working with. \n",
        "\n",
        "You need help as to where to begin and what order to work through the steps\n",
        "from raw data to data ready for modeling. \n",
        "\n",
        "In this tutorial, you will discover how to prepare\n",
        "movie review text data for sentiment analysis, step-by-step. \n",
        "\n",
        "After completing this tutorial, you will know:\n",
        "- How to load text data and clean it to remove punctuation and other non-words.\n",
        "- How to develop a vocabulary, tailor it, and save it to file.\n",
        "- How to prepare movie reviews using cleaning and a pre-defined vocabulary and save them to new files ready for modeling.\n",
        "\n",
        "This tutorial is divided into the following parts:\n",
        "1. Movie Review Dataset\n",
        "2. Load Text Data\n",
        "3. Clean Text Data\n",
        "4. Develop Vocabulary\n",
        "5. Save Prepared Data\n",
        "\n",
        "Our data contains 1000 positive and 1000 negative reviews all written before 2002,\n",
        "with a cap of 20 reviews per author (312 authors total) per category. We refer to this corpus as the polarity dataset.\n",
        "\n",
        "The data has been cleaned up somewhat, for example:\n",
        "- The dataset is comprised of only English reviews.\n",
        "- All text has been converted to lowercase.\n",
        "- There is white space around punctuation like periods, commas, and brackets.\n",
        "- Text has been split into one sentence per line."
      ],
      "metadata": {
        "id": "MdnyjSomr73n"
      }
    },
    {
      "cell_type": "code",
      "source": [
        "# Because there are lots of files to be read in memory, I have uploaded the folders in \n",
        "# Google Drive, so I have to mount it first, then read the data\n",
        "\n",
        "# In this method the Authentication of google drive will open a new window.\n",
        "# There are also other ways to inform the Auth to google in program text\n",
        "\n",
        "\n",
        "from google.colab import drive\n",
        "drive.mount('/content/gdrive')     # Mounting Google Drive in Colab"
      ],
      "metadata": {
        "id": "gITI5xVPQCoG",
        "colab": {
          "base_uri": "https://localhost:8080/"
        },
        "outputId": "fabab835-de25-4950-8e1f-929e0e52db60"
      },
      "execution_count": null,
      "outputs": [
        {
          "output_type": "stream",
          "name": "stdout",
          "text": [
            "Mounted at /content/gdrive\n"
          ]
        }
      ]
    },
    {
      "cell_type": "code",
      "source": [
        "# Test the reading of the file from Drive\n",
        "\n",
        "with open('/content/gdrive/My Drive/txt_sentoken/neg/cv000_29416.txt', 'r') as f:\n",
        "    text_neg = f.read()\n",
        "# print(text_neg)"
      ],
      "metadata": {
        "id": "cCtd6AttKrdz"
      },
      "execution_count": null,
      "outputs": []
    },
    {
      "cell_type": "code",
      "source": [
        "# We can turn this into a function called load doc() that takes a filename of the document to load and\n",
        "# returns the text.\n",
        "\n",
        "def load_doc(filename):\n",
        "    # open the file as read only\n",
        "    with open(filename, 'r') as f:\n",
        "        text = f.read()\n",
        "    # close the file\n",
        "    file.close()\n",
        "    return text"
      ],
      "metadata": {
        "id": "_ZHgnDRuBWmt"
      },
      "execution_count": null,
      "outputs": []
    },
    {
      "cell_type": "code",
      "source": [
        "#%%capture   ------------------------->>>   to hide the cell output\n",
        "\n",
        "%%capture\n",
        "\n",
        "# We have two directories each with 1,000 documents each. We can process each directory in\n",
        "# turn by first getting a list of files in the directory using the listdir() function, then loading\n",
        "# each file in turn.\n",
        "\n",
        "\n",
        "def load_doc(filename):\n",
        "    # open the file as read only\n",
        "    with open(filename, 'r') as f:\n",
        "        text = f.read()\n",
        "    # close the file\n",
        "    return text\n",
        "\n",
        "# specify directory in Google Drive to load in Colab\n",
        "directory = '/content/gdrive/My Drive/txt_sentoken/neg'\n",
        "\n",
        "from os import listdir\n",
        "\n",
        "# walk through all files in the folder\n",
        "i= 0 \n",
        "for filename in listdir(directory):\n",
        "    # skip files that do not have the right extension\n",
        "    if not filename.endswith(\".txt\"):\n",
        "        next\n",
        "    # create the full path of the file to open\n",
        "    path = directory + '/' + filename\n",
        "    # load document\n",
        "    doc = load_doc(path)\n",
        "    i += 1\n",
        "    print(i, 'Loaded %s' % filename)\n"
      ],
      "metadata": {
        "id": "DMQiJcbwB8Qy"
      },
      "execution_count": null,
      "outputs": []
    },
    {
      "cell_type": "code",
      "source": [
        "import nltk\n",
        "nltk.download('stopwords')"
      ],
      "metadata": {
        "colab": {
          "base_uri": "https://localhost:8080/"
        },
        "id": "hOJIvntYIaq2",
        "outputId": "e8d90f99-2d85-4160-c847-2c1a042c39ce"
      },
      "execution_count": null,
      "outputs": [
        {
          "output_type": "stream",
          "name": "stdout",
          "text": [
            "[nltk_data] Downloading package stopwords to /root/nltk_data...\n",
            "[nltk_data]   Unzipping corpora/stopwords.zip.\n"
          ]
        },
        {
          "output_type": "execute_result",
          "data": {
            "text/plain": [
              "True"
            ]
          },
          "metadata": {},
          "execution_count": 3
        }
      ]
    },
    {
      "cell_type": "code",
      "source": [
        "# Below is an updated version of cleaning this review for one file cv000_29416.txt\n",
        "\n",
        "from nltk.corpus import stopwords\n",
        "import string\n",
        "import re\n",
        "\n",
        "# # load doc into memory\n",
        "# def load_doc(filename):\n",
        "    # # open the file as read only\n",
        "    # file = open(filename, 'r')\n",
        "    # # read all text\n",
        "    # text = file.read()\n",
        "    # # close the file\n",
        "    # file.close()\n",
        "    # return text\n",
        "\n",
        "directory = '/content/gdrive/My Drive/txt_sentoken/neg'\n",
        "filename = 'cv000_29416.txt'\n",
        "path = directory + '/' + filename\n",
        "\n",
        "# load the document\n",
        "text = load_doc(path)\n",
        "\n",
        "# split into tokens by white space\n",
        "tokens = text.split()\n",
        "\n",
        "# prepare regex for char filtering\n",
        "re_punc = re.compile('[%s]' % re.escape(string.punctuation))\n",
        "\n",
        "# remove punctuation from each word\n",
        "tokens = [re_punc.sub('', w) for w in tokens]\n",
        "\n",
        "# remove remaining tokens that are not alphabetic\n",
        "tokens = [word for word in tokens if word.isalpha()]\n",
        "\n",
        "# filter out stop words\n",
        "stop_words = set(stopwords.words('english'))\n",
        "tokens = [w for w in tokens if not w in stop_words]\n",
        "\n",
        "# filter out short tokens\n",
        "tokens = [word for word in tokens if len(word) > 1]\n",
        "print(tokens)\n",
        "print('\\nNumber of Tokens:',len(tokens))"
      ],
      "metadata": {
        "colab": {
          "base_uri": "https://localhost:8080/"
        },
        "id": "ijkGco4uFMX2",
        "outputId": "7e9bf28b-3b6d-48be-ab17-3463662c66f8"
      },
      "execution_count": null,
      "outputs": [
        {
          "output_type": "stream",
          "name": "stdout",
          "text": [
            "['plot', 'two', 'teen', 'couples', 'go', 'church', 'party', 'drink', 'drive', 'get', 'accident', 'one', 'guys', 'dies', 'girlfriend', 'continues', 'see', 'life', 'nightmares', 'whats', 'deal', 'watch', 'movie', 'sorta', 'find', 'critique', 'mindfuck', 'movie', 'teen', 'generation', 'touches', 'cool', 'idea', 'presents', 'bad', 'package', 'makes', 'review', 'even', 'harder', 'one', 'write', 'since', 'generally', 'applaud', 'films', 'attempt', 'break', 'mold', 'mess', 'head', 'lost', 'highway', 'memento', 'good', 'bad', 'ways', 'making', 'types', 'films', 'folks', 'didnt', 'snag', 'one', 'correctly', 'seem', 'taken', 'pretty', 'neat', 'concept', 'executed', 'terribly', 'problems', 'movie', 'well', 'main', 'problem', 'simply', 'jumbled', 'starts', 'normal', 'downshifts', 'fantasy', 'world', 'audience', 'member', 'idea', 'whats', 'going', 'dreams', 'characters', 'coming', 'back', 'dead', 'others', 'look', 'like', 'dead', 'strange', 'apparitions', 'disappearances', 'looooot', 'chase', 'scenes', 'tons', 'weird', 'things', 'happen', 'simply', 'explained', 'personally', 'dont', 'mind', 'trying', 'unravel', 'film', 'every', 'give', 'clue', 'get', 'kind', 'fed', 'films', 'biggest', 'problem', 'obviously', 'got', 'big', 'secret', 'hide', 'seems', 'want', 'hide', 'completely', 'final', 'five', 'minutes', 'make', 'things', 'entertaining', 'thrilling', 'even', 'engaging', 'meantime', 'really', 'sad', 'part', 'arrow', 'dig', 'flicks', 'like', 'actually', 'figured', 'halfway', 'point', 'strangeness', 'start', 'make', 'little', 'bit', 'sense', 'still', 'didnt', 'make', 'film', 'entertaining', 'guess', 'bottom', 'line', 'movies', 'like', 'always', 'make', 'sure', 'audience', 'even', 'given', 'secret', 'password', 'enter', 'world', 'understanding', 'mean', 'showing', 'melissa', 'sagemiller', 'running', 'away', 'visions', 'minutes', 'throughout', 'movie', 'plain', 'lazy', 'okay', 'get', 'people', 'chasing', 'dont', 'know', 'really', 'need', 'see', 'giving', 'us', 'different', 'scenes', 'offering', 'insight', 'strangeness', 'going', 'movie', 'apparently', 'studio', 'took', 'film', 'away', 'director', 'chopped', 'shows', 'mightve', 'pretty', 'decent', 'teen', 'mindfuck', 'movie', 'somewhere', 'guess', 'suits', 'decided', 'turning', 'music', 'video', 'little', 'edge', 'would', 'make', 'sense', 'actors', 'pretty', 'good', 'part', 'although', 'wes', 'bentley', 'seemed', 'playing', 'exact', 'character', 'american', 'beauty', 'new', 'neighborhood', 'biggest', 'kudos', 'go', 'sagemiller', 'holds', 'throughout', 'entire', 'film', 'actually', 'feeling', 'characters', 'unraveling', 'overall', 'film', 'doesnt', 'stick', 'doesnt', 'entertain', 'confusing', 'rarely', 'excites', 'feels', 'pretty', 'redundant', 'runtime', 'despite', 'pretty', 'cool', 'ending', 'explanation', 'craziness', 'came', 'oh', 'way', 'horror', 'teen', 'slasher', 'flick', 'packaged', 'look', 'way', 'someone', 'apparently', 'assuming', 'genre', 'still', 'hot', 'kids', 'also', 'wrapped', 'production', 'two', 'years', 'ago', 'sitting', 'shelves', 'ever', 'since', 'whatever', 'skip', 'wheres', 'joblo', 'coming', 'nightmare', 'elm', 'street', 'blair', 'witch', 'crow', 'crow', 'salvation', 'lost', 'highway', 'memento', 'others', 'stir', 'echoes']\n",
            "\n",
            "Number of Tokens: 330\n"
          ]
        }
      ]
    },
    {
      "cell_type": "code",
      "source": [
        "# We can put this into a function called clean doc() and test it on another review, this time\n",
        "# a positive review.\n",
        "\n",
        "# turn a doc into clean tokens\n",
        "\n",
        "def clean_doc(doc):\n",
        "    # split into tokens by white space\n",
        "    tokens = doc.split()\n",
        "    # prepare regex for char filtering\n",
        "    re_punc = re.compile('[%s]' % re.escape(string.punctuation))\n",
        "    # remove punctuation from each word\n",
        "    tokens = [re_punc.sub('', w) for w in tokens]\n",
        "    # remove remaining tokens that are not alphabetic\n",
        "    tokens = [word for word in tokens if word.isalpha()]\n",
        "    # filter out stop words\n",
        "    stop_words = set(stopwords.words('english'))\n",
        "    tokens = [w for w in tokens if not w in stop_words]\n",
        "    # filter out short tokens\n",
        "    tokens = [word for word in tokens if len(word) > 1]\n",
        "    return tokens"
      ],
      "metadata": {
        "id": "29-_0MooFMVO"
      },
      "execution_count": null,
      "outputs": []
    },
    {
      "cell_type": "code",
      "source": [
        "# load the document and test the function\n",
        "\n",
        "directory = '/content/gdrive/My Drive/txt_sentoken/neg'\n",
        "filename = 'cv000_29416.txt'\n",
        "path = directory + '/' + filename\n",
        "\n",
        "text = load_doc(path)\n",
        "tokens = clean_doc(text)\n",
        "print(tokens)\n",
        "print('\\nNumber of Tokens:',len(tokens))"
      ],
      "metadata": {
        "colab": {
          "base_uri": "https://localhost:8080/"
        },
        "id": "-YdoqDHuFMSu",
        "outputId": "f160e3fb-22b4-44d0-f020-4499b09bd0b1"
      },
      "execution_count": null,
      "outputs": [
        {
          "output_type": "stream",
          "name": "stdout",
          "text": [
            "['plot', 'two', 'teen', 'couples', 'go', 'church', 'party', 'drink', 'drive', 'get', 'accident', 'one', 'guys', 'dies', 'girlfriend', 'continues', 'see', 'life', 'nightmares', 'whats', 'deal', 'watch', 'movie', 'sorta', 'find', 'critique', 'mindfuck', 'movie', 'teen', 'generation', 'touches', 'cool', 'idea', 'presents', 'bad', 'package', 'makes', 'review', 'even', 'harder', 'one', 'write', 'since', 'generally', 'applaud', 'films', 'attempt', 'break', 'mold', 'mess', 'head', 'lost', 'highway', 'memento', 'good', 'bad', 'ways', 'making', 'types', 'films', 'folks', 'didnt', 'snag', 'one', 'correctly', 'seem', 'taken', 'pretty', 'neat', 'concept', 'executed', 'terribly', 'problems', 'movie', 'well', 'main', 'problem', 'simply', 'jumbled', 'starts', 'normal', 'downshifts', 'fantasy', 'world', 'audience', 'member', 'idea', 'whats', 'going', 'dreams', 'characters', 'coming', 'back', 'dead', 'others', 'look', 'like', 'dead', 'strange', 'apparitions', 'disappearances', 'looooot', 'chase', 'scenes', 'tons', 'weird', 'things', 'happen', 'simply', 'explained', 'personally', 'dont', 'mind', 'trying', 'unravel', 'film', 'every', 'give', 'clue', 'get', 'kind', 'fed', 'films', 'biggest', 'problem', 'obviously', 'got', 'big', 'secret', 'hide', 'seems', 'want', 'hide', 'completely', 'final', 'five', 'minutes', 'make', 'things', 'entertaining', 'thrilling', 'even', 'engaging', 'meantime', 'really', 'sad', 'part', 'arrow', 'dig', 'flicks', 'like', 'actually', 'figured', 'halfway', 'point', 'strangeness', 'start', 'make', 'little', 'bit', 'sense', 'still', 'didnt', 'make', 'film', 'entertaining', 'guess', 'bottom', 'line', 'movies', 'like', 'always', 'make', 'sure', 'audience', 'even', 'given', 'secret', 'password', 'enter', 'world', 'understanding', 'mean', 'showing', 'melissa', 'sagemiller', 'running', 'away', 'visions', 'minutes', 'throughout', 'movie', 'plain', 'lazy', 'okay', 'get', 'people', 'chasing', 'dont', 'know', 'really', 'need', 'see', 'giving', 'us', 'different', 'scenes', 'offering', 'insight', 'strangeness', 'going', 'movie', 'apparently', 'studio', 'took', 'film', 'away', 'director', 'chopped', 'shows', 'mightve', 'pretty', 'decent', 'teen', 'mindfuck', 'movie', 'somewhere', 'guess', 'suits', 'decided', 'turning', 'music', 'video', 'little', 'edge', 'would', 'make', 'sense', 'actors', 'pretty', 'good', 'part', 'although', 'wes', 'bentley', 'seemed', 'playing', 'exact', 'character', 'american', 'beauty', 'new', 'neighborhood', 'biggest', 'kudos', 'go', 'sagemiller', 'holds', 'throughout', 'entire', 'film', 'actually', 'feeling', 'characters', 'unraveling', 'overall', 'film', 'doesnt', 'stick', 'doesnt', 'entertain', 'confusing', 'rarely', 'excites', 'feels', 'pretty', 'redundant', 'runtime', 'despite', 'pretty', 'cool', 'ending', 'explanation', 'craziness', 'came', 'oh', 'way', 'horror', 'teen', 'slasher', 'flick', 'packaged', 'look', 'way', 'someone', 'apparently', 'assuming', 'genre', 'still', 'hot', 'kids', 'also', 'wrapped', 'production', 'two', 'years', 'ago', 'sitting', 'shelves', 'ever', 'since', 'whatever', 'skip', 'wheres', 'joblo', 'coming', 'nightmare', 'elm', 'street', 'blair', 'witch', 'crow', 'crow', 'salvation', 'lost', 'highway', 'memento', 'others', 'stir', 'echoes']\n",
            "\n",
            "Number of Tokens: 330\n"
          ]
        }
      ]
    },
    {
      "cell_type": "markdown",
      "source": [
        "**Develop Vocabulary**\n",
        "\n",
        "A part of preparing text for sentiment analysis involves defining and\n",
        "tailoring the vocabulary of words supported by the model. \n",
        "\n",
        "We can do this by loading all of the\n",
        "documents in the dataset and building a set of words. We may decide to support all of these words, or perhaps discard some. \n",
        "\n",
        "The final chosen vocabulary can then be saved to file for later\n",
        "use, such as filtering words in new documents in the future.\n",
        "\n",
        "We can keep track of the vocabulary in a Counter, which is a dictionary of words and their count with some additional convenience functions. \n",
        "\n",
        "We need to develop a new function to process a document and add it to the vocabulary. \n",
        "\n",
        "The function needs to load a document by calling the\n",
        "previously developed *load_doc()* function. \n",
        "\n",
        "It needs to clean the loaded document using the\n",
        "previously developed *clean_doc()* function, then it needs to add all the tokens to the Counter, and update counts. \n",
        "\n",
        "We can do this last step by calling the update() function on the counter\n",
        "object. \n",
        "\n",
        "Below is a function called add doc to vocab() that takes as arguments a document\n",
        "filename and a Counter vocabulary."
      ],
      "metadata": {
        "id": "LTDfaVTMMSgd"
      }
    },
    {
      "cell_type": "code",
      "source": [
        "# load doc and add to vocab\n",
        "\n",
        "def add_doc_to_vocab(filename, vocab):\n",
        "    # load doc\n",
        "    doc = load_doc(filename)\n",
        "    # clean doc\n",
        "    tokens = clean_doc(doc)\n",
        "    # update counts\n",
        "    vocab.update(tokens)"
      ],
      "metadata": {
        "id": "jWKwsnRgFMKP"
      },
      "execution_count": null,
      "outputs": []
    },
    {
      "cell_type": "code",
      "source": [
        "# Finally, we can use our template above for processing all documents in a directory called\n",
        "# process docs() and update it to call add doc to vocab().\n",
        "\n",
        "# load all docs in a directory\n",
        "def process_docs(directory, vocab):\n",
        "    # walk through all files in the folder\n",
        "    for filename in listdir(directory):\n",
        "    # skip files that do not have the right extension\n",
        "        if not filename.endswith(\".txt\"):\n",
        "            next\n",
        "        # create the full path of the file to open\n",
        "        path = directory + '/' + filename\n",
        "        # add doc to vocab\n",
        "        add_doc_to_vocab(path, vocab)"
      ],
      "metadata": {
        "id": "3rdl2B1YNkAJ"
      },
      "execution_count": null,
      "outputs": []
    },
    {
      "cell_type": "code",
      "source": [
        "import string\n",
        "import re\n",
        "from os import listdir\n",
        "from collections import Counter\n",
        "from nltk.corpus import stopwords\n",
        "\n",
        "def load_doc(filename):\n",
        "    # open the file as read only\n",
        "    with open(filename, 'r') as f:\n",
        "        text = f.read()\n",
        "    # close the file\n",
        "    return text\n",
        "\n",
        "def clean_doc(doc):\n",
        "    # split into tokens by white space\n",
        "    tokens = doc.split()\n",
        "    # prepare regex for char filtering\n",
        "    re_punc = re.compile('[%s]' % re.escape(string.punctuation))\n",
        "    # remove punctuation from each word\n",
        "    tokens = [re_punc.sub('', w) for w in tokens]\n",
        "    # remove remaining tokens that are not alphabetic\n",
        "    tokens = [word for word in tokens if word.isalpha()]\n",
        "    # filter out stop words\n",
        "    stop_words = set(stopwords.words('english'))\n",
        "    tokens = [w for w in tokens if not w in stop_words]\n",
        "    # filter out short tokens\n",
        "    tokens = [word for word in tokens if len(word) > 1]\n",
        "    return tokens\n",
        "\n",
        "\n",
        "def add_doc_to_vocab(filename, vocab):\n",
        "    # load doc\n",
        "    doc = load_doc(filename)\n",
        "    # clean doc\n",
        "    tokens = clean_doc(doc)\n",
        "    # update counts\n",
        "    vocab.update(tokens)\n",
        "\n",
        "\n",
        "def process_docs(directory, vocab):\n",
        "    # walk through all files in the folder\n",
        "    for filename in listdir(directory):\n",
        "    # skip files that do not have the right extension\n",
        "        if not filename.endswith(\".txt\"):\n",
        "            next\n",
        "        # create the full path of the file to open\n",
        "        path = directory + '/' + filename\n",
        "        # add doc to vocab\n",
        "        add_doc_to_vocab(path, vocab)\n",
        "\n",
        "\n",
        "# define vocab\n",
        "vocab = Counter()\n",
        "# add all docs to vocab\n",
        "directory_neg = '/content/gdrive/My Drive/txt_sentoken/neg'\n",
        "directory_pos = '/content/gdrive/My Drive/txt_sentoken/pos'\n",
        "\n",
        "process_docs(directory_neg, vocab)\n",
        "len_neg = len(vocab)\n",
        "print('length Vocab Negative', len_neg)\n",
        "\n",
        "process_docs(directory_pos, vocab)\n",
        "print('length Vocab Positive', len(vocab) - len_neg)\n",
        "\n",
        "# print the size of the vocab\n",
        "print('\\n\\nTotal Size:',len(vocab))"
      ],
      "metadata": {
        "colab": {
          "base_uri": "https://localhost:8080/"
        },
        "id": "gu1loAOsNj9_",
        "outputId": "9ca41db9-3a06-42b4-e613-069825c268f6"
      },
      "execution_count": null,
      "outputs": [
        {
          "output_type": "stream",
          "name": "stdout",
          "text": [
            "length Vocab Negative 32010\n",
            "length Vocab Positive 14547\n",
            "\n",
            "\n",
            "Total Size: 46557\n"
          ]
        }
      ]
    },
    {
      "cell_type": "code",
      "source": [
        "# print the top words in the vocab\n",
        "print(vocab.most_common(50))"
      ],
      "metadata": {
        "colab": {
          "base_uri": "https://localhost:8080/"
        },
        "id": "Y7nbuq4CNj7s",
        "outputId": "5906d049-3952-49bd-f78b-3ab879eb46e0"
      },
      "execution_count": null,
      "outputs": [
        {
          "output_type": "stream",
          "name": "stdout",
          "text": [
            "[('film', 8860), ('one', 5521), ('movie', 5440), ('like', 3553), ('even', 2555), ('good', 2320), ('time', 2283), ('story', 2118), ('films', 2102), ('would', 2042), ('much', 2024), ('also', 1965), ('characters', 1947), ('get', 1921), ('character', 1906), ('two', 1825), ('first', 1768), ('see', 1730), ('well', 1694), ('way', 1668), ('make', 1590), ('really', 1563), ('little', 1491), ('life', 1472), ('plot', 1451), ('people', 1420), ('movies', 1416), ('could', 1395), ('bad', 1374), ('scene', 1373), ('never', 1364), ('best', 1301), ('new', 1277), ('many', 1268), ('doesnt', 1267), ('man', 1266), ('scenes', 1265), ('dont', 1210), ('know', 1207), ('hes', 1150), ('great', 1141), ('another', 1111), ('love', 1089), ('action', 1078), ('go', 1075), ('us', 1065), ('director', 1056), ('something', 1048), ('end', 1047), ('still', 1038)]\n"
          ]
        }
      ]
    },
    {
      "cell_type": "markdown",
      "source": [
        "Perhaps the least common words, those that only appear once across all reviews, are notpredictive. \n",
        "\n",
        "Perhaps some of the most common words are not useful too. These are good\n",
        "questions and really should be tested with a specific predictive model. \n",
        "\n",
        "Generally, words that only appear once or a few times across 2,000 reviews are probably not predictive and can be removed from the vocabulary, greatly cutting down on the tokens we need to model. \n",
        "\n",
        "We can do this by stepping through words and their counts and only keeping those with a count above a chosen threshold. Here we will use 5 occurrences."
      ],
      "metadata": {
        "id": "pkkROEOcRgRP"
      }
    },
    {
      "cell_type": "code",
      "source": [
        "# keep tokens with > 5 occurrence\n",
        "\n",
        "\n",
        "# This reduces the vocabulary from 46,557 to 14,803 words\n",
        "\n",
        "\n",
        "min_occurrence = 5\n",
        "tokens = [k for k,c in vocab.items() if c >= min_occurrence]\n",
        "print(len(tokens))"
      ],
      "metadata": {
        "colab": {
          "base_uri": "https://localhost:8080/"
        },
        "id": "zb_oW6vNNj5F",
        "outputId": "8918511a-9542-47cb-8101-d238625527a5"
      },
      "execution_count": null,
      "outputs": [
        {
          "output_type": "stream",
          "name": "stdout",
          "text": [
            "14803\n"
          ]
        }
      ]
    },
    {
      "cell_type": "code",
      "source": [
        "# to save the vocabulary as ASCII with one\n",
        "# word per line. Below defines a function called save_list() to save a list of items, in this case,\n",
        "# tokens to file, one per line.\n",
        "\n",
        "\n",
        "def save_list(lines, filename):\n",
        "    data = '\\n'.join(lines)\n",
        "    file = open(filename, 'w')\n",
        "    file.write(data)\n",
        "    file.close()"
      ],
      "metadata": {
        "id": "_PBzU8FzNj2V"
      },
      "execution_count": null,
      "outputs": []
    },
    {
      "cell_type": "code",
      "source": [
        "import string\n",
        "import re\n",
        "from os import listdir\n",
        "from collections import Counter\n",
        "from nltk.corpus import stopwords\n",
        "\n",
        "def load_doc(filename):\n",
        "    # open the file as read only\n",
        "    with open(filename, 'r') as f:\n",
        "        text = f.read()\n",
        "    # close the file\n",
        "    return text\n",
        "\n",
        "def clean_doc(doc):\n",
        "    # split into tokens by white space\n",
        "    tokens = doc.split()\n",
        "    # prepare regex for char filtering\n",
        "    re_punc = re.compile('[%s]' % re.escape(string.punctuation))\n",
        "    # remove punctuation from each word\n",
        "    tokens = [re_punc.sub('', w) for w in tokens]\n",
        "    # remove remaining tokens that are not alphabetic\n",
        "    tokens = [word for word in tokens if word.isalpha()]\n",
        "    # filter out stop words\n",
        "    stop_words = set(stopwords.words('english'))\n",
        "    tokens = [w for w in tokens if not w in stop_words]\n",
        "    # filter out short tokens\n",
        "    tokens = [word for word in tokens if len(word) > 1]\n",
        "    return tokens\n",
        "\n",
        "\n",
        "def add_doc_to_vocab(filename, vocab):\n",
        "    # load doc\n",
        "    doc = load_doc(filename)\n",
        "    # clean doc\n",
        "    tokens = clean_doc(doc)\n",
        "    # update counts\n",
        "    vocab.update(tokens)\n",
        "\n",
        "\n",
        "def process_docs(directory, vocab):\n",
        "    # walk through all files in the folder\n",
        "    for filename in listdir(directory):\n",
        "    # skip files that do not have the right extension\n",
        "        if not filename.endswith(\".txt\"):\n",
        "            next\n",
        "        # create the full path of the file to open\n",
        "        path = directory + '/' + filename\n",
        "        # add doc to vocab\n",
        "        add_doc_to_vocab(path, vocab)\n",
        "\n",
        "\n",
        "def save_list(lines, filename):\n",
        "    data = '\\n'.join(lines)\n",
        "    file = open(filename, 'w')\n",
        "    file.write(data)\n",
        "    file.close()\n",
        "\n",
        "\n",
        "\n",
        "# define vocab\n",
        "vocab = Counter()\n",
        "# add all docs to vocab\n",
        "directory_neg = '/content/gdrive/My Drive/txt_sentoken/neg'\n",
        "directory_pos = '/content/gdrive/My Drive/txt_sentoken/pos'\n",
        "\n",
        "process_docs(directory_neg, vocab)\n",
        "len_neg = len(vocab)\n",
        "print('length Vocab Negative', len_neg)\n",
        "\n",
        "process_docs(directory_pos, vocab)\n",
        "print('length Vocab Positive', len(vocab) - len_neg)\n",
        "\n",
        "# print the size of the vocab\n",
        "print('\\n\\nTotal Size:',len(vocab))\n",
        "\n",
        "min_occurrence = 5\n",
        "tokens = [k for k,c in vocab.items() if c >= min_occurrence]\n",
        "print('\\nNumber of Tokens after removing low frequency words:\\n',len(tokens))\n",
        "\n",
        "save_list(tokens, '/content/gdrive/My Drive/txt_sentoken/vocab.txt')"
      ],
      "metadata": {
        "colab": {
          "base_uri": "https://localhost:8080/"
        },
        "id": "Wq2iHp7iR1hH",
        "outputId": "bb5f1c1d-10dc-4192-b0f6-a8431dc0ead4"
      },
      "execution_count": null,
      "outputs": [
        {
          "output_type": "stream",
          "name": "stdout",
          "text": [
            "length Vocab Negative 32010\n",
            "length Vocab Positive 14547\n",
            "\n",
            "\n",
            "Total Size: 46557\n",
            "\n",
            "Number of Tokens after removing low frequency words:\n",
            " 14803\n"
          ]
        }
      ]
    },
    {
      "cell_type": "markdown",
      "source": [
        "**Save Prepared Data**\n",
        "\n",
        "We can use the data cleaning and chosen vocabulary to prepare each movie review and save the prepared versions of the reviews ready for modeling.\n",
        "\n",
        "This is a good practice as it decouples\n",
        "the data preparation from modeling, allowing you to focus on modeling and circle back to data prep if you have new ideas. \n",
        "\n",
        "We can start off by loading the vocabulary from *vocab.txt*.\n",
        "\n"
      ],
      "metadata": {
        "id": "umGEf2V2TxoF"
      }
    },
    {
      "cell_type": "code",
      "source": [
        "# load the saved vocabulary\n",
        "vocab_filename = '/content/gdrive/My Drive/txt_sentoken/vocab.txt'\n",
        "vocab = load_doc(vocab_filename)\n",
        "vocab = vocab.split()\n",
        "vocab = set(vocab)\n",
        "print(len(vocab))"
      ],
      "metadata": {
        "colab": {
          "base_uri": "https://localhost:8080/"
        },
        "id": "_4-F1CVtR1eU",
        "outputId": "f6d63134-2a00-4567-8106-e7ae98d5b7dd"
      },
      "execution_count": null,
      "outputs": [
        {
          "output_type": "stream",
          "name": "stdout",
          "text": [
            "14803\n"
          ]
        }
      ]
    },
    {
      "cell_type": "markdown",
      "source": [
        "Next, we can clean the reviews, use the loaded vocab to filter out unwanted tokens, and save the clean reviews in a new file. \n",
        "\n",
        "One approach could be to save all the positive reviews\n",
        "in one file and all the negative reviews in another file, with the filtered tokens separated by white space for each review on separate lines. \n",
        "\n",
        "First, we can define a function to process a document, clean it, filter it, and return it as a single line that could be saved in a file. \n",
        "\n",
        "Below defines the *doc_to_line()* function to do just that, taking a filename and vocabulary (as a set) as arguments. \n",
        "\n",
        "It calls the previously defined *load_doc()* function to load the document and\n",
        "*clean_doc()* to tokenize the document."
      ],
      "metadata": {
        "id": "mWlehIBxUxBZ"
      }
    },
    {
      "cell_type": "code",
      "source": [
        "# Function to filter a review by the vocabulary\n",
        "\n",
        "# load doc, clean and return line of tokens\n",
        "def doc_to_line(filename, vocab):\n",
        "    # load the doc\n",
        "    doc = load_doc(filename)\n",
        "    # clean doc\n",
        "    tokens = clean_doc(doc)\n",
        "    # filter by vocab\n",
        "    tokens = [w for w in tokens if w in vocab]\n",
        "    return ' '.join(tokens)"
      ],
      "metadata": {
        "id": "JY4HW6q0R1b2"
      },
      "execution_count": null,
      "outputs": []
    },
    {
      "cell_type": "markdown",
      "source": [
        "Next, we can define a new version of *process_docs()* to step through all reviews in a folder\n",
        "and convert them to lines by calling *doc_to_line()* for each document. \n",
        "\n",
        "A list of lines is then returned.\n",
        "\n",
        "We can then call process docs() for both the directories of positive and negative reviews,\n",
        "then call save list() from the previous section to save each list of processed reviews to a file.\n",
        "\n",
        "Running the example saves two new files, negative.txt and positive.txt, that contain the prepared negative and positive reviews respectively. \n",
        "\n",
        "The data is ready for use in a bag-of-words or even word embedding model."
      ],
      "metadata": {
        "id": "fb13Ndipo3eQ"
      }
    },
    {
      "cell_type": "code",
      "source": [
        "# load all docs in a directory\n",
        "def process_docs(directory, vocab):\n",
        "lines = list()\n",
        "# walk through all files in the folder\n",
        "for filename in listdir(directory):\n",
        "# skip files that do not have the right extension\n",
        "if not filename.endswith(\".txt\"):\n",
        "next\n",
        "# create the full path of the file to open\n",
        "path = directory + '/' + filename\n",
        "# load and clean the doc\n",
        "line = doc_to_line(path, vocab)\n",
        "# add to list\n",
        "lines.append(line)\n",
        "return lines"
      ],
      "metadata": {
        "id": "iKXW64wQR1Zt"
      },
      "execution_count": null,
      "outputs": []
    },
    {
      "cell_type": "code",
      "source": [
        "import string\n",
        "import re\n",
        "from os import listdir\n",
        "from nltk.corpus import stopwords\n",
        "# load doc into memory\n",
        "def load_doc(filename):\n",
        "    # open the file as read only\n",
        "    file = open(filename, 'r')\n",
        "    # read all text\n",
        "    text = file.read()\n",
        "    # close the file\n",
        "    file.close()\n",
        "    return text\n",
        "# turn a doc into clean tokens\n",
        "def clean_doc(doc):\n",
        "# split into tokens by white space\n",
        "    tokens = doc.split()\n",
        "    # prepare regex for char filtering\n",
        "    re_punc = re.compile('[%s]' % re.escape(string.punctuation))\n",
        "    # remove punctuation from each word\n",
        "    tokens = [re_punc.sub('', w) for w in tokens]\n",
        "    # remove remaining tokens that are not alphabetic\n",
        "    tokens = [word for word in tokens if word.isalpha()]\n",
        "    # filter out stop words\n",
        "    stop_words = set(stopwords.words('english'))\n",
        "    tokens = [w for w in tokens if not w in stop_words]\n",
        "    # filter out short tokens\n",
        "    tokens = [word for word in tokens if len(word) > 1]\n",
        "    return tokens\n",
        "# save list to file\n",
        "def save_list(lines, filename):\n",
        "    data = '\\n'.join(lines)\n",
        "    file = open(filename, 'w')\n",
        "    file.write(data)\n",
        "    file.close()\n",
        "# load doc, clean and return line of tokens\n",
        "def doc_to_line(filename, vocab):\n",
        "    # load the doc\n",
        "    doc = load_doc(filename)\n",
        "    # clean doc\n",
        "    tokens = clean_doc(doc)\n",
        "    # filter by vocab\n",
        "    tokens = [w for w in tokens if w in vocab]\n",
        "    return ' '.join(tokens)\n",
        "# load all docs in a directory\n",
        "def process_docs(directory, vocab):\n",
        "    lines = list()\n",
        "    # walk through all files in the folder\n",
        "    for filename in listdir(directory):\n",
        "        # skip files that do not have the right extension\n",
        "        if not filename.endswith(\".txt\"):\n",
        "            next\n",
        "    # create the full path of the file to open\n",
        "    path = directory + '/' + filename\n",
        "    # load and clean the doc\n",
        "    line = doc_to_line(path, vocab)\n",
        "    # add to list\n",
        "    lines.append(line)\n",
        "    return lines\n",
        "\n",
        "# load vocabulary\n",
        "vocab_filename = '/content/gdrive/My Drive/txt_sentoken/vocab.txt'\n",
        "vocab = load_doc(vocab_filename)\n",
        "vocab = vocab.split()\n",
        "vocab = set(vocab)\n",
        "# prepare negative reviews\n",
        "directory_neg = '/content/gdrive/My Drive/txt_sentoken/neg'\n",
        "negative_lines = process_docs(directory_neg, vocab)\n",
        "save_list(negative_lines, '/content/gdrive/My Drive/txt_sentoken/negative.txt')\n",
        "# prepare positive reviews\n",
        "directory_pos = '/content/gdrive/My Drive/txt_sentoken/pos'\n",
        "positive_lines = process_docs(directory_pos, vocab)\n",
        "save_list(positive_lines, '/content/gdrive/My Drive/txt_sentoken/positive.txt')"
      ],
      "metadata": {
        "id": "wzhKAwR6R1XM"
      },
      "execution_count": null,
      "outputs": []
    },
    {
      "cell_type": "code",
      "source": [
        "# load the saved vocabulary in Negative file\n",
        "vocab_filename_neg = '/content/gdrive/My Drive/txt_sentoken/negative.txt'\n",
        "vocab_neg = load_doc(vocab_filename_neg)\n",
        "vocab_neg = vocab_neg.split()\n",
        "vocab_neg = set(vocab_neg)\n",
        "print(len(vocab_neg))"
      ],
      "metadata": {
        "colab": {
          "base_uri": "https://localhost:8080/"
        },
        "id": "YQYleyv4r0U2",
        "outputId": "22ff7e07-1186-451d-9b71-febc530d8459"
      },
      "execution_count": null,
      "outputs": [
        {
          "output_type": "stream",
          "name": "stdout",
          "text": [
            "202\n"
          ]
        }
      ]
    },
    {
      "cell_type": "code",
      "source": [
        "# load the saved vocabulary in Positive file\n",
        "vocab_filename_pos = '/content/gdrive/My Drive/txt_sentoken/positive.txt'\n",
        "vocab_pos = load_doc(vocab_filename_pos)\n",
        "vocab_pos = vocab_pos.split()\n",
        "vocab_pos = set(vocab_pos)\n",
        "print(len(vocab_pos))"
      ],
      "metadata": {
        "colab": {
          "base_uri": "https://localhost:8080/"
        },
        "id": "Nmwtf5tksDl_",
        "outputId": "1ebec44c-eeef-48b0-f807-cfce61451c1f"
      },
      "execution_count": null,
      "outputs": [
        {
          "output_type": "stream",
          "name": "stdout",
          "text": [
            "342\n"
          ]
        }
      ]
    },
    {
      "cell_type": "markdown",
      "source": [
        "## Project: Develop a Neural Bag-of-Words Model for Sentiment Analysis\n",
        "\n",
        "The evaluation of movie review text is a classification problem often called sentiment analysis.\n",
        "\n",
        "A popular technique for developing\n",
        "sentiment analysis models is to use a bag-of-words model that transforms documents into vectors where each word in the document is assigned a score.\n",
        "\n",
        "After completing this tutorial, you will know:\n",
        "- How to prepare the review text data for modeling with a restricted vocabulary.\n",
        "- How to use the bag-of-words model to prepare train and test data.\n",
        "- How to develop a Multilayer Perceptron bag-of-words model and use it to make predictions on new review text data.\n",
        "\n",
        "This tutorial is divided into the following parts:\n",
        "1. Movie Review Dataset\n",
        "2. Data Preparation\n",
        "3. Bag-of-Words Representation\n",
        "4. Sentiment Analysis Models\n",
        "5. Comparing Word Scoring Methods\n",
        "6. Predicting Sentiment for New Reviews\n",
        "\n",
        "**Data Preparation**\n",
        "\n",
        "Note: The preparation of the movie review dataset was first described in Chapter 9 (previouse cells).\n",
        "\n",
        "In this section, we will look at 3 things:\n",
        "1. Separation of data into training and test sets.\n",
        "2. Loading and cleaning the data to remove punctuation and numbers.\n",
        "3. Defining a vocabulary of preferred words.\n",
        "\n"
      ],
      "metadata": {
        "id": "gWKb-2T5B_ac"
      }
    },
    {
      "cell_type": "markdown",
      "source": [
        "**Split into Train and Test Sets**\n",
        "\n",
        "This is a 90% train, 10% split of the data. \n",
        "\n",
        "The split can\n",
        "be imposed easily by using the filenames of the reviews where reviews named 000 to 899 are for\n",
        "training data and reviews named 900 onwards are for testing the model.\n",
        "\n",
        "**Loading and Cleaning Reviews**\n",
        "\n",
        "The text data is already pretty clean, so not much preparation is required. \n",
        "Without getting too much into the details, we will prepare the data using the following method:    ---------------> *clean_doc() function*\n",
        "- Split tokens on white space.\n",
        "- Remove all punctuation from words.\n",
        "- Remove all words that are not purely comprised of alphabetical characters.\n",
        "- Remove all words that are known stop words.\n",
        "- Remove all words that have a length <= 1 character.\n",
        "\n",
        "**Define a Vocabulary**\n",
        "\n",
        "It is important to define a vocabulary of known words when using a bag-of-words model. \n",
        "\n",
        "The more words, the larger the representation of documents, therefore it is important to constrain the words to only those believed to be predictive.\n",
        "\n",
        "We can develop a vocabulary as a Counter, which is a dictionary mapping of words and their count that allows us to easily update and query.\n",
        "\n",
        "Each document can be added to the\n",
        "counter (a new function called add *doc_to_vocab()*) and we can step over all of the reviews in\n",
        "the negative directory and then the positive directory (a new function called *process_docs()*).\n",
        "\n",
        "Running the example shows that we have a vocabulary of 44,276 words. \n",
        "\n",
        "We also can see a sample of the top 50 most used words in the movie reviews. \n",
        "\n",
        "Note that this vocabulary was\n",
        "constructed based on only those reviews in the **training** dataset.\n",
        "\n",
        "The complete example is listed below."
      ],
      "metadata": {
        "id": "BPpy9BASuzq4"
      }
    },
    {
      "cell_type": "code",
      "source": [
        "import string\n",
        "import re\n",
        "from os import listdir\n",
        "from collections import Counter\n",
        "from nltk.corpus import stopwords\n",
        "\n",
        "# load doc into memory\n",
        "def load_doc(filename):\n",
        "    # open the file as read only\n",
        "    file = open(filename, 'r')\n",
        "    # read all text\n",
        "    text = file.read()\n",
        "    # close the file\n",
        "    file.close()\n",
        "    return text\n",
        "# turn a doc into clean tokens\n",
        "def clean_doc(doc):\n",
        "    # split into tokens by white space\n",
        "    tokens = doc.split()\n",
        "    # prepare regex for char filtering\n",
        "    re_punc = re.compile('[%s]' % re.escape(string.punctuation))\n",
        "    # remove punctuation from each word\n",
        "    tokens = [re_punc.sub('', w) for w in tokens]\n",
        "    # remove remaining tokens that are not alphabetic\n",
        "    tokens = [word for word in tokens if word.isalpha()]\n",
        "    # filter out stop words\n",
        "    stop_words = set(stopwords.words('english'))\n",
        "    tokens = [w for w in tokens if not w in stop_words]\n",
        "    # filter out short tokens\n",
        "    tokens = [word for word in tokens if len(word) > 1]\n",
        "    return tokens\n",
        "\n",
        "# load doc and add to vocab\n",
        "def add_doc_to_vocab(filename, vocab):\n",
        "    # load doc\n",
        "    doc = load_doc(filename)\n",
        "    # clean doc\n",
        "    tokens = clean_doc(doc)\n",
        "    # update counts\n",
        "    vocab.update(tokens)\n",
        "\n",
        "# load all docs in a directory\n",
        "def process_docs(directory, vocab):\n",
        "    # walk through all files in the folder\n",
        "    for filename in listdir(directory):\n",
        "    # skip any reviews in the test set - Seperating Training and Test sets\n",
        "        if filename.startswith('cv9'):\n",
        "            continue\n",
        "        # create the full path of the file to open\n",
        "        path = directory + '/' + filename\n",
        "        # add doc to vocab\n",
        "        add_doc_to_vocab(path, vocab)\n",
        "# define vocab\n",
        "vocab = Counter()\n",
        "# add all docs to vocab\n",
        "directory_pos = '/content/gdrive/My Drive/txt_sentoken/pos'\n",
        "directory_neg = '/content/gdrive/My Drive/txt_sentoken/neg'\n",
        "\n",
        "process_docs(directory_pos, vocab)\n",
        "process_docs(directory_neg, vocab)\n",
        "# print the size of the vocab\n",
        "print(len(vocab))\n",
        "# print the top words in the vocab\n",
        "print(vocab.most_common(50))"
      ],
      "metadata": {
        "colab": {
          "base_uri": "https://localhost:8080/"
        },
        "id": "whmp6pHxuKmH",
        "outputId": "c6eedec6-1ec6-4e78-d2ee-01a64241e7f9"
      },
      "execution_count": null,
      "outputs": [
        {
          "output_type": "stream",
          "name": "stdout",
          "text": [
            "44276\n",
            "[('film', 7983), ('one', 4946), ('movie', 4826), ('like', 3201), ('even', 2262), ('good', 2080), ('time', 2041), ('story', 1907), ('films', 1873), ('would', 1844), ('much', 1824), ('also', 1757), ('characters', 1735), ('get', 1724), ('character', 1703), ('two', 1643), ('first', 1588), ('see', 1557), ('way', 1515), ('well', 1511), ('make', 1418), ('really', 1407), ('little', 1351), ('life', 1334), ('plot', 1288), ('people', 1269), ('could', 1248), ('bad', 1248), ('scene', 1241), ('movies', 1238), ('never', 1201), ('best', 1179), ('new', 1140), ('scenes', 1135), ('man', 1131), ('many', 1130), ('doesnt', 1118), ('know', 1092), ('dont', 1086), ('hes', 1024), ('great', 1014), ('another', 992), ('action', 985), ('love', 977), ('us', 967), ('go', 952), ('director', 948), ('end', 946), ('something', 945), ('still', 936)]\n"
          ]
        }
      ]
    },
    {
      "cell_type": "code",
      "source": [
        "# We can step through the vocabulary and remove all words that have a low occurrence, such\n",
        "# as only being used once or twice in all reviews.\n",
        "\n",
        "# keep tokens with a min occurrence\n",
        "min_occurrence = 2\n",
        "tokens = [k for k,c in vocab.items() if c >= min_occurrence]\n",
        "print(len(tokens))\n",
        "# save tokens to a vocabulary file\n",
        "save_list(tokens, '/content/gdrive/My Drive/txt_sentoken/vocab_train.txt')"
      ],
      "metadata": {
        "colab": {
          "base_uri": "https://localhost:8080/"
        },
        "id": "i7wjoKcuuKj2",
        "outputId": "e78ce6fc-dd2d-4099-bcf1-8ea292a99d08"
      },
      "execution_count": null,
      "outputs": [
        {
          "output_type": "stream",
          "name": "stdout",
          "text": [
            "25767\n"
          ]
        }
      ]
    },
    {
      "cell_type": "code",
      "source": [
        "import string\n",
        "import re\n",
        "from os import listdir\n",
        "from collections import Counter\n",
        "from nltk.corpus import stopwords\n",
        "\n",
        "# load doc into memory\n",
        "def load_doc(filename):\n",
        "    # open the file as read only\n",
        "    file = open(filename, 'r')\n",
        "    # read all text\n",
        "    text = file.read()\n",
        "    # close the file\n",
        "    file.close()\n",
        "    return text\n",
        "# turn a doc into clean tokens\n",
        "def clean_doc(doc):\n",
        "    # split into tokens by white space\n",
        "    tokens = doc.split()\n",
        "    # prepare regex for char filtering\n",
        "    re_punc = re.compile('[%s]' % re.escape(string.punctuation))\n",
        "    # remove punctuation from each word\n",
        "    tokens = [re_punc.sub('', w) for w in tokens]\n",
        "    # remove remaining tokens that are not alphabetic\n",
        "    tokens = [word for word in tokens if word.isalpha()]\n",
        "    # filter out stop words\n",
        "    stop_words = set(stopwords.words('english'))\n",
        "    tokens = [w for w in tokens if not w in stop_words]\n",
        "    # filter out short tokens\n",
        "    tokens = [word for word in tokens if len(word) > 1]\n",
        "    return tokens\n",
        "\n",
        "# load doc and add to vocab\n",
        "def add_doc_to_vocab(filename, vocab):\n",
        "    # load doc\n",
        "    doc = load_doc(filename)\n",
        "    # clean doc\n",
        "    tokens = clean_doc(doc)\n",
        "    # update counts\n",
        "    vocab.update(tokens)\n",
        "\n",
        "# load all docs in a directory\n",
        "def process_docs(directory, vocab):\n",
        "    # walk through all files in the folder\n",
        "    for filename in listdir(directory):\n",
        "    # skip any reviews in the test set - Seperating Training and Test sets\n",
        "        if filename.startswith('cv9'):\n",
        "            continue\n",
        "        # create the full path of the file to open\n",
        "        path = directory + '/' + filename\n",
        "        # add doc to vocab\n",
        "        add_doc_to_vocab(path, vocab)\n",
        "\n",
        "# save list to file\n",
        "def save_list(lines, filename):\n",
        "    # convert lines to a single blob of text\n",
        "    data = '\\n'.join(lines)\n",
        "    # open file\n",
        "    file = open(filename, 'w')\n",
        "    # write text\n",
        "    file.write(data)\n",
        "    # close file\n",
        "    file.close()\n",
        "\n",
        "\n",
        "# define vocab\n",
        "vocab = Counter()\n",
        "# add all docs to vocab\n",
        "directory_pos = '/content/gdrive/My Drive/txt_sentoken/pos'\n",
        "directory_neg = '/content/gdrive/My Drive/txt_sentoken/neg'\n",
        "\n",
        "process_docs(directory_pos, vocab)\n",
        "process_docs(directory_neg, vocab)\n",
        "\n",
        "# print the size of the vocab\n",
        "print(len(vocab))\n",
        "# print the top words in the vocab\n",
        "print(vocab.most_common(50))\n",
        "\n",
        "# keep tokens with a min occurrence\n",
        "min_occurrence = 2\n",
        "tokens = [k for k,c in vocab.items() if c >= min_occurrence]\n",
        "print('\\n\\nkeep tokens with a min occurrence:\\n',len(tokens))\n",
        "\n",
        "# save tokens to a vocabulary file\n",
        "save_list(tokens, '/content/gdrive/My Drive/txt_sentoken/vocab_train.txt')"
      ],
      "metadata": {
        "colab": {
          "base_uri": "https://localhost:8080/"
        },
        "id": "wi-AqZ-UuKhb",
        "outputId": "d63ba7a2-b16b-4ed6-c105-64a1cf079c62"
      },
      "execution_count": null,
      "outputs": [
        {
          "output_type": "stream",
          "name": "stdout",
          "text": [
            "44276\n",
            "[('film', 7983), ('one', 4946), ('movie', 4826), ('like', 3201), ('even', 2262), ('good', 2080), ('time', 2041), ('story', 1907), ('films', 1873), ('would', 1844), ('much', 1824), ('also', 1757), ('characters', 1735), ('get', 1724), ('character', 1703), ('two', 1643), ('first', 1588), ('see', 1557), ('way', 1515), ('well', 1511), ('make', 1418), ('really', 1407), ('little', 1351), ('life', 1334), ('plot', 1288), ('people', 1269), ('could', 1248), ('bad', 1248), ('scene', 1241), ('movies', 1238), ('never', 1201), ('best', 1179), ('new', 1140), ('scenes', 1135), ('man', 1131), ('many', 1130), ('doesnt', 1118), ('know', 1092), ('dont', 1086), ('hes', 1024), ('great', 1014), ('another', 992), ('action', 985), ('love', 977), ('us', 967), ('go', 952), ('director', 948), ('end', 946), ('something', 945), ('still', 936)]\n",
            "\n",
            "\n",
            "keep tokens with a min occurrence:\n",
            " 25767\n"
          ]
        }
      ]
    },
    {
      "cell_type": "markdown",
      "source": [
        "**Bag-of-Words Representation**\n",
        "\n",
        "First, we need a function to prepare one document. Below lists the function\n",
        "*doc_to_line()* that will load a document, clean it, filter out tokens not in the vocabulary, then return the document as a string of white space separated tokens.\n",
        "\n",
        "Next, we need a function to work through all documents in a directory (such as pos and neg) to convert the documents into lines.\n",
        "\n",
        "*process_docs()* function that does\n",
        "just this, expecting a directory name and a vocabulary set as input arguments and returning a list of processed documents.\n",
        "\n",
        "We can call the *process_docs()* consistently for positive and negative reviews to construct a dataset of review text and their associated output labels, **0 for negative and 1 for positive**.\n",
        "\n",
        "The *load_clean_dataset()* function below implements this behavior."
      ],
      "metadata": {
        "id": "fv-4Xfv03xNU"
      }
    },
    {
      "cell_type": "code",
      "source": [
        "# load and clean a dataset\n",
        "def load_clean_dataset(vocab):\n",
        "    # load documents\n",
        "    directory_pos = '/content/gdrive/My Drive/txt_sentoken/pos'\n",
        "    directory_neg = '/content/gdrive/My Drive/txt_sentoken/neg'\n",
        "\n",
        "    neg = process_docs(directory_neg, vocab)\n",
        "    pos = process_docs(directory_pos, vocab)\n",
        "    docs = neg + pos\n",
        "    # prepare labels\n",
        "    labels = [0 for _ in range(len(neg))] + [1 for _ in range(len(pos))]\n",
        "    return docs, labels"
      ],
      "metadata": {
        "id": "ZxltkbukuKeu"
      },
      "execution_count": null,
      "outputs": []
    },
    {
      "cell_type": "markdown",
      "source": [
        "Finally, we need to load the vocabulary and turn it into a set for use in cleaning reviews.\n",
        "\n",
        "We can put all of this together, reusing the loading and cleaning functions developed in previous sections. \n",
        "\n",
        "The complete example is listed below, demonstrating how to prepare the\n",
        "positive and negative reviews from the training dataset."
      ],
      "metadata": {
        "id": "idHRAtfe592i"
      }
    },
    {
      "cell_type": "code",
      "source": [
        "import string\n",
        "import re\n",
        "from os import listdir\n",
        "from collections import Counter\n",
        "from nltk.corpus import stopwords\n",
        "\n",
        "# load doc into memory\n",
        "def load_doc(filename):\n",
        "    # open the file as read only\n",
        "    file = open(filename, 'r')\n",
        "    # read all text\n",
        "    text = file.read()\n",
        "    # close the file\n",
        "    file.close()\n",
        "    return text\n",
        "# turn a doc into clean tokens\n",
        "def clean_doc(doc):\n",
        "    # split into tokens by white space\n",
        "    tokens = doc.split()\n",
        "    # prepare regex for char filtering\n",
        "    re_punc = re.compile('[%s]' % re.escape(string.punctuation))\n",
        "    # remove punctuation from each word\n",
        "    tokens = [re_punc.sub('', w) for w in tokens]\n",
        "    # remove remaining tokens that are not alphabetic\n",
        "    tokens = [word for word in tokens if word.isalpha()]\n",
        "    # filter out stop words\n",
        "    stop_words = set(stopwords.words('english'))\n",
        "    tokens = [w for w in tokens if not w in stop_words]\n",
        "    # filter out short tokens\n",
        "    tokens = [word for word in tokens if len(word) > 1]\n",
        "    return tokens\n",
        "\n",
        "# load doc, clean and return line of tokens\n",
        "def doc_to_line(filename, vocab):\n",
        "    # load the doc\n",
        "    doc = load_doc(filename)\n",
        "    # clean doc\n",
        "    tokens = clean_doc(doc)\n",
        "    # filter by vocab\n",
        "    tokens = [w for w in tokens if w in vocab]\n",
        "    return ' '.join(tokens)\n",
        "# load all docs in a directory\n",
        "def process_docs(directory, vocab):\n",
        "    lines = list()\n",
        "    for filename in listdir(directory):\n",
        "        # skip any reviews in the test set\n",
        "        if filename.startswith('cv9'):\n",
        "            continue\n",
        "        # create the full path of the file to open\n",
        "        path = directory + '/' + filename\n",
        "        # load and clean the doc\n",
        "        line = doc_to_line(path, vocab)\n",
        "        # add to list\n",
        "        lines.append(line)\n",
        "    return lines\n",
        "\n",
        "directory_pos = '/content/gdrive/My Drive/txt_sentoken/pos'\n",
        "directory_neg = '/content/gdrive/My Drive/txt_sentoken/neg'\n",
        "\n",
        "# load and clean a dataset\n",
        "def load_clean_dataset(vocab):\n",
        "    # load documents\n",
        "    neg = process_docs(directory_neg, vocab)\n",
        "    pos = process_docs(directory_pos, vocab)\n",
        "    docs = neg + pos\n",
        "    # prepare labels\n",
        "    labels = [0 for _ in range(len(neg))] + [1 for _ in range(len(pos))]\n",
        "    return docs, labels\n",
        "\n",
        "# load the vocabulary\n",
        "vocab_filename = '/content/gdrive/My Drive/txt_sentoken/vocab_train.txt'\n",
        "vocab = load_doc(vocab_filename)\n",
        "vocab = vocab.split()\n",
        "vocab = set(vocab)\n",
        "# load all training reviews\n",
        "docs, labels = load_clean_dataset(vocab)\n",
        "\n",
        "# summarize what we have\n",
        "# Running this example loads and cleans the review text and returns the labels.\n",
        "\n",
        "print(len(docs), len(labels))"
      ],
      "metadata": {
        "colab": {
          "base_uri": "https://localhost:8080/"
        },
        "id": "NtbVyxasuKcG",
        "outputId": "f840ed04-3f46-4176-c2d5-0edfa1e874b2"
      },
      "execution_count": null,
      "outputs": [
        {
          "output_type": "stream",
          "name": "stdout",
          "text": [
            "1800 1800\n"
          ]
        }
      ]
    },
    {
      "cell_type": "markdown",
      "source": [
        "**Movie Reviews to Bag-of-Words Vectors**\n",
        "\n",
        "We will use the Keras API to convert reviews to encoded document vectors. \n",
        "\n",
        "Keras provides the Tokenizer class that can do some of the cleaning and vocab definition tasks that we took care of in the previous section. \n",
        "\n",
        "It is better to do this ourselves to know exactly what was done\n",
        "and why. Nevertheless, the Tokenizer class is convenient and will easily transform documents into encoded vectors. \n",
        "\n",
        "First, the Tokenizer must be created, then fit on the text documents\n",
        "in the training dataset. \n",
        "\n",
        "In this case, these are the aggregation of the positive lines and negative lines arrays developed in the previous section.\n",
        "\n"
      ],
      "metadata": {
        "id": "J_hpXbZe_4NJ"
      }
    },
    {
      "cell_type": "code",
      "source": [
        "# fit a tokenizer\n",
        "def create_tokenizer(lines):\n",
        "    tokenizer = Tokenizer() \n",
        "    tokenizer.fit_on_texts(lines)\n",
        "    return tokenizer"
      ],
      "metadata": {
        "id": "379e7i6fuKZG"
      },
      "execution_count": null,
      "outputs": []
    },
    {
      "cell_type": "markdown",
      "source": [
        "This process determines a consistent way to convert the vocabulary to a fixed-length vector\n",
        "with 25,768 elements, which is the total number of words in the vocabulary file vocab.txt.\n",
        "\n",
        "Next, documents can then be encoded using the Tokenizer by calling *texts_to_matrix()*. \n",
        "The function takes both a list of documents to encode and an encoding mode, which is the method used to score words in the document. \n",
        "\n",
        "Here we specify *freq* to score words based on their frequency in the document. This can be used to encode the loaded training and test data, for example:"
      ],
      "metadata": {
        "id": "HUDve5O2AxmQ"
      }
    },
    {
      "cell_type": "code",
      "source": [
        "# This encodes all of the positive and negative reviews in the training dataset.\n",
        "# encode data\n",
        "\n",
        "Xtrain = tokenizer.texts_to_matrix(train_docs, mode='freq')\n",
        "Xtest = tokenizer.texts_to_matrix(test_docs, mode='freq')"
      ],
      "metadata": {
        "id": "6wOsjfDIuKWO"
      },
      "execution_count": null,
      "outputs": []
    },
    {
      "cell_type": "markdown",
      "source": [
        "Next, the *process_docs()* function from the previous section needs to be modified to selectively process reviews in the test or train dataset. \n",
        "\n",
        "We support the loading of both the training and test datasets by adding an ***is_train*** argument and using that to decide what review file names to skip."
      ],
      "metadata": {
        "id": "-ww0nVbSBGo3"
      }
    },
    {
      "cell_type": "code",
      "source": [
        "# load all docs in a directory\n",
        "def process_docs(directory, vocab, is_train):\n",
        "    lines = list()\n",
        "    # walk through all files in the folder\n",
        "    for filename in listdir(directory):\n",
        "        # skip any reviews in the test set\n",
        "        if is_train and filename.startswith('cv9'):\n",
        "            continue\n",
        "        if not is_train and not filename.startswith('cv9'):\n",
        "            continue\n",
        "        # create the full path of the file to open\n",
        "        path = directory + '/' + filename\n",
        "        # load and clean the doc\n",
        "        line = doc_to_line(path, vocab)\n",
        "        # add to list\n",
        "        lines.append(line)\n",
        "    return lines"
      ],
      "metadata": {
        "id": "d8es19j7BqCZ"
      },
      "execution_count": null,
      "outputs": []
    },
    {
      "cell_type": "code",
      "source": [
        "# Similarly, the load_clean_dataset() dataset must be updated to load either train or test\n",
        "# data and ensure it returns an NumPy array.\n",
        "\n",
        "\n",
        "\n",
        "# load and clean a dataset\n",
        "def load_clean_dataset(vocab):\n",
        "    # load documents\n",
        "    directory_pos = '/content/gdrive/My Drive/txt_sentoken/pos'\n",
        "    directory_neg = '/content/gdrive/My Drive/txt_sentoken/neg'\n",
        "\n",
        "    neg = process_docs(directory_neg, vocab)\n",
        "    pos = process_docs(directory_pos, vocab)\n",
        "    docs = neg + pos\n",
        "    # prepare labels\n",
        "    labels = [0 for _ in range(len(neg))] + [1 for _ in range(len(pos))]\n",
        "    return docs, labels\n"
      ],
      "metadata": {
        "id": "Q1dabmwkBxKg"
      },
      "execution_count": null,
      "outputs": []
    },
    {
      "cell_type": "code",
      "source": [
        "# Because there are lots of files to be read in memory, I have uploaded the folders in \n",
        "# Google Drive, so I have to mount it first, then read the data\n",
        "\n",
        "# In this method the Authentication of google drive will open a new window.\n",
        "# There are also other ways to inform the Auth to google in program text\n",
        "\n",
        "\n",
        "from google.colab import drive\n",
        "drive.mount('/content/gdrive')     # Mounting Google Drive in Colab"
      ],
      "metadata": {
        "colab": {
          "base_uri": "https://localhost:8080/"
        },
        "id": "KHZ7vZtiRy_g",
        "outputId": "abb7b5f0-3f72-42eb-848e-122e8ad8b3ed"
      },
      "execution_count": null,
      "outputs": [
        {
          "output_type": "stream",
          "name": "stdout",
          "text": [
            "Mounted at /content/gdrive\n"
          ]
        }
      ]
    },
    {
      "cell_type": "code",
      "source": [
        "# We can put all of this together in a single example.\n",
        "\n",
        "import string\n",
        "import re\n",
        "from os import listdir\n",
        "from numpy import array\n",
        "from nltk.corpus import stopwords\n",
        "from keras.preprocessing.text import Tokenizer\n",
        "\n",
        "# load doc into memory\n",
        "def load_doc(filename):\n",
        "    # open the file as read only\n",
        "    file = open(filename, 'r')\n",
        "    # read all text\n",
        "    text = file.read()\n",
        "    # close the file\n",
        "    file.close()\n",
        "    return text\n",
        "# turn a doc into clean tokens\n",
        "def clean_doc(doc):\n",
        "    # split into tokens by white space\n",
        "    tokens = doc.split()\n",
        "    # prepare regex for char filtering\n",
        "    re_punc = re.compile('[%s]' % re.escape(string.punctuation))\n",
        "    # remove punctuation from each word\n",
        "    tokens = [re_punc.sub('', w) for w in tokens]\n",
        "    # remove remaining tokens that are not alphabetic\n",
        "    tokens = [word for word in tokens if word.isalpha()]\n",
        "    # filter out stop words\n",
        "    stop_words = set(stopwords.words('english'))\n",
        "    tokens = [w for w in tokens if not w in stop_words]\n",
        "    # filter out short tokens\n",
        "    tokens = [word for word in tokens if len(word) > 1]\n",
        "    return tokens\n",
        "\n",
        "# load doc, clean and return line of tokens\n",
        "def doc_to_line(filename, vocab):\n",
        "    # load the doc\n",
        "    doc = load_doc(filename)\n",
        "    # clean doc\n",
        "    tokens = clean_doc(doc)\n",
        "    # filter by vocab\n",
        "    tokens = [w for w in tokens if w in vocab]\n",
        "    return ' '.join(tokens)\n",
        "\n",
        "# load all docs in a directory\n",
        "def process_docs(directory, vocab, is_train):\n",
        "    lines = list()\n",
        "    # walk through all files in the folder\n",
        "    for filename in listdir(directory):\n",
        "        # skip any reviews in the test set\n",
        "        if is_train and filename.startswith('cv9'):\n",
        "            continue\n",
        "        if not is_train and not filename.startswith('cv9'):\n",
        "            continue\n",
        "        # create the full path of the file to open\n",
        "        path = directory + '/' + filename\n",
        "        # load and clean the doc\n",
        "        line = doc_to_line(path, vocab)\n",
        "        # add to list\n",
        "        lines.append(line)\n",
        "    return lines\n",
        "\n",
        "# load and clean a dataset\n",
        "\n",
        "def load_clean_dataset(vocab, is_train):\n",
        "    # load documents\n",
        "    directory_pos = '/content/gdrive/My Drive/txt_sentoken/pos'\n",
        "    directory_neg = '/content/gdrive/My Drive/txt_sentoken/neg'\n",
        "\n",
        "    neg = process_docs(directory_neg, vocab, is_train)\n",
        "    pos = process_docs(directory_pos, vocab, is_train)\n",
        "    docs = neg + pos\n",
        "    # prepare labels\n",
        "    labels = array([0 for _ in range(len(neg))] + [1 for _ in range(len(pos))])\n",
        "    return docs, labels\n",
        "\n",
        "\n",
        "\n",
        "# fit a tokenizer\n",
        "def create_tokenizer(lines):\n",
        "    tokenizer = Tokenizer()\n",
        "    tokenizer.fit_on_texts(lines)\n",
        "    return tokenizer\n",
        "\n",
        "# load the vocabulary\n",
        "vocab_filename = '/content/gdrive/My Drive/txt_sentoken/vocab_train.txt'\n",
        "vocab = load_doc(vocab_filename)\n",
        "vocab = set(vocab.split())\n",
        "\n",
        "# load all reviews\n",
        "train_docs, ytrain = load_clean_dataset(vocab, True)\n",
        "test_docs, ytest = load_clean_dataset(vocab, False)\n",
        "\n",
        "# create the tokenizer\n",
        "tokenizer = create_tokenizer(train_docs)\n",
        "\n",
        "# encode data\n",
        "Xtrain = tokenizer.texts_to_matrix(train_docs, mode='freq')\n",
        "Xtest = tokenizer.texts_to_matrix(test_docs, mode='freq')\n",
        "\n",
        "print(Xtrain.shape, Xtest.shape)"
      ],
      "metadata": {
        "colab": {
          "base_uri": "https://localhost:8080/"
        },
        "id": "NjGHkA2YFqSX",
        "outputId": "e8a096de-65a6-48f1-aabc-4fb43bcce474"
      },
      "execution_count": null,
      "outputs": [
        {
          "output_type": "stream",
          "name": "stdout",
          "text": [
            "(1800, 25768) (200, 25768)\n"
          ]
        }
      ]
    },
    {
      "cell_type": "markdown",
      "source": [
        "**Sentiment Analysis Models**\n",
        "\n",
        "In this section, we will develop Multilayer Perceptron (MLP) models to classify encoded documents as either positive or negative. \n",
        "\n",
        "The models will be simple feedforward network models with fully connected layers called Dense in the Keras deep learning library. \n",
        "\n",
        "This section is\n",
        "divided into 3 sections:\n",
        "1. First sentiment analysis model\n",
        "2. Comparing word scoring modes\n",
        "3. Making a prediction for new reviews\n",
        "\n",
        "The model\n",
        "will have an input layer that equals the number of words in the vocabulary, and in turn the length of the input documents. \n",
        "\n",
        "We can store this in a new variable called n words, as follows:"
      ],
      "metadata": {
        "id": "CM2aA_kkTkgY"
      }
    },
    {
      "cell_type": "code",
      "source": [
        "n_words = Xtest.shape[1]"
      ],
      "metadata": {
        "colab": {
          "base_uri": "https://localhost:8080/"
        },
        "id": "ItTIdGotKnxt",
        "outputId": "1f52c5f7-ee2b-46e3-b62c-20b51c49ef3c"
      },
      "execution_count": null,
      "outputs": [
        {
          "output_type": "execute_result",
          "data": {
            "text/plain": [
              "25768"
            ]
          },
          "metadata": {},
          "execution_count": 54
        }
      ]
    },
    {
      "cell_type": "markdown",
      "source": [
        "We can now define the network.\n",
        "\n",
        "We will use a single hidden layer with 50 neurons and a rectified linear activation function. \n",
        "\n",
        "The output layer is a single neuron with a sigmoid activation function for predicting 0 for negative and 1 for positive reviews. \n",
        "\n",
        "The network will be trained using the efficient Adam implementation of gradient descent and the binary cross-entropy loss function, suited to binary classification problems. \n",
        "\n",
        "We will keep track of accuracy when training and evaluating the model."
      ],
      "metadata": {
        "id": "cXl_FdxTU3dS"
      }
    },
    {
      "cell_type": "code",
      "source": [
        "# define the model\n",
        "def define_model(n_words):\n",
        "    # define network\n",
        "    model = Sequential()\n",
        "    model.add(Dense(50, input_shape=(n_words,), activation='relu'))\n",
        "    model.add(Dense(1, activation='sigmoid'))\n",
        "\n",
        "    # compile network\n",
        "    model.compile(loss='binary_crossentropy', optimizer='adam', metrics=['accuracy'])\n",
        "    \n",
        "    # summarize defined model\n",
        "    model.summary()\n",
        "    plot_model(model, to_file='model.png', show_shapes=True)\n",
        "    return model"
      ],
      "metadata": {
        "id": "nIv0HSMxKnvV"
      },
      "execution_count": null,
      "outputs": []
    },
    {
      "cell_type": "code",
      "source": [
        "# Next, we can fit the model on the training data; in this case, the model is small and is easily\n",
        "# fit in 10 epochs.\n",
        "\n",
        "# fit network\n",
        "model.fit(Xtrain, ytrain, epochs=10, verbose=2)\n",
        "\n",
        "\n",
        "# Finally, once the model is trained, we can evaluate its performance by making predictions in\n",
        "# the test dataset and printing the accuracy.\n",
        "\n",
        "# evaluate\n",
        "loss, acc = model.evaluate(Xtest, ytest, verbose=0)\n",
        "print('Test Accuracy: %f' % (acc*100))"
      ],
      "metadata": {
        "id": "SlbALqraKntG"
      },
      "execution_count": null,
      "outputs": []
    },
    {
      "cell_type": "code",
      "source": [
        "# The complete example is listed below.\n",
        "\n",
        "import string\n",
        "import re\n",
        "from os import listdir\n",
        "from numpy import array\n",
        "from nltk.corpus import stopwords\n",
        "from keras.preprocessing.text import Tokenizer\n",
        "# from keras.utils.vis_utils import plot_model\n",
        "from tensorflow.keras.utils import plot_model\n",
        "from keras.models import Sequential\n",
        "from keras.layers import Dense\n",
        "\n",
        "# load doc into memory\n",
        "def load_doc(filename):\n",
        "    # open the file as read only\n",
        "    file = open(filename, 'r')\n",
        "    # read all text\n",
        "    text = file.read()\n",
        "    # close the file\n",
        "    file.close()\n",
        "    return text\n",
        "\n",
        "# turn a doc into clean tokens\n",
        "def clean_doc(doc):\n",
        "    # split into tokens by white space\n",
        "    tokens = doc.split()\n",
        "    # prepare regex for char filtering\n",
        "    re_punc = re.compile('[%s]' % re.escape(string.punctuation))\n",
        "    # remove punctuation from each word\n",
        "    tokens = [re_punc.sub('', w) for w in tokens]\n",
        "    # remove remaining tokens that are not alphabetic\n",
        "    tokens = [word for word in tokens if word.isalpha()]\n",
        "    # filter out stop words\n",
        "    stop_words = set(stopwords.words('english'))\n",
        "    tokens = [w for w in tokens if not w in stop_words]\n",
        "    # filter out short tokens\n",
        "    tokens = [word for word in tokens if len(word) > 1]\n",
        "    return tokens\n",
        "\n",
        "# load doc, clean and return line of tokens\n",
        "def doc_to_line(filename, vocab):\n",
        "    # load the doc\n",
        "    doc = load_doc(filename)\n",
        "    # clean doc\n",
        "    tokens = clean_doc(doc)\n",
        "    # filter by vocab\n",
        "    tokens = [w for w in tokens if w in vocab]\n",
        "    return ' '.join(tokens)\n",
        "\n",
        "# load all docs in a directory\n",
        "def process_docs(directory, vocab, is_train):\n",
        "    lines = list()\n",
        "    # walk through all files in the folder\n",
        "    for filename in listdir(directory):\n",
        "    # skip any reviews in the test set\n",
        "        if is_train and filename.startswith('cv9'):\n",
        "            continue\n",
        "        if not is_train and not filename.startswith('cv9'):\n",
        "            continue\n",
        "        # create the full path of the file to open\n",
        "        path = directory + '/' + filename\n",
        "        # load and clean the doc\n",
        "        line = doc_to_line(path, vocab)\n",
        "        # add to list\n",
        "        lines.append(line)\n",
        "    return lines\n",
        "\n",
        "# load and clean a dataset\n",
        "def load_clean_dataset(vocab, is_train):\n",
        "    # load documents\n",
        "    directory_pos = '/content/gdrive/My Drive/txt_sentoken/pos'\n",
        "    directory_neg = '/content/gdrive/My Drive/txt_sentoken/neg'\n",
        "    \n",
        "    neg = process_docs(directory_neg, vocab, is_train)\n",
        "    pos = process_docs(directory_pos, vocab, is_train)\n",
        "    docs = neg + pos\n",
        "    # prepare labels\n",
        "    labels = array([0 for _ in range(len(neg))] + [1 for _ in range(len(pos))])\n",
        "    return docs, labels\n",
        "\n",
        "# fit a tokenizer\n",
        "def create_tokenizer(lines):\n",
        "    tokenizer = Tokenizer()\n",
        "    tokenizer.fit_on_texts(lines)\n",
        "    return tokenizer\n",
        "\n",
        " # define the model\n",
        "def define_model(n_words):\n",
        "    # define network\n",
        "    model = Sequential()\n",
        "    model.add(Dense(50, input_shape=(n_words,), activation='relu'))\n",
        "    model.add(Dense(1, activation='sigmoid'))\n",
        "    # compile network\n",
        "    model.compile(loss='binary_crossentropy', optimizer='adam', metrics=['accuracy'])\n",
        "    # summarize defined model\n",
        "    model.summary()\n",
        "    plot_model(model, to_file='model.png', show_shapes=True)\n",
        "    return model\n",
        "\n",
        "# load the vocabulary\n",
        "vocab_filename = '/content/gdrive/My Drive/txt_sentoken/vocab_train.txt'\n",
        "vocab = load_doc(vocab_filename)\n",
        "vocab = set(vocab.split())\n",
        "\n",
        "# load all reviews\n",
        "train_docs, ytrain = load_clean_dataset(vocab, True)\n",
        "test_docs, ytest = load_clean_dataset(vocab, False)\n",
        "\n",
        "# create the tokenizer\n",
        "tokenizer = create_tokenizer(train_docs)\n",
        "\n",
        "# encode data\n",
        "Xtrain = tokenizer.texts_to_matrix(train_docs, mode='freq')\n",
        "Xtest = tokenizer.texts_to_matrix(test_docs, mode='freq')\n",
        "\n",
        "# define the model\n",
        "n_words = Xtest.shape[1]\n",
        "model = define_model(n_words)\n",
        "\n",
        "# fit network\n",
        "model.fit(Xtrain, ytrain, epochs=10, verbose=2)\n",
        "\n",
        "# evaluate\n",
        "loss, acc = model.evaluate(Xtest, ytest, verbose=0)\n",
        "print('\\n\\nTest Accuracy: %f' % (acc*100))"
      ],
      "metadata": {
        "colab": {
          "base_uri": "https://localhost:8080/"
        },
        "id": "Lsz5OhDYVyUJ",
        "outputId": "6053f76f-8b07-4fab-e56f-95fcee23ad76"
      },
      "execution_count": null,
      "outputs": [
        {
          "output_type": "stream",
          "name": "stdout",
          "text": [
            "Model: \"sequential_3\"\n",
            "_________________________________________________________________\n",
            " Layer (type)                Output Shape              Param #   \n",
            "=================================================================\n",
            " dense_6 (Dense)             (None, 50)                1288450   \n",
            "                                                                 \n",
            " dense_7 (Dense)             (None, 1)                 51        \n",
            "                                                                 \n",
            "=================================================================\n",
            "Total params: 1,288,501\n",
            "Trainable params: 1,288,501\n",
            "Non-trainable params: 0\n",
            "_________________________________________________________________\n",
            "Epoch 1/10\n",
            "57/57 - 1s - loss: 0.6918 - accuracy: 0.5578 - 1s/epoch - 24ms/step\n",
            "Epoch 2/10\n",
            "57/57 - 1s - loss: 0.6828 - accuracy: 0.8583 - 877ms/epoch - 15ms/step\n",
            "Epoch 3/10\n",
            "57/57 - 1s - loss: 0.6646 - accuracy: 0.7689 - 869ms/epoch - 15ms/step\n",
            "Epoch 4/10\n",
            "57/57 - 1s - loss: 0.6362 - accuracy: 0.9150 - 867ms/epoch - 15ms/step\n",
            "Epoch 5/10\n",
            "57/57 - 1s - loss: 0.5980 - accuracy: 0.9272 - 879ms/epoch - 15ms/step\n",
            "Epoch 6/10\n",
            "57/57 - 1s - loss: 0.5538 - accuracy: 0.9411 - 867ms/epoch - 15ms/step\n",
            "Epoch 7/10\n",
            "57/57 - 1s - loss: 0.5066 - accuracy: 0.9461 - 875ms/epoch - 15ms/step\n",
            "Epoch 8/10\n",
            "57/57 - 1s - loss: 0.4590 - accuracy: 0.9528 - 848ms/epoch - 15ms/step\n",
            "Epoch 9/10\n",
            "57/57 - 1s - loss: 0.4136 - accuracy: 0.9606 - 856ms/epoch - 15ms/step\n",
            "Epoch 10/10\n",
            "57/57 - 1s - loss: 0.3723 - accuracy: 0.9644 - 851ms/epoch - 15ms/step\n",
            "\n",
            "\n",
            "Test Accuracy: 87.000000\n"
          ]
        }
      ]
    },
    {
      "cell_type": "code",
      "source": [
        "plot_model(model, to_file='model.png', show_shapes=True)"
      ],
      "metadata": {
        "colab": {
          "base_uri": "https://localhost:8080/",
          "height": 312
        },
        "id": "O33i5PcSXprp",
        "outputId": "cd9e045f-5b06-4430-87fd-fb7347b25684"
      },
      "execution_count": null,
      "outputs": [
        {
          "output_type": "execute_result",
          "data": {
            "image/png": "[encoded data removed]",
            "text/plain": [
              "<IPython.core.display.Image object>"
            ]
          },
          "metadata": {},
          "execution_count": 62
        }
      ]
    },
    {
      "cell_type": "markdown",
      "source": [
        "**Comparing Word Scoring Methods**\n",
        "\n",
        "The *texts_to_matrix()* function for the Tokenizer in the Keras API provides 4 different methods for scoring words; \n",
        "\n",
        "they are:\n",
        "\n",
        "- **binary** Where words are marked as present (1) or absent (0).\n",
        "- **count** Where the occurrence count for each word is marked as an integer.\n",
        "- **tfidf** Where each word is scored based on their frequency, where words that are common across all documents are penalized.\n",
        "- **freq** Where words are scored based on their frequency of occurrence within the document.\n",
        "\n",
        "We can evaluate the skill of the model developed in the previous section fit using each of the 4 supported word scoring modes.\n",
        "\n",
        "The function *prepare_data()* implements this behavior given lists of train and\n",
        "test documents.\n",
        "\n",
        "\n",
        "We also need a function to **evaluate** the MLP given a specific encoding of the data.\n",
        "\n",
        "The function below, named *evaluate_mode()*, takes encoded documents and evaluates the MLP by training it on the train set and estimating skill on the test set 10 times and returns a list of the accuracy scores across all of these runs.\n",
        "\n"
      ],
      "metadata": {
        "id": "l0xBubt1a2qg"
      }
    },
    {
      "cell_type": "code",
      "source": [
        "# prepare bag-of-words encoding of docs\n",
        "def prepare_data(train_docs, test_docs, mode):\n",
        "    # create the tokenizer\n",
        "    tokenizer = Tokenizer()\n",
        "    # fit the tokenizer on the documents\n",
        "    tokenizer.fit_on_texts(train_docs)\n",
        "    # encode training data set\n",
        "    Xtrain = tokenizer.texts_to_matrix(train_docs, mode=mode)\n",
        "    # encode training data set\n",
        "    Xtest = tokenizer.texts_to_matrix(test_docs, mode=mode)\n",
        "    return Xtrain, Xtest"
      ],
      "metadata": {
        "id": "3U-ij4-Aaa4s"
      },
      "execution_count": null,
      "outputs": []
    },
    {
      "cell_type": "code",
      "source": [
        "# evaluate a neural network model\n",
        "def evaluate_mode(Xtrain, ytrain, Xtest, ytest):\n",
        "    scores = list()\n",
        "    n_repeats = 30\n",
        "    n_words = Xtest.shape[1]\n",
        "    for i in range(n_repeats):\n",
        "        # define network\n",
        "        model = Sequential()\n",
        "        model.add(Dense(50, input_shape=(n_words,), activation='relu'))\n",
        "        model.add(Dense(1, activation='sigmoid'))\n",
        "        # compile network\n",
        "        model.compile(loss='binary_crossentropy', optimizer='adam', metrics=['accuracy'])\n",
        "        # fit network\n",
        "        model.fit(Xtrain, ytrain, epochs=10, verbose=2)\n",
        "        # evaluate\n",
        "        loss, acc = model.evaluate(Xtest, ytest, verbose=0)\n",
        "        scores.append(acc)\n",
        "        print('%d accuracy: %s' % ((i+1), acc))\n",
        "    return scores"
      ],
      "metadata": {
        "id": "BHMfuIWsaa14"
      },
      "execution_count": null,
      "outputs": []
    },
    {
      "cell_type": "code",
      "source": [
        "# The complete example is listed below.\n",
        "\n",
        "import string\n",
        "import re\n",
        "from os import listdir\n",
        "from numpy import array\n",
        "from nltk.corpus import stopwords\n",
        "from keras.preprocessing.text import Tokenizer\n",
        "# from keras.utils.vis_utils import plot_model\n",
        "from tensorflow.keras.utils import plot_model\n",
        "from keras.models import Sequential\n",
        "from keras.layers import Dense\n",
        "from pandas import DataFrame\n",
        "from matplotlib import pyplot\n",
        "\n",
        "# load doc into memory\n",
        "def load_doc(filename):\n",
        "    # open the file as read only\n",
        "    file = open(filename, 'r')\n",
        "    # read all text\n",
        "    text = file.read()\n",
        "    # close the file\n",
        "    file.close()\n",
        "    return text\n",
        "\n",
        "# turn a doc into clean tokens\n",
        "def clean_doc(doc):\n",
        "    # split into tokens by white space\n",
        "    tokens = doc.split()\n",
        "    # prepare regex for char filtering\n",
        "    re_punc = re.compile('[%s]' % re.escape(string.punctuation))\n",
        "    # remove punctuation from each word\n",
        "    tokens = [re_punc.sub('', w) for w in tokens]\n",
        "    # remove remaining tokens that are not alphabetic\n",
        "    tokens = [word for word in tokens if word.isalpha()]\n",
        "    # filter out stop words\n",
        "    stop_words = set(stopwords.words('english'))\n",
        "    tokens = [w for w in tokens if not w in stop_words]\n",
        "    # filter out short tokens\n",
        "    tokens = [word for word in tokens if len(word) > 1]\n",
        "    return tokens\n",
        "\n",
        "# load doc, clean and return line of tokens\n",
        "def doc_to_line(filename, vocab):\n",
        "    # load the doc\n",
        "    doc = load_doc(filename)\n",
        "    # clean doc\n",
        "    tokens = clean_doc(doc)\n",
        "    # filter by vocab\n",
        "    tokens = [w for w in tokens if w in vocab]\n",
        "    return ' '.join(tokens)\n",
        "\n",
        "# load all docs in a directory\n",
        "def process_docs(directory, vocab, is_train):\n",
        "    lines = list()\n",
        "    # walk through all files in the folder\n",
        "    for filename in listdir(directory):\n",
        "    # skip any reviews in the test set\n",
        "        if is_train and filename.startswith('cv9'):\n",
        "            continue\n",
        "        if not is_train and not filename.startswith('cv9'):\n",
        "            continue\n",
        "        # create the full path of the file to open\n",
        "        path = directory + '/' + filename\n",
        "        # load and clean the doc\n",
        "        line = doc_to_line(path, vocab)\n",
        "        # add to list\n",
        "        lines.append(line)\n",
        "    return lines\n",
        "\n",
        "# load and clean a dataset\n",
        "def load_clean_dataset(vocab, is_train):\n",
        "    # load documents\n",
        "    directory_pos = '/content/gdrive/My Drive/txt_sentoken/pos'\n",
        "    directory_neg = '/content/gdrive/My Drive/txt_sentoken/neg'\n",
        "    \n",
        "    neg = process_docs(directory_neg, vocab, is_train)\n",
        "    pos = process_docs(directory_pos, vocab, is_train)\n",
        "    docs = neg + pos\n",
        "    # prepare labels\n",
        "    labels = array([0 for _ in range(len(neg))] + [1 for _ in range(len(pos))])\n",
        "    return docs, labels\n",
        "\n",
        "# define the model\n",
        "def define_model(n_words):\n",
        "    # define network\n",
        "    model = Sequential()\n",
        "    model.add(Dense(50, input_shape=(n_words,), activation='relu'))\n",
        "    model.add(Dense(1, activation='sigmoid'))\n",
        "    # compile network\n",
        "    model.compile(loss='binary_crossentropy', optimizer='adam', metrics=['accuracy'])\n",
        "    return model\n",
        "\n",
        "# evaluate a neural network model\n",
        "def evaluate_mode(Xtrain, ytrain, Xtest, ytest):\n",
        "    scores = list()\n",
        "    n_repeats = 10         # Numbers to repeat------------------------------------------#\n",
        "    n_words = Xtest.shape[1]\n",
        "    for i in range(n_repeats):\n",
        "        # define network\n",
        "        model = define_model(n_words)\n",
        "        # fit network\n",
        "        model.fit(Xtrain, ytrain, epochs=10, verbose=0)\n",
        "        # evaluate\n",
        "        _, acc = model.evaluate(Xtest, ytest, verbose=0)\n",
        "        scores.append(acc)\n",
        "        print('%d accuracy: %s' % ((i+1), acc))\n",
        "    return scores\n",
        "\n",
        "# prepare bag-of-words encoding of docs\n",
        "def prepare_data(train_docs, test_docs, mode):\n",
        "    # create the tokenizer\n",
        "    tokenizer = Tokenizer()\n",
        "    # fit the tokenizer on the documents\n",
        "    tokenizer.fit_on_texts(train_docs)\n",
        "    # encode training data set\n",
        "    Xtrain = tokenizer.texts_to_matrix(train_docs, mode=mode)\n",
        "    # encode training data set\n",
        "    Xtest = tokenizer.texts_to_matrix(test_docs, mode=mode)\n",
        "    return Xtrain, Xtest\n",
        "\n",
        "\n",
        "# load the vocabulary\n",
        "vocab_filename = '/content/gdrive/My Drive/txt_sentoken/vocab_train.txt'\n",
        "vocab = load_doc(vocab_filename)\n",
        "vocab = set(vocab.split())\n",
        "\n",
        "# load all reviews\n",
        "train_docs, ytrain = load_clean_dataset(vocab, True)\n",
        "test_docs, ytest = load_clean_dataset(vocab, False)\n",
        "\n",
        "# run experiment\n",
        "modes = ['binary', 'count', 'tfidf', 'freq']\n",
        "results = DataFrame()\n",
        "for mode in modes:\n",
        "    # prepare data for mode\n",
        "    Xtrain, Xtest = prepare_data(train_docs, test_docs, mode)\n",
        "    # evaluate model on data for mode\n",
        "    results[mode] = evaluate_mode(Xtrain, ytrain, Xtest, ytest)\n",
        "\n",
        "# summarize results\n",
        "print(results.describe())\n",
        "# plot results\n",
        "results.boxplot()\n",
        "pyplot.title('Accuracy vs Different Word Scoring Methods.')\n",
        "pyplot.ylabel('Accuracy')\n",
        "pyplot.show()\n"
      ],
      "metadata": {
        "colab": {
          "base_uri": "https://localhost:8080/",
          "height": 1000
        },
        "id": "UFWA-TFCaavh",
        "outputId": "1d54da78-763c-45d1-9536-e9c69ba994df"
      },
      "execution_count": null,
      "outputs": [
        {
          "output_type": "stream",
          "name": "stdout",
          "text": [
            "1 accuracy: 0.925000011920929\n",
            "2 accuracy: 0.925000011920929\n",
            "3 accuracy: 0.9300000071525574\n",
            "4 accuracy: 0.9350000023841858\n",
            "5 accuracy: 0.9200000166893005\n",
            "6 accuracy: 0.9399999976158142\n",
            "7 accuracy: 0.9350000023841858\n",
            "8 accuracy: 0.9350000023841858\n",
            "9 accuracy: 0.9350000023841858\n",
            "10 accuracy: 0.925000011920929\n",
            "1 accuracy: 0.8949999809265137\n",
            "2 accuracy: 0.8999999761581421\n",
            "3 accuracy: 0.8949999809265137\n",
            "4 accuracy: 0.9100000262260437\n",
            "5 accuracy: 0.8999999761581421\n",
            "6 accuracy: 0.8999999761581421\n",
            "7 accuracy: 0.8949999809265137\n",
            "8 accuracy: 0.9049999713897705\n",
            "9 accuracy: 0.8949999809265137\n",
            "10 accuracy: 0.8899999856948853\n",
            "1 accuracy: 0.8899999856948853\n",
            "2 accuracy: 0.8799999952316284\n",
            "3 accuracy: 0.875\n",
            "4 accuracy: 0.8849999904632568\n",
            "5 accuracy: 0.8849999904632568\n",
            "6 accuracy: 0.8999999761581421\n",
            "7 accuracy: 0.8650000095367432\n",
            "8 accuracy: 0.8899999856948853\n",
            "9 accuracy: 0.8799999952316284\n",
            "10 accuracy: 0.8650000095367432\n",
            "1 accuracy: 0.8650000095367432\n",
            "2 accuracy: 0.8700000047683716\n",
            "3 accuracy: 0.8799999952316284\n",
            "4 accuracy: 0.8700000047683716\n",
            "5 accuracy: 0.875\n",
            "6 accuracy: 0.875\n",
            "7 accuracy: 0.8700000047683716\n",
            "8 accuracy: 0.8700000047683716\n",
            "9 accuracy: 0.8700000047683716\n",
            "10 accuracy: 0.8700000047683716\n",
            "          binary      count      tfidf       freq\n",
            "count  10.000000  10.000000  10.000000  10.000000\n",
            "mean    0.930500   0.898500   0.881500   0.871500\n",
            "std     0.006433   0.005798   0.011068   0.004116\n",
            "min     0.920000   0.890000   0.865000   0.865000\n",
            "25%     0.925000   0.895000   0.876250   0.870000\n",
            "50%     0.932500   0.897500   0.882500   0.870000\n",
            "75%     0.935000   0.900000   0.888750   0.873750\n",
            "max     0.940000   0.910000   0.900000   0.880000\n"
          ]
        },
        {
          "output_type": "display_data",
          "data": {
            "image/png": "[encoded data removed]",
            "text/plain": [
              "<Figure size 432x288 with 1 Axes>"
            ]
          },
          "metadata": {
            "needs_background": "light"
          }
        }
      ]
    },
    {
      "cell_type": "code",
      "source": [
        "results.boxplot()\n",
        "pyplot.title('Accuracy vs Different Word Scoring Methods.')\n",
        "pyplot.ylabel('Accuracy')\n",
        "pyplot.show()"
      ],
      "metadata": {
        "colab": {
          "base_uri": "https://localhost:8080/",
          "height": 299
        },
        "id": "RkSazR1Xjp1O",
        "outputId": "11d17f3b-8637-490b-c85d-4aa1349a1911"
      },
      "execution_count": null,
      "outputs": [
        {
          "output_type": "display_data",
          "data": {
            "image/png": "[encoded data removed]",
            "text/plain": [
              "<Figure size 432x288 with 1 Axes>"
            ]
          },
          "metadata": {
            "needs_background": "light"
          }
        },
        {
          "output_type": "display_data",
          "data": {
            "text/plain": [
              "<Figure size 360x576 with 0 Axes>"
            ]
          },
          "metadata": {}
        }
      ]
    },
    {
      "cell_type": "code",
      "source": [
        ""
      ],
      "metadata": {
        "id": "NG1-sqedjsUV"
      },
      "execution_count": null,
      "outputs": []
    },
    {
      "cell_type": "code",
      "source": [
        ""
      ],
      "metadata": {
        "id": "Nectxnpqki_F"
      },
      "execution_count": null,
      "outputs": []
    },
    {
      "cell_type": "markdown",
      "source": [
        "**Predicting Sentiment for New Reviews**\n",
        "\n",
        "Predicting the sentiment of new reviews involves following the same steps used to prepare the test data. \n",
        "\n",
        "Specifically, \n",
        "- loading the text, \n",
        "- cleaning the document, \n",
        "- filtering tokens by the chosen vocabulary, \n",
        "- converting the remaining tokens to a line, \n",
        "- encoding it using the Tokenizer, \n",
        "- and making a prediction.\n",
        "\n",
        "We can make a prediction of a class value directly with the fit model\n",
        "by calling *predict()* that will return an integer of 0 for a negative review and 1 for a positive\n",
        "review.\n",
        "\n",
        "All of these steps can be put into a new function called *predict_sentiment()* that requires the review text, the vocabulary, the tokenizer, and the fit model and returns the predicted sentiment and an associated percentage or confidence-like output.\n",
        "\n"
      ],
      "metadata": {
        "id": "yySt3_ocmU5h"
      }
    },
    {
      "cell_type": "code",
      "source": [
        "# Function for making predictions for new reviews.\n",
        "\n",
        "# classify a review as negative or positive\n",
        "def predict_sentiment(review, vocab, tokenizer, model):\n",
        "    # clean\n",
        "    tokens = clean_doc(review)\n",
        "    # filter by vocab\n",
        "    tokens = [w for w in tokens if w in vocab]\n",
        "    # convert to line\n",
        "    line = ' '.join(tokens)\n",
        "    # encode\n",
        "    encoded = tokenizer.texts_to_matrix([line], mode='binary')\n",
        "    # predict sentiment\n",
        "    yhat = model.predict(encoded, verbose=0)\n",
        "    # retrieve predicted percentage and label\n",
        "    percent_pos = yhat[0,0]\n",
        "    if round(percent_pos) == 0:\n",
        "        return (1-percent_pos), 'NEGATIVE'\n",
        "    return percent_pos, 'POSITIVE'"
      ],
      "metadata": {
        "id": "HaIK0PEonMjU"
      },
      "execution_count": null,
      "outputs": []
    },
    {
      "cell_type": "markdown",
      "source": [
        "We can now make predictions for new review texts. Below is an example with both a clearly *positive* and a clearly *negative* review using the simple MLP developed above with the frequency word scoring mode."
      ],
      "metadata": {
        "id": "BGelTjcPncb2"
      }
    },
    {
      "cell_type": "code",
      "source": [
        "# test positive text\n",
        "text = 'Best movie ever! It was great, I recommend it.'\n",
        "percent, sentiment = predict_sentiment(text, vocab, tokenizer, model)\n",
        "print('Review: [%s]\\nSentiment: %s (%.3f%%)' % (text, sentiment, percent*100))\n",
        "\n",
        "\n",
        "# test negative text\n",
        "text = 'This is a bad movie.'\n",
        "percent, sentiment = predict_sentiment(text, vocab, tokenizer, model)\n",
        "print('Review: [%s]\\nSentiment: %s (%.3f%%)' % (text, sentiment, percent*100))"
      ],
      "metadata": {
        "id": "zuTY5J5CnT49"
      },
      "execution_count": null,
      "outputs": []
    },
    {
      "cell_type": "code",
      "source": [
        "# Pulling this all together, the complete example for making predictions for new reviews is\n",
        "# listed below.\n",
        "\n",
        "\n",
        "import string\n",
        "import re\n",
        "from os import listdir\n",
        "from numpy import array\n",
        "from nltk.corpus import stopwords\n",
        "from keras.preprocessing.text import Tokenizer\n",
        "from tensorflow.keras.utils import plot_model\n",
        "from keras.models import Sequential\n",
        "from keras.layers import Dense\n",
        "\n",
        "# load doc into memory\n",
        "def load_doc(filename):\n",
        "    # open the file as read only\n",
        "    file = open(filename, 'r')\n",
        "    # read all text\n",
        "    text = file.read()\n",
        "    # close the file\n",
        "    file.close()\n",
        "    return text\n",
        "\n",
        "# turn a doc into clean tokens\n",
        "def clean_doc(doc):\n",
        "    # split into tokens by white space\n",
        "    tokens = doc.split()\n",
        "    # prepare regex for char filtering\n",
        "    re_punc = re.compile('[%s]' % re.escape(string.punctuation))\n",
        "    # remove punctuation from each word\n",
        "    tokens = [re_punc.sub('', w) for w in tokens]\n",
        "    # remove remaining tokens that are not alphabetic\n",
        "    tokens = [word for word in tokens if word.isalpha()]\n",
        "    # filter out stop words\n",
        "    stop_words = set(stopwords.words('english'))\n",
        "    tokens = [w for w in tokens if not w in stop_words]\n",
        "    # filter out short tokens\n",
        "    tokens = [word for word in tokens if len(word) > 1]\n",
        "    return tokens\n",
        "\n",
        "# load doc, clean and return line of tokens\n",
        "def doc_to_line(filename, vocab):\n",
        "    # load the doc\n",
        "    doc = load_doc(filename)\n",
        "    # clean doc\n",
        "    tokens = clean_doc(doc)\n",
        "    # filter by vocab\n",
        "    tokens = [w for w in tokens if w in vocab]\n",
        "    return ' '.join(tokens)\n",
        "\n",
        "# load all docs in a directory\n",
        "def process_docs(directory, vocab, is_train):\n",
        "    lines = list()\n",
        "    # walk through all files in the folder\n",
        "    for filename in listdir(directory):\n",
        "    # skip any reviews in the test set\n",
        "        if is_train and filename.startswith('cv9'):\n",
        "            continue\n",
        "        if not is_train and not filename.startswith('cv9'):\n",
        "            continue\n",
        "        # create the full path of the file to open\n",
        "        path = directory + '/' + filename\n",
        "        # load and clean the doc\n",
        "        line = doc_to_line(path, vocab)\n",
        "        # add to list\n",
        "        lines.append(line)\n",
        "    return lines\n",
        "\n",
        "# load and clean a dataset\n",
        "def load_clean_dataset(vocab, is_train):\n",
        "    # load documents\n",
        "    directory_pos = '/content/gdrive/My Drive/txt_sentoken/pos'\n",
        "    directory_neg = '/content/gdrive/My Drive/txt_sentoken/neg'\n",
        "    \n",
        "    neg = process_docs(directory_neg, vocab, is_train)\n",
        "    pos = process_docs(directory_pos, vocab, is_train)\n",
        "    docs = neg + pos\n",
        "    # prepare labels\n",
        "    labels = array([0 for _ in range(len(neg))] + [1 for _ in range(len(pos))])\n",
        "    return docs, labels\n",
        "\n",
        "# fit a tokenizer\n",
        "def create_tokenizer(lines):\n",
        "    tokenizer = Tokenizer()\n",
        "    tokenizer.fit_on_texts(lines)\n",
        "    return tokenizer\n",
        "\n",
        "# define the model\n",
        "def define_model(n_words):\n",
        "    # define network\n",
        "    model = Sequential()\n",
        "    model.add(Dense(50, input_shape=(n_words,), activation='relu'))\n",
        "    model.add(Dense(1, activation='sigmoid'))\n",
        "    # compile network\n",
        "    model.compile(loss='binary_crossentropy', optimizer='adam', metrics=['accuracy'])\n",
        "    # summarize defined model\n",
        "    model.summary()\n",
        "    plot_model(model, to_file='model.png', show_shapes=True)\n",
        "    return model\n",
        "\n",
        "# classify a review as negative or positive\n",
        "def predict_sentiment(review, vocab, tokenizer, model):\n",
        "    # clean\n",
        "    tokens = clean_doc(review)\n",
        "    # filter by vocab\n",
        "    tokens = [w for w in tokens if w in vocab]\n",
        "    # convert to line\n",
        "    line = ' '.join(tokens)\n",
        "    # encode\n",
        "    encoded = tokenizer.texts_to_matrix([line], mode='binary')\n",
        "    # predict sentiment\n",
        "    yhat = model.predict(encoded, verbose=0)\n",
        "    # retrieve predicted percentage and label\n",
        "    percent_pos = yhat[0,0]\n",
        "    if round(percent_pos) == 0:\n",
        "        return (1-percent_pos), 'NEGATIVE'\n",
        "    return percent_pos, 'POSITIVE'\n",
        "\n",
        "# load the vocabulary\n",
        "vocab_filename = '/content/gdrive/My Drive/txt_sentoken/vocab_train.txt'\n",
        "vocab = load_doc(vocab_filename)\n",
        "vocab = set(vocab.split())\n",
        "\n",
        "# load all reviews\n",
        "train_docs, ytrain = load_clean_dataset(vocab, True)\n",
        "test_docs, ytest = load_clean_dataset(vocab, False)\n",
        "\n",
        "# create the tokenizer\n",
        "tokenizer = create_tokenizer(train_docs)\n",
        "# encode data\n",
        "Xtrain = tokenizer.texts_to_matrix(train_docs, mode='binary')\n",
        "Xtest = tokenizer.texts_to_matrix(test_docs, mode='binary')\n",
        "\n",
        "# define network\n",
        "n_words = Xtrain.shape[1]\n",
        "model = define_model(n_words)\n",
        "\n",
        "# fit network\n",
        "model.fit(Xtrain, ytrain, epochs=10, verbose=2)\n",
        "\n",
        "# test positive text\n",
        "text = 'Best movie ever! It was great, I recommend it.'\n",
        "percent, sentiment = predict_sentiment(text, vocab, tokenizer, model)\n",
        "print('\\n\\nReview: [%s]\\nSentiment: %s (%.3f%%)' % (text, sentiment, percent*100))\n",
        "\n",
        "# test negative text\n",
        "text = 'This is a bad movie.'\n",
        "percent, sentiment = predict_sentiment(text, vocab, tokenizer, model)\n",
        "print('\\n\\nReview: [%s]\\nSentiment: %s (%.3f%%)' % (text, sentiment, percent*100))"
      ],
      "metadata": {
        "colab": {
          "base_uri": "https://localhost:8080/"
        },
        "id": "sscohgI0n8uU",
        "outputId": "9351b0bc-a17a-4a8d-9a42-d3150f3af5e2"
      },
      "execution_count": null,
      "outputs": [
        {
          "output_type": "stream",
          "name": "stdout",
          "text": [
            "Model: \"sequential_41\"\n",
            "_________________________________________________________________\n",
            " Layer (type)                Output Shape              Param #   \n",
            "=================================================================\n",
            " dense_82 (Dense)            (None, 50)                1288450   \n",
            "                                                                 \n",
            " dense_83 (Dense)            (None, 1)                 51        \n",
            "                                                                 \n",
            "=================================================================\n",
            "Total params: 1,288,501\n",
            "Trainable params: 1,288,501\n",
            "Non-trainable params: 0\n",
            "_________________________________________________________________\n",
            "Epoch 1/10\n",
            "57/57 - 1s - loss: 0.4845 - accuracy: 0.7644 - 733ms/epoch - 13ms/step\n",
            "Epoch 2/10\n",
            "57/57 - 0s - loss: 0.0660 - accuracy: 0.9911 - 222ms/epoch - 4ms/step\n",
            "Epoch 3/10\n",
            "57/57 - 0s - loss: 0.0175 - accuracy: 0.9994 - 231ms/epoch - 4ms/step\n",
            "Epoch 4/10\n",
            "57/57 - 0s - loss: 0.0089 - accuracy: 1.0000 - 227ms/epoch - 4ms/step\n",
            "Epoch 5/10\n",
            "57/57 - 0s - loss: 0.0055 - accuracy: 1.0000 - 241ms/epoch - 4ms/step\n",
            "Epoch 6/10\n",
            "57/57 - 0s - loss: 0.0035 - accuracy: 1.0000 - 231ms/epoch - 4ms/step\n",
            "Epoch 7/10\n",
            "57/57 - 0s - loss: 0.0022 - accuracy: 1.0000 - 235ms/epoch - 4ms/step\n",
            "Epoch 8/10\n",
            "57/57 - 0s - loss: 0.0015 - accuracy: 1.0000 - 227ms/epoch - 4ms/step\n",
            "Epoch 9/10\n",
            "57/57 - 0s - loss: 0.0011 - accuracy: 1.0000 - 227ms/epoch - 4ms/step\n",
            "Epoch 10/10\n",
            "57/57 - 0s - loss: 8.4566e-04 - accuracy: 1.0000 - 238ms/epoch - 4ms/step\n",
            "\n",
            "\n",
            "Review: [Best movie ever! It was great, I recommend it.]\n",
            "Sentiment: POSITIVE (58.302%)\n",
            "\n",
            "\n",
            "Review: [This is a bad movie.]\n",
            "Sentiment: NEGATIVE (62.448%)\n"
          ]
        }
      ]
    },
    {
      "cell_type": "markdown",
      "source": [
        "This section lists some extensions if you are looking to get more out of this tutorial.\n",
        "- **Manage Vocabulary**. Explore using a larger or smaller vocabulary. Perhaps you can get better performance with a smaller set of words.\n",
        "- **Tune the Network Topology**. Explore alternate network topologies such as deeper or wider networks. Perhaps you can get better performance with a more suited network.\n",
        "- **Use Regularization**. Explore the use of regularization techniques, such as dropout. Perhaps you can delay the convergence of the model and achieve better test set performance.\n",
        "- **More Data Cleaning**. Explore more or less cleaning of the review text and see how it impacts the model skill.\n",
        "- **Training Diagnostics**. Use the test dataset as a validation dataset during training and create plots of train and test loss. Use these diagnostics to tune the batch size and number of training epochs.\n",
        "- **Trigger Words**. Explore whether there are speci-c words in reviews that are highly predictive of the sentiment.\n",
        "- **Use Bigrams**. Prepare the model to score bigrams of words and evaluate the performance under different scoring schemes.\n",
        "- **Truncated Reviews**. Explore how using a truncated version of the movie reviews results impacts model skill, try truncating the start, end and middle of reviews.\n",
        "- **Ensemble Models**. Create models with different word scoring schemes and see if using ensembles of the models results in improves to model skill.\n",
        "- **Real Reviews**. Train a final model on all data and evaluate the model on real movie reviews taken from the internet."
      ],
      "metadata": {
        "id": "JhryhBIfq5sL"
      }
    },
    {
      "cell_type": "markdown",
      "source": [
        "**خلاصه فرآیند مدل سازی تشخیص احساسات با روش کیسه کلمات**\n",
        "\n",
        "تشخیص احساس در مورد نظرات افراد دررابطه با فیلم ها می باشد که هزار نظر مثبت در فولدر نظرات مثبت و هزار نظر منفی در فولدر منفی ذخیره شده است\n",
        "\n",
        "هدف این است که با آموزش این کلمات و متون به ماشین نظرات جدید را بتوانیم دسته بندی کنیم و در واقع خروجی مدل بصورت باینری خواهد بود که صفر برای نظر منفی و یک برای نظر مثبت خواهد بود\n",
        "\n",
        "1.ابتدا کلیه کلمات از متن های مثبت و منفی خوانده و پس از تمیز کاری در فایلی ذخیره می شوند تا بعنوان مرجع مورد استفاده قرار گیرد\n",
        "\n",
        "2.در گام دوم متن های فولدرهای مثبت ومنفی خوانده می شوند و اگر کلمات آنها در مرجع موجود بود در یک خط با یک فاصله اسپیس کنار هم قرار می گیرند و داده های منفی با صفر و مثبت با یک در ستون مجزا لیبل گذاری می شوند \n",
        "\n",
        "3.در گام سوم داده های آموزش و تست باید جداسازی شوند در این درس بر اساس نام فایل که دارای شماره سریال بود این کار انجام شد و ده درصد داده ها برای تست در نظر گرفته شد\n",
        "\n",
        "4.در مرحله چهارم با استفاده از تابع توکنایزر از کتابخانه کراس از کلمات داده های آموزش آرایه ای تشکیل و آنها را با استفاده از تابع فیت آن تکستس اینکود می کنیم و آبجکتی از توکنایزر ایجاد می شود که برای تبدیل داده های تست نیز مورد استفاده قرار میگیرد\n",
        "\n",
        "5.در مرحله پنجم و پس از تشکیل آبجکت توکنایزر از آرایه کلمات داده های آموزشی در مرحله چهارم داده های تست را نیز با همان آبجکت و تابع فیت آن تکستس اینکود می کنیم\n",
        "\n",
        "6.در گام ششم و پس از تشکیل آرایه های داده های آموزش و تست آنها را به ماتریس های عددی تبدیل می کنیم این کار با استفاده از تابع تکست تو ماتریکس از آبجکت توکنایزر گام چهار انجام می شود\n",
        "\n",
        "7.پس از آماده سازی داده های آموزش و تست کار آماده سازی مدل شبکه عصبی با استفاده از تابع سکوئنشال و تعریف لایه ها و تعداد آنها صورت می گیرد\n",
        "\n",
        "8.در گام هشتم مدل را با داده های آموزشی فیت می نماییم \n",
        "\n",
        "9.پس از فیت کردن با داده های آموزشی مدل را با داده های تست آزمایش می کنیم و نمره ارزیابی آن را بررسی می کنیم\n",
        "\n",
        "10.می توانیم با تغییر آرگومان های مختلف در تشکیل توکنایزر گام چهار یا تشکیل مدل در گام هفتم امتیازات بدست آمده را بررسی کنیم\n",
        "\n",
        "11.با انتخاب بهترین پارامترها در گام دهم می توانیم داده های جدید برای گرفتن پیش بینی نتیجه به مدل ارائه نماییم و کار پیش بینی انجام شود"
      ],
      "metadata": {
        "id": "CdCu_FnPFWvV"
      }
    },
    {
      "cell_type": "markdown",
      "source": [
        ""
      ],
      "metadata": {
        "id": "OO7wRNwu7Ncf"
      }
    },
    {
      "cell_type": "markdown",
      "source": [
        "# Part V Word Embeddings"
      ],
      "metadata": {
        "id": "JUmGTwmlsphA"
      }
    },
    {
      "cell_type": "markdown",
      "source": [
        "## **The Word Embedding Model**\n",
        "\n",
        "Word embeddings are a type of word representation that allows words with similar meaning to have a similar representation. \n",
        "\n",
        "They are a distributed representation for text that is perhaps one\n",
        "of the key breakthroughs for the impressive performance of deep learning methods on challenging natural language processing problems.\n",
        "\n",
        "After completing this chapter, you will know:\n",
        "- What the word embedding approach for representing text is and how it di\u000bers from other feature extraction methods.\n",
        "- That there are 3 main algorithms for learning a word embedding from text data.\n",
        "- That you can either train a new embedding or use a pre-trained embedding on your natural language processing task."
      ],
      "metadata": {
        "id": "AczUocuFsPuk"
      }
    },
    {
      "cell_type": "markdown",
      "source": [
        "**What Are Word Embeddings?**\n",
        "\n",
        "A word embedding is an approach to provide a dense vector representation of words that capture something about their meaning. \n",
        "\n",
        "Word embeddings are an improvement over simpler bag-of-word model word encoding schemes like word counts and frequencies that result in large and sparse vectors (mostly 0 values) that describe documents but not the meaning of the words.\n",
        "\n",
        "\n",
        "\n",
        "\n",
        "\"\"\"\n",
        "\n",
        "*What does word embedding mean?*\n",
        "Word embedding is just a fancy way of saying numerical representation of words. A good analogy would be how we use the RGB representation for colors. \n",
        "\n",
        "When in science, we say speed of my car is 45 km/hr we gain a sense of how fast/slow we are driving. If we say my friend is driving at 60 km/hr, we can compare which one of us is going faster.\n",
        "\n",
        "What’s worth more a shoe or a purse? Well, as different as those two objects are, one way to answer that is to compare their prices.\n",
        "\n",
        "Now that we know numerical representation of objects aids in analysis by quantifying a certain quality, the question is *what quality of words do we want to quantify?*\n",
        "\n",
        "The answer to that is, we want to quantify the semantics. We want to represent words in such a manner that it captures its meaning in a way humans do. Not the exact meaning of the word but a contextual one. For example, when I say the word see, we know exactly what action — the context — I’m talking about, even though we might not be able to quote its meaning, the kind we would find in a dictionary, of the top of our head.\n",
        "\n",
        "\"\"\"\n",
        "\n",
        "(https://towardsdatascience.com/nlp-101-word2vec-skip-gram-and-cbow-93512ee24314)\n",
        "\n"
      ],
      "metadata": {
        "id": "VR09mZzxuMwa"
      }
    },
    {
      "cell_type": "markdown",
      "source": [
        "**Word Embedding Algorithms**\n",
        "\n",
        "**1- Embedding Layer**\n",
        "\n",
        "The one hot encoded words are mapped to the word vectors. If a Multilayer Perceptron model is used, then the word vectors are concatenated before being fed as input to the model.\n",
        "\n",
        "This approach of learning an embedding layer requires a lot of training data and can be slow, but will learn an embedding both targeted to the specific text data and the NLP task.\n",
        "\n",
        "**2- Word2Vec**\n",
        "\n",
        "Word2Vec is a statistical method for efficiently learning a standalone word embedding from a text corpus.\n",
        "\n",
        "Additionally, the work involved analysis of the learned vectors and the exploration of vector math on the representations of words. \n",
        "\n",
        "For example, that subtracting the man-ness from *King* and adding women-ness results in the word *Queen*, capturing the analogy king is to queen as\n",
        "man is to woman.\n",
        "\n",
        "Two different learning models were introduced that can be used as part of the Word2Vec approach to learn the word embedding; they are:\n",
        "\n",
        "- Continuous Bag-of-Words, or CBOW model.\n",
        "- Continuous Skip-Gram Model.\n",
        "\n",
        "The CBOW model learns the embedding by predicting the current word based on its context.\n",
        "\n",
        "The continuous skip-gram model learns by predicting the surrounding words given a current word.\n",
        "\n",
        "Both models are focused on learning about words given their local usage context, where the context is defined by a window of neighboring words. \n",
        "\n",
        "This window is a configurable parameter of the model.\n",
        "\n",
        "The size of the sliding window has a strong effect on the resulting vector similarities.\n",
        "\n",
        "Large windows tend to produce more topical similarities [...], while smaller windows tend to produce more functional and syntactic similarities.\n",
        "\n",
        "The key benefit of the approach is that high-quality word embeddings can be learned efficiently (low space and time complexity), allowing larger embeddings to be learned (more dimensions) from much larger corpora of text (billions of words).\n",
        "\n",
        "\n",
        "**3- Glo Ve**\n",
        "\n",
        "The Global Vectors for Word Representation, or GloVe, algorithm is an extension to the Word2Vec method for e\u000eciently learning word vectors.\n",
        "\n",
        "Rather than using a window to define local context, GloVe constructs an explicit word-context or word co-occurrence matrix using statistics across the whole text corpus. \n",
        "\n",
        "The result is a learning model that may result in\n",
        "generally better word embeddings.\n",
        "\n",
        "GloVe, is a new global log-bilinear regression model for the unsupervised learning of word representations that outperforms other models on word analogy, word similarity, and named entity recognition tasks."
      ],
      "metadata": {
        "id": "yhEOUDoO2IwZ"
      }
    },
    {
      "cell_type": "markdown",
      "source": [
        "**Using Word Embeddings**\n",
        "\n",
        "**Learn an Embedding**\n",
        "\n",
        "You may choose to learn a word embedding for your problem. This will require a large amount of text data to ensure that useful embeddings are learned, such as millions or billions of words.\n",
        "\n",
        "You have two main options when training your word embedding:\n",
        "- **Learn it Standalone**, where a model is trained to learn the embedding, which is saved and used as a part of another model for your task later. This is a good approach if you would like to use the same embedding in multiple models.\n",
        "- **Learn Jointly**, where the embedding is learned as part of a large task-specific model. This is a good approach if you only intend to use the embedding on one task.\n",
        "\n",
        "**Reuse an Embedding**\n",
        "\n",
        "It is common for researchers to make pre-trained word embeddings available for free, often under a permissive license so that you can use them on your own academic or commercial projects. For example, both Word2Vec and GloVe word embeddings are available for free download. \n",
        "\n",
        "These can be used on your project instead of training your own embeddings from scratch. You have\n",
        "two main options when it comes to using pre-trained embeddings:\n",
        "- **Static**, where the embedding is kept static and is used as a component of your model. This is a suitable approach if the embedding is a good fit for your problem and gives good\n",
        "results.\n",
        "- **Updated**, where the pre-trained embedding is used to seed the model, but the embedding is updated jointly during the training of the model. This may be a good option if you are looking to get the most out of the model and embedding on your task."
      ],
      "metadata": {
        "id": "EdLPtr8j5aqi"
      }
    },
    {
      "cell_type": "markdown",
      "source": [
        "## **How to Develop Word Embeddings with Gensim**\n",
        "\n",
        "\n",
        "Word embeddings are a modern approach for representing text in natural language processing.\n",
        "\n",
        "Embedding algorithms like Word2Vec and GloVe are key to the state-of-the-art results achieved by neural network models on natural language processing problems like machine translation.\n",
        "\n",
        "After completing this tutorial, you\n",
        "will know:\n",
        "- How to train your own Word2Vec word embedding model on text data.\n",
        "- How to visualize a trained word embedding model using Principal Component Analysis.\n",
        "- How to load pre-trained Word2Vec and GloVe word embedding models from Google and Stanford.\n",
        "\n"
      ],
      "metadata": {
        "id": "hTa8zdA-7BKH"
      }
    },
    {
      "cell_type": "markdown",
      "source": [
        "**Word Embeddings**\n",
        "\n",
        "A word embedding is an approach to provide a dense vector representation of words that capture something about their meaning. \n",
        "\n",
        "Word embeddings are an improvement over simpler bag-of-word\n",
        "model word encoding schemes like word counts and frequencies that result in large and sparse vectors (mostly 0 values) that describe documents but not the meaning of the words.\n",
        "\n",
        "In this tutorial, we are going to look at how to use two di\u000berent word embedding methods called Word2Vec by researchers at Google and GloVe by researchers at Stanford.\n",
        "\n",
        "\n",
        "**Gensim Python Library**\n",
        "\n",
        "Gensim is a mature, focused, and efficient suite of NLP tools for topic modeling.\n",
        "\n",
        "It also provides tools for loading pre-trained word embeddings in a few formats and for making use and querying a loaded embedding.\n",
        "\n",
        "**Develop Word2Vec Embedding**\n",
        "\n",
        "Word2Vec is one algorithm for learning a word embedding from a text corpus. \n",
        "\n",
        "There are two main training algorithms that can be used to learn the embedding from text; they are **Continuous Bag-of-Words (CBOW)** and **skip grams**. \n",
        "\n",
        "We will not get into the algorithms other than to say that they generally look at a window of words for each target word to provide context and in turn meaning for words. \n",
        "\n",
        "The approach was developed by Tomas Mikolov, formerly at Google and currently at Facebook.\n",
        "\n",
        "Gensim provides the Word2Vec class for working with a Word2Vec model. Learning a word embedding from text involves loading and organizing the text into sentences and providing them to the constructor of a new *Word2Vec()* instance. \n",
        "\n",
        "For example:\n",
        "\n",
        "sentences = ...\n",
        "\n",
        "model = Word2Vec(sentences)\n",
        "\n",
        "\n",
        "\n",
        "Specifically, each sentence must be tokenized, meaning divided into words and prepared (e.g. perhaps pre-filtered and perhaps converted to a preferred case). \n",
        "\n",
        "The sentences could be text loaded into memory, or an iterator that progressively loads text, required for very large text corpora. \n",
        "\n",
        "There are many parameters on this constructor; a few noteworthy arguments you may wish to configure are:\n",
        "- **size**: (default 100) The number of dimensions of the embedding, e.g. the length of the\n",
        "dense vector to represent each token (word).\n",
        "- **window**: (default 5) The maximum distance between a target word and words around the\n",
        "target word.\n",
        "- **min count**: (default 5) The minimum count of words to consider when training the model;\n",
        "words with an occurrence less than this count will be ignored.\n",
        "- **workers**: (default 3) The number of threads to use while training.\n",
        "- **sg**: (default 0 or CBOW) The training algorithm, either **CBOW** (0) or **skip gram** (1)."
      ],
      "metadata": {
        "id": "PSG-D5zQ734m"
      }
    },
    {
      "cell_type": "markdown",
      "source": [
        ""
      ],
      "metadata": {
        "id": "-Ai78V9w_6QM"
      }
    },
    {
      "cell_type": "code",
      "source": [
        "from gensim.models import Word2Vec\n",
        "# define training data\n",
        "sentences = [['this', 'is', 'the', 'first', 'sentence', 'for', 'word2vec'],\n",
        "['this', 'is', 'the', 'second', 'sentence'],\n",
        "['yet', 'another', 'sentence'],\n",
        "['one', 'more', 'sentence'],\n",
        "['and', 'the', 'final', 'sentence']]\n",
        "# train model\n",
        "model = Word2Vec(sentences, min_count=1)\n",
        "# summarize the loaded model\n",
        "print(model)\n",
        "# summarize vocabulary\n",
        "words = list(model.wv.vocab)\n",
        "print('\\n\\nwords are\\n\\n',words)\n",
        "\n",
        "# print(model.wv.__getitem__('sentence'))\n",
        "# access vector for one word\n",
        "print('\\n\\nword embedding vector Shape:',model.wv.__getitem__('sentence').shape)\n",
        "print('\\n\\nword embedding vector\\n\\n',model.wv.__getitem__('sentence'))\n",
        "# save model\n",
        "model.save('model.bin')\n",
        "# load model\n",
        "new_model = Word2Vec.load('model.bin')\n",
        "print(new_model)"
      ],
      "metadata": {
        "id": "uftF1CAHsntK",
        "colab": {
          "base_uri": "https://localhost:8080/"
        },
        "outputId": "68f6fa2d-cca5-4326-9967-b6849be0779d"
      },
      "execution_count": null,
      "outputs": [
        {
          "output_type": "stream",
          "name": "stdout",
          "text": [
            "Word2Vec(vocab=14, size=100, alpha=0.025)\n",
            "\n",
            "\n",
            "words are\n",
            "\n",
            " ['this', 'is', 'the', 'first', 'sentence', 'for', 'word2vec', 'second', 'yet', 'another', 'one', 'more', 'and', 'final']\n",
            "\n",
            "\n",
            "word embedding vector Shape: (100,)\n",
            "\n",
            "\n",
            "word embedding vector\n",
            "\n",
            " [-0.00408992  0.00233549  0.00245788 -0.00315892 -0.00015476 -0.00019615\n",
            " -0.00400534 -0.00437021 -0.00356167  0.00106739 -0.0026697   0.00081435\n",
            " -0.00198241 -0.0021575  -0.00418156  0.0009296  -0.00373121 -0.00068261\n",
            "  0.00031517  0.00283401 -0.00122963 -0.00483537  0.00444259 -0.00359695\n",
            " -0.00415709 -0.00259186  0.00225392  0.001174    0.00149953 -0.00091013\n",
            " -0.00222917  0.00462779 -0.00251706  0.0007516  -0.00359216  0.00396291\n",
            "  0.00211514 -0.00244991  0.00296053  0.00177733  0.00189665 -0.0026813\n",
            " -0.00275128  0.00477049  0.00030689 -0.00436679  0.00448727  0.00209161\n",
            " -0.0016321  -0.00416475 -0.00225303 -0.0034928   0.00411773  0.00181645\n",
            " -0.00353575 -0.00010728 -0.00370376 -0.00463837 -0.00397267  0.0048064\n",
            " -0.00303444  0.00235117  0.00487285 -0.00351589 -0.00346969  0.00449518\n",
            " -0.00262899  0.00059751  0.0045228  -0.00025577 -0.00185464 -0.00040565\n",
            "  0.00405882 -0.00222669  0.0044264   0.0008603  -0.00240773  0.00061937\n",
            " -0.00117363  0.00188675  0.00367595 -0.00319599  0.00420387 -0.00476647\n",
            "  0.00438284  0.00181443 -0.00215483  0.00026495  0.00277521  0.00204697\n",
            "  0.00171168  0.00348321  0.00183304  0.0013634   0.00250114  0.00406282\n",
            "  0.00294113  0.00078327  0.00191978  0.00435864]\n",
            "Word2Vec(vocab=14, size=100, alpha=0.025)\n"
          ]
        }
      ]
    },
    {
      "cell_type": "markdown",
      "source": [
        "**Plot Word Vectors Using PCA**\n",
        "\n",
        "PCA(Priciple Components Analysis) will give us two components of each vector (from 100 in each vector) that we can use it for drawing a plot (scatterplot).\n",
        "\n",
        "We can retrieve all of the vectors from a trained model as follows:\n",
        "\n",
        "X = model[model.wv.vocab]\n",
        "\n",
        "and use PCA from Scikit Learn"
      ],
      "metadata": {
        "id": "vHWSOZT-86vw"
      }
    },
    {
      "cell_type": "code",
      "source": [
        "from gensim.models import Word2Vec\n",
        "from sklearn.decomposition import PCA\n",
        "from matplotlib import pyplot\n",
        "# define training data\n",
        "sentences = [['this', 'is', 'the', 'first', 'sentence', 'for', 'word2vec'],\n",
        "['this', 'is', 'the', 'second', 'sentence'],\n",
        "['yet', 'another', 'sentence'],\n",
        "['one', 'more', 'sentence'],\n",
        "['and', 'the', 'final', 'sentence']]\n",
        "# train model\n",
        "model = Word2Vec(sentences, min_count=1)\n",
        "# fit a 2d PCA model to the vectors\n",
        "X = model[model.wv.vocab]\n",
        "pca = PCA(n_components=2)\n",
        "result = pca.fit_transform(X)\n",
        "# create a scatter plot of the projection\n",
        "pyplot.scatter(result[:, 0], result[:, 1])\n",
        "words = list(model.wv.vocab)\n",
        "for i, word in enumerate(words):\n",
        "    pyplot.annotate(word, xy=(result[i, 0], result[i, 1]))\n",
        "pyplot.show()"
      ],
      "metadata": {
        "id": "5RwzNX_YHdtK",
        "colab": {
          "base_uri": "https://localhost:8080/",
          "height": 322
        },
        "outputId": "0c0abab8-c73d-413b-c0bc-04e06c2fe650"
      },
      "execution_count": null,
      "outputs": [
        {
          "output_type": "stream",
          "name": "stderr",
          "text": [
            "/usr/local/lib/python3.7/dist-packages/ipykernel_launcher.py:13: DeprecationWarning: Call to deprecated `__getitem__` (Method will be removed in 4.0.0, use self.wv.__getitem__() instead).\n",
            "  del sys.path[0]\n"
          ]
        },
        {
          "output_type": "display_data",
          "data": {
            "image/png": "[encoded data removed]",
            "text/plain": [
              "<Figure size 432x288 with 1 Axes>"
            ]
          },
          "metadata": {
            "needs_background": "light"
          }
        }
      ]
    },
    {
      "cell_type": "markdown",
      "source": [
        "**Load Google's Word2Vec Embedding**\n",
        "\n",
        "The pre-trained Google Word2Vec model was trained on Google news data (about 100\n",
        "billion words); it contains 3 million words and phrases and was fit using 300-dimensional word vectors. It is a 1.53 Gigabyte file. \n",
        "\n",
        "You can download it from here:\n",
        "\n",
        "GoogleNews-vectors-negative300.bin.gz.\n",
        "\n",
        "https://drive.google.com/file/d/0B7XkCwpI5KDYNlNUTTlSS21pQmM/edit?usp=sharing\n",
        "\n",
        "Unzipped, the binary file (GoogleNews-vectors-negative300.bin) is 3.4 Gigabytes. \n",
        "\n",
        "The Gensim library provides tools to load this file. \n",
        "\n",
        "Specically, you can call the *KeyedVectors.load_word2vec_format()* function to load this model into memory, \n",
        "\n",
        "\n",
        "\n"
      ],
      "metadata": {
        "id": "iA4p4-7j-hVI"
      }
    },
    {
      "cell_type": "code",
      "source": [
        "# for example:\n",
        "\n",
        "filename = 'GoogleNews-vectors-negative300.bin'\n",
        "\n",
        "model = KeyedVectors.load_word2vec_format(filename, binary=True)"
      ],
      "metadata": {
        "id": "fVm8DqRC9gq6"
      },
      "execution_count": null,
      "outputs": []
    },
    {
      "cell_type": "code",
      "source": [
        "# Example demonstrating arithmetic with Google word vectors.\n",
        "\n",
        "\n",
        "from gensim.models import KeyedVectors\n",
        "# load the google word2vec model\n",
        "filename = 'GoogleNews-vectors-negative300.bin'\n",
        "model = KeyedVectors.load_word2vec_format(filename, binary=True)\n",
        "# calculate: (king - man) + woman = ?\n",
        "result = model.most_similar(positive=['woman', 'king'], negative=['man'], topn=1)\n",
        "print(result)\n",
        "\n",
        "\n",
        "# Reslt of Above code --------------->  [('queen', 0.7118192315101624)]"
      ],
      "metadata": {
        "id": "gvNZIJtoBuM-"
      },
      "execution_count": null,
      "outputs": []
    },
    {
      "cell_type": "markdown",
      "source": [
        "**Load Stanford's GloVe Embedding**\n",
        "\n",
        "Like Word2Vec, the GloVe researchers also provide pre-trained word vectors, in this case, a great selection to choose from. \n",
        "\n",
        "You can download the GloVe pre-trained word vectors and load them easily with Gensim.\n",
        "\n",
        "The first step is to convert the GloVe file format to the Word2Vec file\n",
        "format. The only di\u000berence is the addition of a small header line. \n",
        "\n",
        "This can be done by calling the *glove2word2vec()* function. \n",
        "\n",
        "For example Working with the 100-dimensional version of the model, we can convert the file to Word2Vec format as follows:"
      ],
      "metadata": {
        "id": "o2Z1e33dDcc_"
      }
    },
    {
      "cell_type": "code",
      "source": [
        "from gensim.scripts.glove2word2vec import glove2word2vec\n",
        "glove_input_file = 'glove.6B.100d.txt'\n",
        "word2vec_output_file = 'glove.6B.100d.txt.word2vec'\n",
        "glove2word2vec(glove_input_file, word2vec_output_file)"
      ],
      "metadata": {
        "id": "9o7wcYF4BuKP"
      },
      "execution_count": null,
      "outputs": []
    },
    {
      "cell_type": "code",
      "source": [
        "# Example demonstrating how to load and use GloVe word embeddings.\n",
        "\n",
        "from gensim.models import KeyedVectors\n",
        "from gensim.scripts.glove2word2vec import glove2word2vec\n",
        "\n",
        "# convert glove to word2vec format\n",
        "glove_input_file = 'glove.6B.100d.txt'\n",
        "word2vec_output_file = 'glove.6B.100d.txt.word2vec'\n",
        "glove2word2vec(glove_input_file, word2vec_output_file)\n",
        "\n",
        "# load the converted model\n",
        "filename = 'glove.6B.100d.txt.word2vec'\n",
        "model = KeyedVectors.load_word2vec_format(filename, binary=False)\n",
        "\n",
        "\n",
        "# calculate: (king - man) + woman = ?\n",
        "result = model.most_similar(positive=['woman', 'king'], negative=['man'], topn=1)\n",
        "print(result)\n",
        "\n",
        "\n",
        "# Reslt of Above code --------------->  [('queen', 0.7698540687561035)]"
      ],
      "metadata": {
        "id": "GxnkuIwUD83V"
      },
      "execution_count": null,
      "outputs": []
    },
    {
      "cell_type": "code",
      "source": [
        ""
      ],
      "metadata": {
        "id": "SO2pgouiBuEW"
      },
      "execution_count": null,
      "outputs": []
    },
    {
      "cell_type": "markdown",
      "source": [
        "## **How to Learn and Load Word Embeddings in Keras**\n",
        "\n",
        "\n",
        "Two\n",
        "popular examples of methods of learning word embeddings from text include:\n",
        "- Word2Vec.\n",
        "- GloVe.\n",
        "\n",
        "In addition to these carefully designed methods, a word embedding can be learned as part of a deep learning model. \n",
        "\n",
        "This can be a slower approach, but tailors the model to a specific training dataset.\n",
        "\n",
        "**Keras Embedding Layer**\n",
        "\n",
        "Keras offers an Embedding layer that can be used for neural networks on text data. It requires that the input data be integer encoded, so that each word is represented by a unique integer.\n",
        "\n",
        "This data preparation step can be performed using the Tokenizer API also provided with Keras.\n",
        "\n",
        "The Embedding layer is initialized with **random weights** and will learn an embedding for all of the words in the training dataset. \n",
        "\n",
        "It is a flexible layer that can be used in a variety of ways, such as:\n",
        "- It can be used alone to learn a word embedding that can be saved and used in another\n",
        "model later.\n",
        "- It can be used as part of a deep learning model where the embedding is learned along with the model itself.\n",
        "- It can be used to load a pre-trained word embedding model, a type of transfer learning.\n",
        "\n",
        "The Embedding layer is defined as the first hidden layer of a network. It must specify **3 arguments**:\n",
        "\n",
        "- **input dim**: This is the size of the vocabulary in the text data. For example, if your data is integer encoded to values between 0-10, then the size of the vocabulary would be 11 words.\n",
        "\n",
        "- **output dim**: This is the size of the vector space in which words will be embedded. It defines the size of the output vectors from this layer for each word. For example, it could be 32 or 100 or even larger. Test di\u000berent values for your problem.\n",
        "- **input length**: This is the length of input sequences, as you would define for any input layer of a Keras model. For example, if all of your input documents are comprised of 1000 words, this would be 1000."
      ],
      "metadata": {
        "id": "QLWTuTNCEqBE"
      }
    },
    {
      "cell_type": "code",
      "source": [
        "# For example, below we define an Embedding layer with a vocabulary of 200 (e.g. integer\n",
        "# encoded words from 0 to 199, inclusive), a vector space of 32 dimensions in which words will be\n",
        "# embedded, and input documents that have 50 words each.\n",
        "\n",
        "e = Embedding(200, 32, input_length=50)"
      ],
      "metadata": {
        "id": "czjdM2tEU7qX"
      },
      "execution_count": null,
      "outputs": []
    },
    {
      "cell_type": "code",
      "source": [
        ""
      ],
      "metadata": {
        "id": "5RR1UJvAVEmf"
      },
      "execution_count": null,
      "outputs": []
    },
    {
      "cell_type": "markdown",
      "source": [
        "**Example of Learning an Embedding**\n",
        "\n",
        "We will define a small problem where we have 10\n",
        "text documents, each with a comment about a piece of work a student submitted. Each text document is classified as positive 1 or negative 0. \n",
        "\n",
        "This is a simple sentiment analysis problem.\n",
        "\n",
        "First, we will define the documents and their class labels."
      ],
      "metadata": {
        "id": "bQVpzNPqU6vv"
      }
    },
    {
      "cell_type": "code",
      "source": [
        "# define document\n",
        "\n",
        "from numpy import array\n",
        "docs = ['Well done!',\n",
        "'Good work',\n",
        "'Great effort',\n",
        "'nice work',\n",
        "'Excellent!',\n",
        "'Weak',\n",
        "'Poor effort!',\n",
        "'not good',\n",
        "'poor work',\n",
        "'Could have done better.']\n",
        "# define class labels\n",
        "labels = array([1,1,1,1,1,0,0,0,0,0])"
      ],
      "metadata": {
        "id": "CP7-eNMoVial"
      },
      "execution_count": null,
      "outputs": []
    },
    {
      "cell_type": "code",
      "source": [
        "# Keras provides the one hot() function that creates a\n",
        "# hash of each word as an e\u000ecient integer encoding. We will estimate the vocabulary size of 50,\n",
        "# which is much larger than needed to reduce the probability of collisions from the hash function.\n",
        "\n",
        "# integer encode the documents\n",
        "vocab_size = 50\n",
        "encoded_docs = [one_hot(d, vocab_size) for d in docs]\n",
        "print(encoded_docs)"
      ],
      "metadata": {
        "id": "o5y5z7EVVpEn"
      },
      "execution_count": null,
      "outputs": []
    },
    {
      "cell_type": "code",
      "source": [
        "# The sequences have di\u000berent lengths and Keras prefers inputs to be vectorized and all inputs\n",
        "# to have the same length. We will pad all input sequences to have the length of 4. Again, we can\n",
        "# do this with a built in Keras function, in this case the pad sequences() function.\n",
        "\n",
        "# pad documents to a max length of 4 words\n",
        "max_length = 4\n",
        "padded_docs = pad_sequences(encoded_docs, maxlen=max_length, padding='post')\n",
        "print(padded_docs)"
      ],
      "metadata": {
        "id": "jy-FZqKJWDb-"
      },
      "execution_count": null,
      "outputs": []
    },
    {
      "cell_type": "markdown",
      "source": [
        "We are now ready to define our Embedding layer as part of our neural network model.\n",
        "\n",
        "The Embedding layer has a vocabulary of 50 and an input length of 4. We will choose a small embedding space of 8 dimensions. The model is a simple binary classification model.\n",
        "\n",
        "Importantly, the output from the Embedding layer will be 4 vectors of 8 dimensions each, one for each word. \n",
        "\n",
        "We flatten this to a one 32-element vector to pass on to the Dense output layer."
      ],
      "metadata": {
        "id": "nhUVqEnRWteU"
      }
    },
    {
      "cell_type": "code",
      "source": [
        "# define the model\n",
        "model = Sequential()\n",
        "model.add(Embedding(vocab_size, 8, input_length=max_length))\n",
        "model.add(Flatten())\n",
        "model.add(Dense(1, activation='sigmoid'))\n",
        "# compile the model\n",
        "model.compile(optimizer='adam', loss='binary_crossentropy', metrics=['accuracy'])\n",
        "# summarize the model\n",
        "model.summary()"
      ],
      "metadata": {
        "id": "XzDcns7GW1RG"
      },
      "execution_count": null,
      "outputs": []
    },
    {
      "cell_type": "code",
      "source": [
        "# Finally, we can fit and evaluate the classification model.\n",
        "# fit the model\n",
        "model.fit(padded_docs, labels, epochs=50, verbose=0)\n",
        "# evaluate the model\n",
        "loss, accuracy = model.evaluate(padded_docs, labels, verbose=0)\n",
        "print('Accuracy: %f' % (accuracy*100))"
      ],
      "metadata": {
        "id": "MkcYVfryWaIl"
      },
      "execution_count": null,
      "outputs": []
    },
    {
      "cell_type": "code",
      "source": [
        "# The complete code listing is provided below.\n",
        "\n",
        "from numpy import array\n",
        "from keras.preprocessing.text import one_hot\n",
        "from keras.preprocessing.sequence import pad_sequences\n",
        "from keras.models import Sequential\n",
        "from keras.layers import Dense\n",
        "from keras.layers import Flatten\n",
        "from keras.layers.embeddings import Embedding\n",
        "# define documents\n",
        "docs = ['Well done!',\n",
        "        'Good work',\n",
        "        'Great effort',\n",
        "        'nice work',\n",
        "        'Excellent!',\n",
        "        'Weak',\n",
        "        'Poor effort!',\n",
        "        'not good',\n",
        "        'poor work',\n",
        "        'Could have done better.']\n",
        "# define class labels\n",
        "labels = array([1,1,1,1,1,0,0,0,0,0])\n",
        "# integer encode the documents\n",
        "vocab_size = 50\n",
        "encoded_docs = [one_hot(d, vocab_size) for d in docs]\n",
        "print('Running the example first prints the integer encoded documents:\\n',encoded_docs)\n",
        "# pad documents to a max length of 4 words\n",
        "max_length = 4\n",
        "padded_docs = pad_sequences(encoded_docs, maxlen=max_length, padding='post')\n",
        "print('\\n\\nThen the padded versions of each document are printed, making them all uniform length:\\n',padded_docs)\n",
        "# define the model\n",
        "model = Sequential()\n",
        "model.add(Embedding(vocab_size, 8, input_length=max_length))\n",
        "model.add(Flatten())\n",
        "model.add(Dense(1, activation='sigmoid'))\n",
        "# compile the model\n",
        "model.compile(optimizer='adam', loss='binary_crossentropy', metrics=['accuracy'])\n",
        "# summarize the model\n",
        "model.summary()\n",
        "# fit the model\n",
        "model.fit(padded_docs, labels, epochs=50, verbose=0)\n",
        "# evaluate the model\n",
        "loss, accuracy = model.evaluate(padded_docs, labels, verbose=0)\n",
        "print('Accuracy: %f' % (accuracy*100))"
      ],
      "metadata": {
        "colab": {
          "base_uri": "https://localhost:8080/"
        },
        "id": "2kL899NCW9kX",
        "outputId": "dad49f22-286a-4cf6-b07d-99c79a1a328d"
      },
      "execution_count": null,
      "outputs": [
        {
          "output_type": "stream",
          "name": "stdout",
          "text": [
            "Running the example first prints the integer encoded documents:\n",
            " [[4, 27], [25, 41], [24, 38], [48, 41], [11], [18], [45, 38], [5, 25], [45, 41], [5, 5, 27, 36]]\n",
            "\n",
            "\n",
            "Then the padded versions of each document are printed, making them all uniform length:\n",
            " [[ 4 27  0  0]\n",
            " [25 41  0  0]\n",
            " [24 38  0  0]\n",
            " [48 41  0  0]\n",
            " [11  0  0  0]\n",
            " [18  0  0  0]\n",
            " [45 38  0  0]\n",
            " [ 5 25  0  0]\n",
            " [45 41  0  0]\n",
            " [ 5  5 27 36]]\n",
            "Model: \"sequential_5\"\n",
            "_________________________________________________________________\n",
            " Layer (type)                Output Shape              Param #   \n",
            "=================================================================\n",
            " embedding_5 (Embedding)     (None, 4, 8)              400       \n",
            "                                                                 \n",
            " flatten_5 (Flatten)         (None, 32)                0         \n",
            "                                                                 \n",
            " dense_5 (Dense)             (None, 1)                 33        \n",
            "                                                                 \n",
            "=================================================================\n",
            "Total params: 433\n",
            "Trainable params: 433\n",
            "Non-trainable params: 0\n",
            "_________________________________________________________________\n",
            "WARNING:tensorflow:6 out of the last 6 calls to <function Model.make_test_function.<locals>.test_function at 0x7f5397c1d8c0> triggered tf.function retracing. Tracing is expensive and the excessive number of tracings could be due to (1) creating @tf.function repeatedly in a loop, (2) passing tensors with different shapes, (3) passing Python objects instead of tensors. For (1), please define your @tf.function outside of the loop. For (2), @tf.function has experimental_relax_shapes=True option that relaxes argument shapes that can avoid unnecessary retracing. For (3), please refer to https://www.tensorflow.org/guide/function#controlling_retracing and https://www.tensorflow.org/api_docs/python/tf/function for  more details.\n",
            "Accuracy: 89.999998\n"
          ]
        }
      ]
    },
    {
      "cell_type": "markdown",
      "source": [
        "**Tips for Cleaning Text for Word Embedding**\n",
        "\n",
        "Tomas Mikolov (one of the developers of Word2Vec, a popular word embedding method) :\n",
        "\n",
        "There is no universal answer. It all depends on what you plan to use the vectors\n",
        "for. \n",
        "\n",
        "In my experience, it is usually good to disconnect (or remove) punctuation from words, and sometimes also convert all characters to lowercase. One can also replace all numbers (possibly greater than some constant) with some single token such as .\n",
        "\n",
        "All these pre-processing steps aim to reduce the vocabulary size without removing any important content (which in some cases may not be true when you lowercase certain words, \n",
        "\n",
        "ie. `Bush' is different than `bush', while `Another' has usually the same sense as `another'). The smaller the vocabulary is, the lower is the memory complexity, and the more robustly are the parameters for the words estimated. \n",
        "\n",
        "You also have to pre-process the test data in the same way.\n",
        "\n",
        "In short, you will understand all this much better if you will run experiments."
      ],
      "metadata": {
        "id": "wJzRxqM7dfSE"
      }
    },
    {
      "cell_type": "code",
      "source": [
        ""
      ],
      "metadata": {
        "id": "Yr2StH7xXOHn"
      },
      "execution_count": null,
      "outputs": []
    },
    {
      "cell_type": "markdown",
      "source": [
        "# Part VI Text Classiffication\n",
        "\n",
        "**Neural Models for Document Classiffication**\n",
        "\n",
        "Text classiffication describes a general class of problems such as predicting the sentiment of tweets and movie reviews, as well as classifying email as spam or not. \n",
        "\n",
        "Deep learning methods are proving very good at text classiffication, achieving state-of-the-art results on a suite of standard academic benchmark problems.\n",
        "\n",
        "**Overview**\n",
        "\n",
        "This tutorial is divided into the following parts:\n",
        "1. Word Embeddings + CNN = Text classiffication\n",
        "2. Use a Single Layer CNN Architecture\n",
        "3. Dial in CNN Hyperparameters\n",
        "4. Consider Character-Level CNNs\n",
        "5. Consider Deeper CNNs for classiffication"
      ],
      "metadata": {
        "id": "j2MNoSENag4u"
      }
    },
    {
      "cell_type": "markdown",
      "source": [
        "**Word Embeddings + CNN = Text Classiffication**\n",
        "\n",
        "Neural networks in general o\u000ber better performance than classical\n",
        "linear classiffiers, especially when used with pre-trained word embeddings.\n",
        "\n",
        "Convolutional Neural Networks (CNN) are effective at document Classiffication,\n",
        "namely because they are able to pick out salient features (e.g. tokens or sequences of tokens) in a way that is invariant to their position within the input sequences.\n",
        "\n",
        "The architecture is therefore comprised of three key pieces:\n",
        "\n",
        "- **Word Embedding**: A distributed representation of words where di\u000berent words that have a similar meaning (based on their usage) also have a similar representation.\n",
        "- **Convolutional Model**: A feature extraction model that learns to extract salient features from documents represented using a word embedding.\n",
        "- **Fully Connected Model**: The interpretation of extracted features in terms of a predictive output."
      ],
      "metadata": {
        "id": "oaeLw3nJbeJ8"
      }
    },
    {
      "cell_type": "markdown",
      "source": [
        "**Use a Single Layer CNN Architecture**\n",
        "\n",
        "Yoon Kim in his study of the use of pre-trained word vectors for classiffication tasks with Convolutional Neural Networks found that using pre-trained static word vectors does very well.\n",
        "\n",
        "He suggests that pre-trained word embeddings that were trained on very large text corpora, such as the freely available Word2Vec vectors trained on 100 billion tokens from Google news may offer good universal features for use in natural language processing."
      ],
      "metadata": {
        "id": "FzTJzYZQdTsK"
      }
    },
    {
      "cell_type": "code",
      "source": [
        ""
      ],
      "metadata": {
        "id": "mcpD9R-6gloL"
      },
      "execution_count": null,
      "outputs": []
    },
    {
      "cell_type": "markdown",
      "source": [
        "**Project: Develop an Embedding + CNN Model for Sentiment Analysis**\n",
        "\n",
        "In this tutorial, you will discover how to develop word embedding models\n",
        "with convolutional neural networks to classify movie reviews. \n",
        "\n",
        "After completing this tutorial, you will know:\n",
        "- How to prepare movie review text data for classiffication with deep learning methods.\n",
        "- How to develop a neural classiffication model with word embedding and convolutional layers.\n",
        "- How to evaluate the developed a neural classiffication model.\n",
        "\n",
        "\n",
        "**Data Preparation**\n",
        "\n",
        "**Note**: The preparation of the movie review dataset was first described in Part IV. \n",
        "\n",
        "In this section, we will look at 3 things:\n",
        "1. Separation of data into training and test sets.\n",
        "2. Loading and cleaning the data to remove punctuation and numbers.\n",
        "3. Defining a vocabulary of preferred words.\n",
        "\n",
        "**Split into Train and Test Sets**\n",
        "\n",
        "we will use the last 100 positive reviews and the last 100 negative reviews\n",
        "as a test set (100 reviews) and the remaining 1,800 reviews as the training dataset. This is a 90% train, 10% split of the data. \n",
        "\n",
        "The split can be imposed easily by using the filenames of the\n",
        "reviews where reviews named 000 to 899 are for training data and reviews named 900 onwards are for test.\n",
        "\n",
        "**Loading and Cleaning Reviews**   -----------> clean_doc(doc) function\n",
        "\n",
        "The text data is already pretty clean; not much preparation is required. Without getting bogged down too much in the details, we will prepare the data using the following way:\n",
        "- Split tokens on white space.\n",
        "- Remove all punctuation from words.\n",
        "- Remove all words that are not purely comprised of alphabetical characters.\n",
        "- Remove all words that are known stop words.\n",
        "- Remove all words that have a length >= 1 character."
      ],
      "metadata": {
        "id": "xpPTCrvBfwx7"
      }
    },
    {
      "cell_type": "markdown",
      "source": [
        ""
      ],
      "metadata": {
        "id": "aqCkYmmM6GJx"
      }
    },
    {
      "cell_type": "code",
      "source": [
        "# Pulling all of this together, the complete example is listed below.\n",
        "\n",
        "import string\n",
        "import re\n",
        "from os import listdir\n",
        "from collections import Counter\n",
        "from nltk.corpus import stopwords\n",
        "\n",
        "# load doc into memory\n",
        "def load_doc(filename):\n",
        "    # open the file as read only\n",
        "    file = open(filename, 'r')\n",
        "    # read all text\n",
        "    text = file.read()\n",
        "    # close the file\n",
        "    file.close()\n",
        "    return text\n",
        "# turn a doc into clean tokens\n",
        "def clean_doc(doc):\n",
        "    # split into tokens by white space\n",
        "    tokens = doc.split()\n",
        "    # prepare regex for char filtering\n",
        "    re_punc = re.compile('[%s]' % re.escape(string.punctuation))\n",
        "    # remove punctuation from each word\n",
        "    tokens = [re_punc.sub('', w) for w in tokens]\n",
        "    # remove remaining tokens that are not alphabetic\n",
        "    tokens = [word for word in tokens if word.isalpha()]\n",
        "    # filter out stop words\n",
        "    stop_words = set(stopwords.words('english'))\n",
        "    tokens = [w for w in tokens if not w in stop_words]\n",
        "    # filter out short tokens\n",
        "    tokens = [word for word in tokens if len(word) > 1]\n",
        "    return tokens\n",
        "\n",
        "# load doc and add to vocab\n",
        "def add_doc_to_vocab(filename, vocab):\n",
        "    # load doc\n",
        "    doc = load_doc(filename)\n",
        "    # clean doc\n",
        "    tokens = clean_doc(doc)\n",
        "    # update counts\n",
        "    vocab.update(tokens)\n",
        "\n",
        "# load all docs in a directory\n",
        "def process_docs(directory, vocab):\n",
        "    # walk through all files in the folder\n",
        "    for filename in listdir(directory):\n",
        "    # skip any reviews in the test set - Seperating Training and Test sets\n",
        "        if filename.startswith('cv9'):\n",
        "            continue\n",
        "        # create the full path of the file to open\n",
        "        path = directory + '/' + filename\n",
        "        # add doc to vocab\n",
        "        add_doc_to_vocab(path, vocab)\n",
        "\n",
        "# save list to file\n",
        "def save_list(lines, filename):\n",
        "    # convert lines to a single blob of text\n",
        "    data = '\\n'.join(lines)\n",
        "    # open file\n",
        "    file = open(filename, 'w')\n",
        "    # write text\n",
        "    file.write(data)\n",
        "    # close file\n",
        "    file.close()\n",
        "\n",
        "\n",
        "# define vocab\n",
        "vocab = Counter()\n",
        "# add all docs to vocab\n",
        "directory_pos = '/content/gdrive/My Drive/txt_sentoken/pos'\n",
        "directory_neg = '/content/gdrive/My Drive/txt_sentoken/neg'\n",
        "\n",
        "process_docs(directory_pos, vocab)\n",
        "process_docs(directory_neg, vocab)\n",
        "\n",
        "# print the size of the vocab\n",
        "print(len(vocab))\n",
        "# print the top words in the vocab\n",
        "print(vocab.most_common(50))\n",
        "\n",
        "# keep tokens with a min occurrence\n",
        "min_occurrence = 2\n",
        "tokens = [k for k,c in vocab.items() if c >= min_occurrence]\n",
        "print('\\n\\nkeep tokens with a min occurrence:\\n',len(tokens))\n",
        "\n",
        "# save tokens to a vocabulary file\n",
        "save_list(tokens, '/content/gdrive/My Drive/txt_sentoken/vocab_train.txt')"
      ],
      "metadata": {
        "colab": {
          "base_uri": "https://localhost:8080/"
        },
        "id": "sRDFPQX169ML",
        "outputId": "c55e0d3b-72e9-41a0-d4f3-ff19202e702f"
      },
      "execution_count": null,
      "outputs": [
        {
          "output_type": "stream",
          "name": "stdout",
          "text": [
            "44276\n",
            "[('film', 7983), ('one', 4946), ('movie', 4826), ('like', 3201), ('even', 2262), ('good', 2080), ('time', 2041), ('story', 1907), ('films', 1873), ('would', 1844), ('much', 1824), ('also', 1757), ('characters', 1735), ('get', 1724), ('character', 1703), ('two', 1643), ('first', 1588), ('see', 1557), ('way', 1515), ('well', 1511), ('make', 1418), ('really', 1407), ('little', 1351), ('life', 1334), ('plot', 1288), ('people', 1269), ('could', 1248), ('bad', 1248), ('scene', 1241), ('movies', 1238), ('never', 1201), ('best', 1179), ('new', 1140), ('scenes', 1135), ('man', 1131), ('many', 1130), ('doesnt', 1118), ('know', 1092), ('dont', 1086), ('hes', 1024), ('great', 1014), ('another', 992), ('action', 985), ('love', 977), ('us', 967), ('go', 952), ('director', 948), ('end', 946), ('something', 945), ('still', 936)]\n",
            "\n",
            "\n",
            "keep tokens with a min occurrence:\n",
            " 25767\n"
          ]
        }
      ]
    },
    {
      "cell_type": "markdown",
      "source": [
        "We are now ready to look at extracting features from the reviews ready for modeling.\n",
        "\n",
        "**Train CNN With Embedding Layer**\n",
        "\n",
        "The real valued vector representation for words can be learned while training the neural network. We can do this in the Keras deep learning library using the Embedding layer. \n",
        "\n",
        "The first step is to load the vocabulary. We will use it to filter out words from movie reviews that we are not interested in.\n",
        "\n",
        "The steps of preparing data and train and test is as above cells in project of Developing Neural Bag-of-Words Model for Sentiment Analysis....So please look there for the comments on functions.\n",
        "\n",
        "Now that the mapping of words to integers has been prepared, we can use it to encode the reviews in the training dataset. We can do that by calling the *texts_to_sequences()* function on the Tokenizer. \n",
        "\n",
        "We also need to ensure that all documents have the same length. This is a\n",
        "requirement of Keras for efficient computation. We could truncate reviews to the smallest size or zero-pad (pad with the value 0) reviews to the maximum length, or some hybrid. \n",
        "\n",
        "In this case, we will pad all reviews to the length of the longest review in the training dataset. \n",
        "\n",
        "First, we can find the longest review using the *max()* function on the training dataset and take its length.\n",
        "\n",
        "We can then call the Keras function *pad_sequences()* to pad the sequences to the maximum length by adding 0 values on the end.\n",
        "\n",
        "\n",
        "The Embedding layer requires the speciffication of the vocabulary\n",
        "size, the size of the real-valued vector space, and the maximum length of input documents. \n",
        "\n",
        "The vocabulary size is the total number of words in our vocabulary, plus one for unknown words.\n",
        "\n",
        "This could be the vocab set length or the size of the vocab within the tokenizer used to integer\n",
        "encode the documents\n",
        "\n",
        "In addition, We will use a 100-dimensional vector space, but you could try other values, such as 50 or 150. \n",
        "\n",
        "Finally, the maximum document length was calculated above in the max length variable used during padding. The complete model definition is listed below including the Embedding layer. \n",
        "\n",
        "We use a Convolutional Neural Network (CNN) as they have proven to be successful at document classification problems. \n",
        "\n",
        "A conservative CNN configuration is used with 32 filters\n",
        "(parallel fields for processing words) and a kernel size of 8 with a rectified linear (relu) activation function. \n",
        "\n",
        "This is followed by a pooling layer that reduces the output of the convolutional layer by half.\n",
        "\n",
        "Next, the 2D output from the CNN part of the model is \n",
        "attened to one long 2D vector to represent the features extracted by the CNN. \n",
        "\n",
        "The back-end of the model is a standard Multilayer Perceptron layers to interpret the CNN features. The output layer uses a sigmoid activation\n",
        "function to output a value between 0 and 1 for the negative and positive sentiment in the review.\n",
        "\n",
        "here is the complete code:"
      ],
      "metadata": {
        "id": "U8VbOMLl7LJC"
      }
    },
    {
      "cell_type": "code",
      "source": [
        "# Complete example of fitting a CNN model with an Embedding input layer.\n",
        "\n",
        "import string\n",
        "import re\n",
        "from os import listdir\n",
        "from numpy import array\n",
        "from keras.preprocessing.text import Tokenizer\n",
        "from keras.preprocessing.sequence import pad_sequences\n",
        "from keras.utils.vis_utils import plot_model\n",
        "from keras.models import Sequential\n",
        "from keras.layers import Dense\n",
        "from keras.layers import Flatten\n",
        "from keras.layers import Embedding\n",
        "from keras.layers.convolutional import Conv1D\n",
        "from keras.layers.convolutional import MaxPooling1D\n",
        "\n",
        "# load doc into memory\n",
        "def load_doc(filename):\n",
        "    # open the file as read only\n",
        "    file = open(filename, 'r')\n",
        "    # read all text\n",
        "    text = file.read()\n",
        "    # close the file\n",
        "    file.close()\n",
        "    return text\n",
        "\n",
        "# turn a doc into clean tokens\n",
        "def clean_doc(doc, vocab):\n",
        "    # split into tokens by white space\n",
        "    tokens = doc.split()\n",
        "    # prepare regex for char filtering\n",
        "    re_punc = re.compile('[%s]' % re.escape(string.punctuation))\n",
        "    # remove punctuation from each word\n",
        "    tokens = [re_punc.sub('', w) for w in tokens]\n",
        "    # filter out tokens not in vocab\n",
        "    tokens = [w for w in tokens if w in vocab]\n",
        "    tokens = ' '.join(tokens)\n",
        "    return tokens\n",
        "\n",
        "# load all docs in a directory\n",
        "def process_docs(directory, vocab, is_train):\n",
        "    documents = list()\n",
        "    # walk through all files in the folder\n",
        "    for filename in listdir(directory):\n",
        "        # skip any reviews in the test set\n",
        "        if is_train and filename.startswith('cv9'):\n",
        "            continue\n",
        "        if not is_train and not filename.startswith('cv9'):\n",
        "            continue\n",
        "        # create the full path of the file to open\n",
        "        path = directory + '/' + filename\n",
        "        # load the doc\n",
        "        doc = load_doc(path)\n",
        "        # clean doc\n",
        "        tokens = clean_doc(doc, vocab)\n",
        "        # add to list\n",
        "        documents.append(tokens)\n",
        "    return documents\n",
        "\n",
        "# load and clean a dataset\n",
        "def load_clean_dataset(vocab, is_train):\n",
        "    # load documents\n",
        "    directory_pos = '/content/gdrive/My Drive/txt_sentoken/pos'\n",
        "    directory_neg = '/content/gdrive/My Drive/txt_sentoken/neg'\n",
        "\n",
        "    neg = process_docs(directory_neg, vocab, is_train)\n",
        "    pos = process_docs(directory_pos, vocab, is_train)\n",
        "    docs = neg + pos\n",
        "    # prepare labels\n",
        "    labels = array([0 for _ in range(len(neg))] + [1 for _ in range(len(pos))])\n",
        "    return docs, labels\n",
        "\n",
        "# fit a tokenizer\n",
        "def create_tokenizer(lines):\n",
        "    tokenizer = Tokenizer()\n",
        "    tokenizer.fit_on_texts(lines)\n",
        "    return tokenizer\n",
        "\n",
        "# integer encode and pad documents\n",
        "def encode_docs(tokenizer, max_length, docs):\n",
        "    # integer encode\n",
        "    encoded = tokenizer.texts_to_sequences(docs)\n",
        "    # pad sequences\n",
        "    padded = pad_sequences(encoded, maxlen=max_length, padding='post')\n",
        "    return padded\n",
        "\n",
        "# define the model\n",
        "def define_model(vocab_size, max_length):\n",
        "    model = Sequential()\n",
        "    model.add(Embedding(vocab_size, 100, input_length=max_length))\n",
        "    model.add(Conv1D(32, 8, activation='relu'))\n",
        "    model.add(MaxPooling1D())\n",
        "    model.add(Flatten())\n",
        "    model.add(Dense(10, activation='relu'))\n",
        "    model.add(Dense(1, activation='sigmoid'))\n",
        "    # compile network\n",
        "    model.compile(loss='binary_crossentropy', optimizer='adam', metrics=['accuracy'])\n",
        "    # summarize defined model\n",
        "    model.summary()\n",
        "    plot_model(model, to_file='model.png', show_shapes=True)\n",
        "    return model\n",
        "\n",
        "\n",
        "\n",
        "\n",
        "# load the vocabulary\n",
        "vocab_filename = '/content/gdrive/My Drive/txt_sentoken/vocab_train.txt'\n",
        "vocab = load_doc(vocab_filename)\n",
        "vocab = set(vocab.split())\n",
        "\n",
        "# load training data\n",
        "train_docs, ytrain = load_clean_dataset(vocab, True)\n",
        "# create the tokenizer\n",
        "tokenizer = create_tokenizer(train_docs)\n",
        "# define vocabulary size\n",
        "vocab_size = len(tokenizer.word_index) + 1\n",
        "\n",
        "print('Vocabulary size: %d' % vocab_size)\n",
        "# calculate the maximum sequence length\n",
        "max_length = max([len(s.split()) for s in train_docs])\n",
        "print('Maximum length: %d' % max_length)\n",
        "# encode data\n",
        "Xtrain = encode_docs(tokenizer, max_length, train_docs)\n",
        "# define model\n",
        "model = define_model(vocab_size, max_length)\n",
        "# fit network\n",
        "model.fit(Xtrain, ytrain, epochs=10, verbose=2)\n",
        "# save the model\n",
        "model.save('/content/gdrive/My Drive/txt_sentoken/model.h5')"
      ],
      "metadata": {
        "colab": {
          "base_uri": "https://localhost:8080/"
        },
        "id": "6buAbA6jBki7",
        "outputId": "70d62476-a060-4a65-a7c0-4d544044081e"
      },
      "execution_count": null,
      "outputs": [
        {
          "output_type": "stream",
          "name": "stdout",
          "text": [
            "Vocabulary size: 25768\n",
            "Maximum length: 1317\n",
            "Model: \"sequential\"\n",
            "_________________________________________________________________\n",
            " Layer (type)                Output Shape              Param #   \n",
            "=================================================================\n",
            " embedding (Embedding)       (None, 1317, 100)         2576800   \n",
            "                                                                 \n",
            " conv1d (Conv1D)             (None, 1310, 32)          25632     \n",
            "                                                                 \n",
            " max_pooling1d (MaxPooling1D  (None, 655, 32)          0         \n",
            " )                                                               \n",
            "                                                                 \n",
            " flatten (Flatten)           (None, 20960)             0         \n",
            "                                                                 \n",
            " dense (Dense)               (None, 10)                209610    \n",
            "                                                                 \n",
            " dense_1 (Dense)             (None, 1)                 11        \n",
            "                                                                 \n",
            "=================================================================\n",
            "Total params: 2,812,053\n",
            "Trainable params: 2,812,053\n",
            "Non-trainable params: 0\n",
            "_________________________________________________________________\n",
            "Epoch 1/10\n",
            "57/57 - 16s - loss: 0.6893 - accuracy: 0.5106 - 16s/epoch - 288ms/step\n",
            "Epoch 2/10\n",
            "57/57 - 0s - loss: 0.5152 - accuracy: 0.7517 - 433ms/epoch - 8ms/step\n",
            "Epoch 3/10\n",
            "57/57 - 0s - loss: 0.1073 - accuracy: 0.9650 - 444ms/epoch - 8ms/step\n",
            "Epoch 4/10\n",
            "57/57 - 0s - loss: 0.0097 - accuracy: 0.9994 - 430ms/epoch - 8ms/step\n",
            "Epoch 5/10\n",
            "57/57 - 0s - loss: 0.0023 - accuracy: 1.0000 - 436ms/epoch - 8ms/step\n",
            "Epoch 6/10\n",
            "57/57 - 0s - loss: 0.0013 - accuracy: 1.0000 - 431ms/epoch - 8ms/step\n",
            "Epoch 7/10\n",
            "57/57 - 0s - loss: 9.0201e-04 - accuracy: 1.0000 - 436ms/epoch - 8ms/step\n",
            "Epoch 8/10\n",
            "57/57 - 0s - loss: 6.9060e-04 - accuracy: 1.0000 - 431ms/epoch - 8ms/step\n",
            "Epoch 9/10\n",
            "57/57 - 0s - loss: 5.4913e-04 - accuracy: 1.0000 - 443ms/epoch - 8ms/step\n",
            "Epoch 10/10\n",
            "57/57 - 0s - loss: 4.4897e-04 - accuracy: 1.0000 - 432ms/epoch - 8ms/step\n"
          ]
        }
      ]
    },
    {
      "cell_type": "markdown",
      "source": [
        "**Evaluate Model**\n",
        "\n",
        "In this section, we will evaluate the trained model and use it to make predictions on new data.\n",
        "\n",
        "First, we can use the built-in *evaluate()* function to estimate the skill of the model on both the training and test dataset. \n",
        "\n",
        "This requires that we load and encode both the training and test\n",
        "datasets.\n",
        "\n",
        "We can then load the model and evaluate it on both datasets and print the accuracy.\n",
        "\n",
        "New data must then be prepared using the same text encoding and encoding schemes as was used on the training dataset. \n",
        "\n",
        "Once prepared, a prediction can be made by calling the *predict()*\n",
        "function on the model. \n",
        "\n",
        "The function below named *predict_sentiment()* will encode and pad a given movie review text and return a prediction in terms of both the percentage and a label.\n",
        "\n",
        "We can test out this model with two ad hoc movie reviews. \n",
        "\n",
        "The complete example is listed below."
      ],
      "metadata": {
        "id": "pfDxKhMHE28e"
      }
    },
    {
      "cell_type": "code",
      "source": [
        "import string\n",
        "import re\n",
        "from os import listdir\n",
        "from numpy import array\n",
        "from keras.preprocessing.text import Tokenizer\n",
        "from keras.preprocessing.sequence import pad_sequences\n",
        "from keras.models import load_model\n",
        "\n",
        "# load doc into memory\n",
        "def load_doc(filename):\n",
        "    # open the file as read only\n",
        "    file = open(filename, 'r')\n",
        "    # read all text\n",
        "    text = file.read()\n",
        "    # close the file\n",
        "    file.close()\n",
        "    return text\n",
        "\n",
        "# turn a doc into clean tokens\n",
        "def clean_doc(doc, vocab):\n",
        "    # split into tokens by white space\n",
        "    tokens = doc.split()\n",
        "    # prepare regex for char filtering\n",
        "    re_punc = re.compile('[%s]' % re.escape(string.punctuation))\n",
        "    # remove punctuation from each word\n",
        "    tokens = [re_punc.sub('', w) for w in tokens]\n",
        "    # filter out tokens not in vocab\n",
        "    tokens = [w for w in tokens if w in vocab]\n",
        "    tokens = ' '.join(tokens)\n",
        "    return tokens\n",
        "\n",
        "# load all docs in a directory\n",
        "def process_docs(directory, vocab, is_train):\n",
        "    documents = list()\n",
        "    # walk through all files in the folder\n",
        "    for filename in listdir(directory):\n",
        "        # skip any reviews in the test set\n",
        "        if is_train and filename.startswith('cv9'):\n",
        "            continue\n",
        "        if not is_train and not filename.startswith('cv9'):\n",
        "            continue\n",
        "        # create the full path of the file to open\n",
        "        path = directory + '/' + filename\n",
        "        # load the doc\n",
        "        doc = load_doc(path)\n",
        "        # clean doc\n",
        "        tokens = clean_doc(doc, vocab)\n",
        "        # add to list\n",
        "        documents.append(tokens)\n",
        "    return documents\n",
        "\n",
        "# load and clean a dataset\n",
        "def load_clean_dataset(vocab, is_train):\n",
        "    # load documents\n",
        "    directory_pos = '/content/gdrive/My Drive/txt_sentoken/pos'\n",
        "    directory_neg = '/content/gdrive/My Drive/txt_sentoken/neg'\n",
        "\n",
        "    neg = process_docs(directory_neg, vocab, is_train)\n",
        "    pos = process_docs(directory_pos, vocab, is_train)\n",
        "    docs = neg + pos\n",
        "    # prepare labels\n",
        "    labels = array([0 for _ in range(len(neg))] + [1 for _ in range(len(pos))])\n",
        "    return docs, labels\n",
        "\n",
        "# fit a tokenizer\n",
        "def create_tokenizer(lines):\n",
        "    tokenizer = Tokenizer()\n",
        "    tokenizer.fit_on_texts(lines)\n",
        "    return tokenizer\n",
        "\n",
        "# integer encode and pad documents\n",
        "def encode_docs(tokenizer, max_length, docs):\n",
        "    # integer encode\n",
        "    encoded = tokenizer.texts_to_sequences(docs)\n",
        "    # pad sequences\n",
        "    padded = pad_sequences(encoded, maxlen=max_length, padding='post')\n",
        "    return padded\n",
        "\n",
        "# classify a review as negative or positive\n",
        "def predict_sentiment(review, vocab, tokenizer, max_length, model):\n",
        "    # clean review\n",
        "    line = clean_doc(review, vocab)\n",
        "    # encode and pad review\n",
        "    padded = encode_docs(tokenizer, max_length, [line])\n",
        "    # predict sentiment\n",
        "    yhat = model.predict(padded, verbose=0)\n",
        "    # retrieve predicted percentage and label\n",
        "    percent_pos = yhat[0,0]\n",
        "    if round(percent_pos) == 0:\n",
        "        return (1-percent_pos), 'NEGATIVE'\n",
        "    return percent_pos, 'POSITIVE'\n",
        "\n",
        "# load the vocabulary\n",
        "vocab_filename = '/content/gdrive/My Drive/txt_sentoken/vocab_train.txt'\n",
        "vocab = load_doc(vocab_filename)\n",
        "vocab = set(vocab.split())\n",
        "\n",
        "# load all reviews\n",
        "train_docs, ytrain = load_clean_dataset(vocab, True)\n",
        "test_docs, ytest = load_clean_dataset(vocab, False)\n",
        "# create the tokenizer\n",
        "tokenizer = create_tokenizer(train_docs)\n",
        "# define vocabulary size\n",
        "vocab_size = len(tokenizer.word_index) + 1\n",
        "print('Vocabulary size: %d' % vocab_size)\n",
        "# calculate the maximum sequence length\n",
        "max_length = max([len(s.split()) for s in train_docs])\n",
        "print('Maximum length: %d' % max_length)\n",
        "# encode data\n",
        "Xtrain = encode_docs(tokenizer, max_length, train_docs)\n",
        "Xtest = encode_docs(tokenizer, max_length, test_docs)\n",
        "\n",
        "# load the model\n",
        "model = load_model('/content/gdrive/My Drive/txt_sentoken/model.h5')\n",
        "\n",
        "# evaluate model on training dataset\n",
        "_, acc = model.evaluate(Xtrain, ytrain, verbose=0)\n",
        "print('Train Accuracy: %.2f' % (acc*100))\n",
        "# evaluate model on test dataset\n",
        "_, acc = model.evaluate(Xtest, ytest, verbose=0)\n",
        "print('Test Accuracy: %.2f' % (acc*100))\n",
        "\n",
        "# test positive text\n",
        "text = 'Everyone will enjoy this film. I love it, recommended!'\n",
        "percent, sentiment = predict_sentiment(text, vocab, tokenizer, max_length, model)\n",
        "print('Review: [%s]\\nSentiment: %s (%.3f%%)' % (text, sentiment, percent*100))\n",
        "\n",
        "# test negative text\n",
        "text = 'This is a bad movie. Do not watch it. It sucks.'\n",
        "percent, sentiment = predict_sentiment(text, vocab, tokenizer, max_length, model)\n",
        "print('Review: [%s]\\nSentiment: %s (%.3f%%)' % (text, sentiment, percent*100))"
      ],
      "metadata": {
        "colab": {
          "base_uri": "https://localhost:8080/"
        },
        "id": "ZXAsWkBkBvVW",
        "outputId": "ea337d35-f4fe-408f-b816-51f87d034899"
      },
      "execution_count": null,
      "outputs": [
        {
          "output_type": "stream",
          "name": "stdout",
          "text": [
            "Vocabulary size: 25768\n",
            "Maximum length: 1317\n",
            "Train Accuracy: 100.00\n",
            "Test Accuracy: 86.50\n",
            "Review: [Everyone will enjoy this film. I love it, recommended!]\n",
            "Sentiment: NEGATIVE (50.480%)\n",
            "Review: [This is a bad movie. Do not watch it. It sucks.]\n",
            "Sentiment: NEGATIVE (57.071%)\n"
          ]
        }
      ]
    },
    {
      "cell_type": "code",
      "source": [
        "# test positive text\n",
        "text = 'Everyone will enjoy this film. I love it, recommended!'\n",
        "percent, sentiment = predict_sentiment(text, vocab, tokenizer, max_length, model)\n",
        "print('Review: [%s]\\nSentiment: %s (%.3f%%)' % (text, sentiment, percent*100))\n",
        "\n",
        "# test negative text\n",
        "text = 'This is a boring movie. Do not watch it. It sucks.'\n",
        "percent, sentiment = predict_sentiment(text, vocab, tokenizer, max_length, model)\n",
        "print('\\n\\nReview: [%s]\\nSentiment: %s (%.3f%%)' % (text, sentiment, percent*100))"
      ],
      "metadata": {
        "colab": {
          "base_uri": "https://localhost:8080/"
        },
        "id": "iyi9YG_JGqpM",
        "outputId": "1b737232-9070-4500-e996-1679edcbb36c"
      },
      "execution_count": null,
      "outputs": [
        {
          "output_type": "stream",
          "name": "stdout",
          "text": [
            "Review: [Everyone will enjoy this film. I love it, recommended!]\n",
            "Sentiment: NEGATIVE (50.730%)\n",
            "\n",
            "\n",
            "Review: [This is a boring movie. Do not watch it. It sucks.]\n",
            "Sentiment: NEGATIVE (51.135%)\n"
          ]
        }
      ]
    },
    {
      "cell_type": "markdown",
      "source": [
        "Extensions\n",
        "This section lists some ideas for extending the tutorial that you may wish to explore.\n",
        "- **Data Cleaning**. Explore better data cleaning, perhaps leaving some punctuation in tact\n",
        "or normalizing contractions.\n",
        "- **Truncated Sequences**. Padding all sequences to the length of the longest sequence might be extreme if the longest sequence is very di\u000berent to all other reviews. Study the distribution of review lengths and truncate reviews to a mean length.\n",
        "- **Truncated Vocabulary**. We removed infrequently occurring words, but still had a large vocabulary of more than 25,000 words. Explore further reducing the size of the vocabulary and the effect on model skill.\n",
        "- **Filters and Kernel Size**. The number of filters and kernel size are important to model skill and were not tuned. Explore tuning these two CNN parameters.\n",
        "- **Epochs and Batch Size**. The model appears to fit the training dataset quickly. Explore alternate configurations of the number of training epochs and batch size and use the test dataset as a validation set to pick a better stopping point for training the model.\n",
        "- **Deeper Network**. Explore whether a deeper network results in better skill, either in terms of CNN layers, MLP layers and both.\n",
        "- **Pre-Train an Embedding**. Explore pre-training a Word2Vec word embedding in the model and the impact on model skill with and without further fine tuning during training.\n",
        "- **Use GloVe Embedding**. Explore loading the pre-trained GloVe embedding and the impact on model skill with and without further fine tuning during training.\n",
        "- **Longer Test Reviews**. Explore whether the skill of model predictions is dependent on the length of movie reviews as suspected in the final section on evaluating the model.\n",
        "- **Train Final Model**. Train a final model on all available data and use it make predictions on real ad hoc movie reviews from the internet."
      ],
      "metadata": {
        "id": "yxHF9SQBJFZV"
      }
    },
    {
      "cell_type": "code",
      "source": [
        ""
      ],
      "metadata": {
        "id": "SSJJUHuvG3vW"
      },
      "execution_count": null,
      "outputs": []
    },
    {
      "cell_type": "markdown",
      "source": [
        "**Project: Develop an n-gram CNN Model for Sentiment Analysis**\n",
        "\n",
        "\n",
        "\n",
        "This tutorial is divided into the following parts:\n",
        "1. Movie Review Dataset. *(like previouse section)*\n",
        "2. Data Preparation.    *(like previouse section only X and y are saved in Pickles)*\n",
        "3. Develop Multi-channel Model.\n",
        "4. Evaluate Model.\n",
        "\n",
        "\n",
        "\n",
        "\n",
        "we want to save the prepared train and test sets to file so that we can load them later for modeling and model evaluation. \n",
        "\n",
        "The function below-named *save_datase()* will save a given prepared dataset (X and y elements) to a file using the pickle API (this is the standard\n",
        "API for saving objects in Python).\n",
        "\n",
        "Running the example cleans the text movie review documents, creates labels, and saves the prepared data for both train and test datasets in train.pkl and test.pkl respectively. \n"
      ],
      "metadata": {
        "id": "NKtFOowJJ_t9"
      }
    },
    {
      "cell_type": "code",
      "source": [
        "import string\n",
        "import re\n",
        "from os import listdir\n",
        "from nltk.corpus import stopwords\n",
        "from pickle import dump\n",
        "\n",
        "# load doc into memory\n",
        "def load_doc(filename):\n",
        "    # open the file as read only\n",
        "    file = open(filename, 'r')\n",
        "    # read all text\n",
        "    text = file.read()\n",
        "    # close the file\n",
        "    file.close()\n",
        "    return text\n",
        "\n",
        "# turn a doc into clean tokens\n",
        "def clean_doc(doc):\n",
        "    # split into tokens by white space\n",
        "    tokens = doc.split()\n",
        "    # prepare regex for char filtering\n",
        "    re_punc = re.compile('[%s]' % re.escape(string.punctuation))\n",
        "    # remove punctuation from each word\n",
        "    tokens = [re_punc.sub('', w) for w in tokens]\n",
        "    # remove remaining tokens that are not alphabetic\n",
        "    tokens = [word for word in tokens if word.isalpha()]\n",
        "    # filter out stop words\n",
        "    stop_words = set(stopwords.words('english'))\n",
        "    tokens = [w for w in tokens if not w in stop_words]\n",
        "    # filter out short tokens\n",
        "    tokens = [word for word in tokens if len(word) > 1]\n",
        "    tokens = ' '.join(tokens)\n",
        "    return tokens\n",
        "\n",
        "# load all docs in a directory\n",
        "def process_docs(directory, is_train):\n",
        "    documents = list()\n",
        "    # walk through all files in the folder\n",
        "    for filename in listdir(directory):\n",
        "        # skip any reviews in the test set\n",
        "        if is_train and filename.startswith('cv9'):\n",
        "            continue\n",
        "        if not is_train and not filename.startswith('cv9'):\n",
        "            continue\n",
        "        # create the full path of the file to open\n",
        "        path = directory + '/' + filename\n",
        "        # load the doc\n",
        "        doc = load_doc(path)\n",
        "        # clean doc\n",
        "        tokens = clean_doc(doc)\n",
        "        # add to list\n",
        "        documents.append(tokens)\n",
        "    return documents\n",
        "\n",
        "# load and clean a dataset\n",
        "def load_clean_dataset(is_train):\n",
        "    # load documents\n",
        "    directory_pos = '/content/gdrive/My Drive/txt_sentoken/pos'\n",
        "    directory_neg = '/content/gdrive/My Drive/txt_sentoken/neg'\n",
        "\n",
        "    neg = process_docs(directory_neg, is_train)\n",
        "    pos = process_docs(directory_pos, is_train)\n",
        "    docs = neg + pos\n",
        "    # prepare labels\n",
        "    labels = [0 for _ in range(len(neg))] + [1 for _ in range(len(pos))]\n",
        "    return docs, labels\n",
        "\n",
        "\n",
        "# save a dataset to file\n",
        "def save_dataset(dataset, filename):\n",
        "    dump(dataset, open(filename, 'wb'))\n",
        "    print('Saved: %s' % filename)\n",
        "\n",
        "# load and clean all reviews\n",
        "train_docs, ytrain = load_clean_dataset(True)\n",
        "test_docs, ytest = load_clean_dataset(False)\n",
        "\n",
        "# save training datasets\n",
        "save_dataset([train_docs, ytrain], '/content/gdrive/My Drive/txt_sentoken/train.pkl')\n",
        "save_dataset([test_docs, ytest], '/content/gdrive/My Drive/txt_sentoken/test.pkl')"
      ],
      "metadata": {
        "colab": {
          "base_uri": "https://localhost:8080/"
        },
        "id": "_YrQRMQ8LKj8",
        "outputId": "27e5e46d-a085-4788-cb7b-7311884fcd53"
      },
      "execution_count": null,
      "outputs": [
        {
          "output_type": "stream",
          "name": "stdout",
          "text": [
            "Saved: /content/gdrive/My Drive/txt_sentoken/train.pkl\n",
            "Saved: /content/gdrive/My Drive/txt_sentoken/test.pkl\n"
          ]
        }
      ]
    },
    {
      "cell_type": "markdown",
      "source": [
        "**Develop Multi-channel Model**\n",
        "\n",
        "In this section, we will develop a multi-channel convolutional neural network for the sentiment analysis prediction problem. This section is divided into 3 parts:\n",
        "1. Encode Data\n",
        "2. Define Model.\n",
        "3. Complete Example.\n",
        "\n",
        "**Encode Data**\n",
        "\n",
        "The first step is to load the cleaned training dataset. The function below-named *load_dataset()* can be called to load the pickled training dataset.\n",
        "\n",
        "Next, we must fit a Keras Tokenizer on the training dataset. We will use this tokenizer to both define the vocabulary for the Embedding layer and encode the review documents as integers.\n",
        "\n",
        "The function *create_tokenizer()* below will create a Tokenizer given a list of documents.\n",
        "\n",
        "We also need to know the maximum length of input sequences as input for the model and to pad all sequences to the fixed length. The function *max_length()* below will calculate the maximum length (number of words) for all reviews in the training dataset.\n",
        "\n",
        "We also need to know the size of the vocabulary for the Embedding layer. This can be calculated from the prepared Tokenizer\n",
        "\n",
        "Finally, we can integer encode and pad the clean movie review text. The function below named *encode_text()* will both encode and pad text data to the maximum review length."
      ],
      "metadata": {
        "id": "bCBBGSFTMoU7"
      }
    },
    {
      "cell_type": "markdown",
      "source": [
        "**Define Model**\n",
        "\n",
        "A standard model for document classiffication is to use an Embedding layer as input, followed by a one-dimensional convolutional neural network, pooling layer, and then a prediction output layer.\n",
        "\n",
        "The kernel size in the convolutional layer defines the number of words to consider as the convolution is passed across the input text document, providing a grouping parameter. \n",
        "\n",
        "A multi-channel convolutional neural network for document classiffication involves using multiple versions of the standard model with di\u000berent sized kernels. \n",
        "\n",
        "This allows the document to be processed at different resolutions or different *n-grams* (groups of words) at a time, whilst the model learns how to best integrate these interpretations.\n",
        "\n",
        "In Keras, a multiple-input model can be defined using the functional API. We will define a model with three input channels for processing 4-grams, 6-grams, and 8-grams of movie review text. \n",
        "\n",
        "Each channel is comprised of the following elements:\n",
        "- **Input layer** that defines the length of input sequences.\n",
        "- **Embedding layer** set to the size of the vocabulary and 100-dimensional real-valued representations.\n",
        "- **Conv1D layer** with 32 filters and a kernel size set to the number of words to read at once.\n",
        "- **MaxPooling1D** layer to consolidate the output from the convolutional layer.\n",
        "- **Flatten layer** to reduce the three-dimensional output to two dimensional for concatenation.\n",
        "\n",
        "The output from the three channels are concatenated into a single vector and process by a Dense layer and an output layer. \n",
        "\n",
        "The function below defines and returns the model."
      ],
      "metadata": {
        "id": "CXB5UbdWNhgL"
      }
    },
    {
      "cell_type": "code",
      "source": [
        "# define the model\n",
        "def define_model(length, vocab_size):\n",
        "    # channel 1\n",
        "    inputs1 = Input(shape=(length,))\n",
        "    embedding1 = Embedding(vocab_size, 100)(inputs1)\n",
        "    conv1 = Conv1D(32, 4, activation='relu')(embedding1)\n",
        "    drop1 = Dropout(0.5)(conv1)\n",
        "    pool1 = MaxPooling1D()(drop1)\n",
        "    flat1 = Flatten()(pool1)\n",
        "\n",
        "    # channel 2\n",
        "    inputs2 = Input(shape=(length,))\n",
        "    embedding2 = Embedding(vocab_size, 100)(inputs2)\n",
        "    conv2 = Conv1D(32, 6, activation='relu')(embedding2)\n",
        "    drop2 = Dropout(0.5)(conv2)\n",
        "    pool2 = MaxPooling1D()(drop2)\n",
        "    flat2 = Flatten()(pool2)\n",
        "\n",
        "    # channel 3\n",
        "    inputs3 = Input(shape=(length,))\n",
        "    embedding3 = Embedding(vocab_size, 100)(inputs3)\n",
        "    conv3 = Conv1D(32, 8, activation='relu')(embedding3)\n",
        "    drop3 = Dropout(0.5)(conv3)\n",
        "    pool3 = MaxPooling1D()(drop3)\n",
        "    flat3 = Flatten()(pool3)\n",
        "    \n",
        "    # merge\n",
        "    merged = concatenate([flat1, flat2, flat3])\n",
        "    # interpretation\n",
        "    dense1 = Dense(10, activation='relu')(merged)\n",
        "    outputs = Dense(1, activation='sigmoid')(dense1)\n",
        "    model = Model(inputs=[inputs1, inputs2, inputs3], outputs=outputs)\n",
        "    # compile\n",
        "    model.compile(loss='binary_crossentropy', optimizer='adam', metrics=['accuracy'])\n",
        "    # summarize\n",
        "    model.summary()\n",
        "    plot_model(model, show_shapes=True, to_file='multichannel.png')\n",
        "    return model"
      ],
      "metadata": {
        "id": "vFVzkp6NLwsX"
      },
      "execution_count": null,
      "outputs": []
    },
    {
      "cell_type": "markdown",
      "source": [
        "**Complete Example**\n",
        "\n",
        "Pulling all of this together, the complete example is listed below."
      ],
      "metadata": {
        "id": "2dRtbsgzPVuK"
      }
    },
    {
      "cell_type": "code",
      "source": [
        "from pickle import load\n",
        "from numpy import array\n",
        "from keras.preprocessing.text import Tokenizer\n",
        "from keras.preprocessing.sequence import pad_sequences\n",
        "from keras.utils.vis_utils import plot_model\n",
        "from keras.models import Model\n",
        "from keras.layers import Input\n",
        "from keras.layers import Dense\n",
        "from keras.layers import Flatten\n",
        "from keras.layers import Dropout\n",
        "from keras.layers import Embedding\n",
        "from keras.layers.convolutional import Conv1D\n",
        "from keras.layers.convolutional import MaxPooling1D\n",
        "from keras.layers.merge import concatenate\n",
        "\n",
        "# load a clean dataset\n",
        "def load_dataset(filename):\n",
        "    return load(open(filename, 'rb'))\n",
        "\n",
        "# fit a tokenizer\n",
        "def create_tokenizer(lines):\n",
        "    tokenizer = Tokenizer()\n",
        "    tokenizer.fit_on_texts(lines)\n",
        "    return tokenizer\n",
        "\n",
        "# calculate the maximum document length\n",
        "def max_length(lines):\n",
        "    return max([len(s.split()) for s in lines])\n",
        "\n",
        "# encode a list of lines\n",
        "def encode_text(tokenizer, lines, length):\n",
        "    # integer encode\n",
        "    encoded = tokenizer.texts_to_sequences(lines)\n",
        "    # pad encoded sequences\n",
        "    padded = pad_sequences(encoded, maxlen=length, padding='post')\n",
        "    return padded\n",
        "\n",
        "# define the model\n",
        "def define_model(length, vocab_size):\n",
        "    # channel 1\n",
        "    inputs1 = Input(shape=(length,))\n",
        "    embedding1 = Embedding(vocab_size, 100)(inputs1)\n",
        "    conv1 = Conv1D(32, 4, activation='relu')(embedding1)\n",
        "    drop1 = Dropout(0.5)(conv1)\n",
        "    pool1 = MaxPooling1D()(drop1)\n",
        "    flat1 = Flatten()(pool1)\n",
        "\n",
        "    # channel 2\n",
        "    inputs2 = Input(shape=(length,))\n",
        "    embedding2 = Embedding(vocab_size, 100)(inputs2)\n",
        "    conv2 = Conv1D(32, 6, activation='relu')(embedding2)\n",
        "    drop2 = Dropout(0.5)(conv2)\n",
        "    pool2 = MaxPooling1D()(drop2)\n",
        "    flat2 = Flatten()(pool2)\n",
        "\n",
        "    # channel 3\n",
        "    inputs3 = Input(shape=(length,))\n",
        "    embedding3 = Embedding(vocab_size, 100)(inputs3)\n",
        "    conv3 = Conv1D(32, 8, activation='relu')(embedding3)\n",
        "    drop3 = Dropout(0.5)(conv3)\n",
        "    pool3 = MaxPooling1D()(drop3)\n",
        "    flat3 = Flatten()(pool3)\n",
        "    \n",
        "    # merge\n",
        "    merged = concatenate([flat1, flat2, flat3])\n",
        "    # interpretation\n",
        "    dense1 = Dense(10, activation='relu')(merged)\n",
        "    outputs = Dense(1, activation='sigmoid')(dense1)\n",
        "    model = Model(inputs=[inputs1, inputs2, inputs3], outputs=outputs)\n",
        "    # compile\n",
        "    model.compile(loss='binary_crossentropy', optimizer='adam', metrics=['accuracy'])\n",
        "    # summarize\n",
        "    model.summary()\n",
        "    plot_model(model, show_shapes=True, to_file='multichannel.png')\n",
        "    return model\n",
        "\n",
        "# load training dataset\n",
        "trainLines, trainLabels = load_dataset('/content/gdrive/My Drive/txt_sentoken/train.pkl')\n",
        "# create tokenizer\n",
        "tokenizer = create_tokenizer(trainLines)\n",
        "\n",
        "# calculate max document length\n",
        "length = max_length(trainLines)\n",
        "print('Max document length: %d' % length)\n",
        "\n",
        "# calculate vocabulary size\n",
        "vocab_size = len(tokenizer.word_index) + 1\n",
        "print('Vocabulary size: %d' % vocab_size)\n",
        "\n",
        "# encode data\n",
        "trainX = encode_text(tokenizer, trainLines, length)\n",
        "# define model\n",
        "model = define_model(length, vocab_size)\n",
        "# fit model\n",
        "model.fit([trainX,trainX,trainX], array(trainLabels), epochs=7, batch_size=16)\n",
        "# save the model\n",
        "model.save('/content/gdrive/My Drive/txt_sentoken/model_1.h5')"
      ],
      "metadata": {
        "colab": {
          "base_uri": "https://localhost:8080/"
        },
        "id": "KAaz9NP4PR5V",
        "outputId": "7329a9e0-2fab-41ab-ce45-db190483fbb6"
      },
      "execution_count": null,
      "outputs": [
        {
          "output_type": "stream",
          "name": "stdout",
          "text": [
            "Max document length: 1380\n",
            "Vocabulary size: 44277\n",
            "Model: \"model\"\n",
            "__________________________________________________________________________________________________\n",
            " Layer (type)                   Output Shape         Param #     Connected to                     \n",
            "==================================================================================================\n",
            " input_1 (InputLayer)           [(None, 1380)]       0           []                               \n",
            "                                                                                                  \n",
            " input_2 (InputLayer)           [(None, 1380)]       0           []                               \n",
            "                                                                                                  \n",
            " input_3 (InputLayer)           [(None, 1380)]       0           []                               \n",
            "                                                                                                  \n",
            " embedding_1 (Embedding)        (None, 1380, 100)    4427700     ['input_1[0][0]']                \n",
            "                                                                                                  \n",
            " embedding_2 (Embedding)        (None, 1380, 100)    4427700     ['input_2[0][0]']                \n",
            "                                                                                                  \n",
            " embedding_3 (Embedding)        (None, 1380, 100)    4427700     ['input_3[0][0]']                \n",
            "                                                                                                  \n",
            " conv1d_1 (Conv1D)              (None, 1377, 32)     12832       ['embedding_1[0][0]']            \n",
            "                                                                                                  \n",
            " conv1d_2 (Conv1D)              (None, 1375, 32)     19232       ['embedding_2[0][0]']            \n",
            "                                                                                                  \n",
            " conv1d_3 (Conv1D)              (None, 1373, 32)     25632       ['embedding_3[0][0]']            \n",
            "                                                                                                  \n",
            " dropout (Dropout)              (None, 1377, 32)     0           ['conv1d_1[0][0]']               \n",
            "                                                                                                  \n",
            " dropout_1 (Dropout)            (None, 1375, 32)     0           ['conv1d_2[0][0]']               \n",
            "                                                                                                  \n",
            " dropout_2 (Dropout)            (None, 1373, 32)     0           ['conv1d_3[0][0]']               \n",
            "                                                                                                  \n",
            " max_pooling1d_1 (MaxPooling1D)  (None, 688, 32)     0           ['dropout[0][0]']                \n",
            "                                                                                                  \n",
            " max_pooling1d_2 (MaxPooling1D)  (None, 687, 32)     0           ['dropout_1[0][0]']              \n",
            "                                                                                                  \n",
            " max_pooling1d_3 (MaxPooling1D)  (None, 686, 32)     0           ['dropout_2[0][0]']              \n",
            "                                                                                                  \n",
            " flatten_1 (Flatten)            (None, 22016)        0           ['max_pooling1d_1[0][0]']        \n",
            "                                                                                                  \n",
            " flatten_2 (Flatten)            (None, 21984)        0           ['max_pooling1d_2[0][0]']        \n",
            "                                                                                                  \n",
            " flatten_3 (Flatten)            (None, 21952)        0           ['max_pooling1d_3[0][0]']        \n",
            "                                                                                                  \n",
            " concatenate (Concatenate)      (None, 65952)        0           ['flatten_1[0][0]',              \n",
            "                                                                  'flatten_2[0][0]',              \n",
            "                                                                  'flatten_3[0][0]']              \n",
            "                                                                                                  \n",
            " dense_2 (Dense)                (None, 10)           659530      ['concatenate[0][0]']            \n",
            "                                                                                                  \n",
            " dense_3 (Dense)                (None, 1)            11          ['dense_2[0][0]']                \n",
            "                                                                                                  \n",
            "==================================================================================================\n",
            "Total params: 14,000,337\n",
            "Trainable params: 14,000,337\n",
            "Non-trainable params: 0\n",
            "__________________________________________________________________________________________________\n",
            "Epoch 1/7\n",
            "113/113 [==============================] - 3s 20ms/step - loss: 0.6951 - accuracy: 0.5406\n",
            "Epoch 2/7\n",
            "113/113 [==============================] - 2s 20ms/step - loss: 0.2675 - accuracy: 0.9372\n",
            "Epoch 3/7\n",
            "113/113 [==============================] - 2s 20ms/step - loss: 0.0100 - accuracy: 0.9989\n",
            "Epoch 4/7\n",
            "113/113 [==============================] - 2s 19ms/step - loss: 0.0022 - accuracy: 1.0000\n",
            "Epoch 5/7\n",
            "113/113 [==============================] - 2s 20ms/step - loss: 0.0011 - accuracy: 1.0000\n",
            "Epoch 6/7\n",
            "113/113 [==============================] - 2s 20ms/step - loss: 5.7147e-04 - accuracy: 1.0000\n",
            "Epoch 7/7\n",
            "113/113 [==============================] - 2s 20ms/step - loss: 4.2399e-04 - accuracy: 1.0000\n"
          ]
        }
      ]
    },
    {
      "cell_type": "code",
      "source": [
        ""
      ],
      "metadata": {
        "id": "ctTA4_B2PbF1"
      },
      "execution_count": null,
      "outputs": []
    },
    {
      "cell_type": "markdown",
      "source": [
        "**Evaluate Model**\n",
        "\n",
        "In this section, we can evaluate the fit model by predicting the sentiment on all reviews in the unseen test dataset. \n",
        "\n",
        "Using the data loading functions developed in the previous section, we can\n",
        "load and encode both the training and test datasets.\n",
        "\n",
        "We can load the saved model and evaluate it on both the training and test datasets. \n",
        "\n",
        "The complete example is listed below."
      ],
      "metadata": {
        "id": "o29xf1J-QcrE"
      }
    },
    {
      "cell_type": "code",
      "source": [
        "from pickle import load\n",
        "from numpy import array\n",
        "from keras.preprocessing.text import Tokenizer\n",
        "from keras.preprocessing.sequence import pad_sequences\n",
        "from keras.models import load_model\n",
        "# load a clean dataset\n",
        "def load_dataset(filename):\n",
        "    return load(open(filename, 'rb'))\n",
        "# fit a tokenizer\n",
        "def create_tokenizer(lines):\n",
        "    tokenizer = Tokenizer()\n",
        "    tokenizer.fit_on_texts(lines)\n",
        "    return tokenizer\n",
        "# calculate the maximum document length\n",
        "def max_length(lines):\n",
        "    return max([len(s.split()) for s in lines])\n",
        "# encode a list of lines\n",
        "def encode_text(tokenizer, lines, length):\n",
        "    # integer encode\n",
        "    encoded = tokenizer.texts_to_sequences(lines)\n",
        "    # pad encoded sequences\n",
        "    padded = pad_sequences(encoded, maxlen=length, padding='post')\n",
        "    return padded\n",
        "    \n",
        "# load datasets\n",
        "trainLines, trainLabels = load_dataset('/content/gdrive/My Drive/txt_sentoken/train.pkl')\n",
        "testLines, testLabels = load_dataset('/content/gdrive/My Drive/txt_sentoken/test.pkl')\n",
        "# create tokenizer\n",
        "tokenizer = create_tokenizer(trainLines)\n",
        "# calculate max document length\n",
        "length = max_length(trainLines)\n",
        "print('Max document length: %d' % length)\n",
        "# calculate vocabulary size\n",
        "vocab_size = len(tokenizer.word_index) + 1\n",
        "print('Vocabulary size: %d' % vocab_size)\n",
        "# encode data\n",
        "trainX = encode_text(tokenizer, trainLines, length)\n",
        "testX = encode_text(tokenizer, testLines, length)\n",
        "\n",
        "# load the model\n",
        "model = load_model('/content/gdrive/My Drive/txt_sentoken/model_1.h5')\n",
        "# evaluate model on training dataset\n",
        "_, acc = model.evaluate([trainX,trainX,trainX], array(trainLabels), verbose=0)\n",
        "print('Train Accuracy: %.2f' % (acc*100))\n",
        "# evaluate model on test dataset dataset\n",
        "_, acc = model.evaluate([testX,testX,testX], array(testLabels), verbose=0)\n",
        "print('Test Accuracy: %.2f' % (acc*100))"
      ],
      "metadata": {
        "colab": {
          "base_uri": "https://localhost:8080/"
        },
        "id": "L6QdnqGjQu4B",
        "outputId": "7ef4973a-7ff4-4fb0-df2f-866552391e46"
      },
      "execution_count": null,
      "outputs": [
        {
          "output_type": "stream",
          "name": "stdout",
          "text": [
            "Max document length: 1380\n",
            "Vocabulary size: 44277\n",
            "Train Accuracy: 100.00\n",
            "Test Accuracy: 81.50\n"
          ]
        }
      ]
    },
    {
      "cell_type": "code",
      "source": [
        ""
      ],
      "metadata": {
        "id": "amXtRvv3RKsK"
      },
      "execution_count": null,
      "outputs": []
    }
  ]
}