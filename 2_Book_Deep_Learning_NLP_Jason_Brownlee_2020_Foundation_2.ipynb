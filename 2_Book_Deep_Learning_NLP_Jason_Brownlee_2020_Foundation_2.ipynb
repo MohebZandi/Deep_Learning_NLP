{
  "nbformat": 4,
  "nbformat_minor": 0,
  "metadata": {
    "colab": {
      "name": "Book_Deep_Learning_NLP_Jason Brownlee_2020_Foundation_2.ipynb",
      "provenance": [],
      "collapsed_sections": [],
      "toc_visible": true,
      "authorship_tag": "ABX9TyOTISctoTAHPX90DwAymgWL",
      "include_colab_link": true
    },
    "kernelspec": {
      "name": "python3",
      "display_name": "Python 3"
    },
    "language_info": {
      "name": "python"
    }
  },
  "cells": [
    {
      "cell_type": "markdown",
      "metadata": {
        "id": "view-in-github",
        "colab_type": "text"
      },
      "source": [
        "<a href=\"https://colab.research.google.com/github/MohebZandi/Deep_Learning_NLP/blob/main/2_Book_Deep_Learning_NLP_Jason_Brownlee_2020_Foundation_2.ipynb\" target=\"_parent\"><img src=\"https://colab.research.google.com/assets/colab-badge.svg\" alt=\"Open In Colab\"/></a>"
      ]
    },
    {
      "cell_type": "markdown",
      "source": [
        "# **Book_Deep_Learning_NLP_Jason Brownlee_2020**\n",
        "\n",
        "# Section Two: \n",
        "Jason Brownlee\n",
        "2020"
      ],
      "metadata": {
        "id": "ZGG80QwzU7DG"
      }
    },
    {
      "cell_type": "markdown",
      "source": [
        "# Part VII Language Modeling"
      ],
      "metadata": {
        "id": "AWGj1_MXVM8O"
      }
    },
    {
      "cell_type": "markdown",
      "source": [
        "**Neural Language Modeling**\n",
        "\n",
        "Language modeling is central to many important natural language processing tasks. \n",
        "\n",
        "Recently, neural-network-based language models have demonstrated better performance than classical methods both standalone and as part of more challenging natural language processing tasks. \n",
        "\n",
        "In this chapter, you will discover language modeling for natural language processing."
      ],
      "metadata": {
        "id": "TaxEeZhjVYBk"
      }
    },
    {
      "cell_type": "markdown",
      "source": [
        "This tutorial is divided into the following parts:\n",
        "1. Problem of Modeling Language\n",
        "2. Statistical Language Modeling\n",
        "3. Neural Language Models\n",
        "\n",
        "**Problem of Modeling Language**\n",
        "\n",
        "Formal languages, like programming languages, can be fully specified. \n",
        "\n",
        "All the reserved words can be defined and the valid ways that they can be used can be precisely defined. \n",
        "\n",
        "We cannot do this with natural language. Natural languages are not designed; they emerge, and therefore there is no formal specification.\n",
        "\n",
        "**Statistical Language Modeling**\n",
        "\n",
        "Statistical Language Modeling, or Language Modeling and LM for short, is the development of probabilistic models that are able to predict the next word in the sequence given the words that precede it.\n",
        "\n",
        "A language model learns the probability of word occurrence based on examples of text.\n",
        "\n",
        "Simpler models may look at a context of a short sequence of words, whereas larger models may work at the level of sentences or paragraphs. \n",
        "\n",
        "Most commonly, language models operate at the level of words.\n",
        "\n",
        "A language model is a function that puts a probability measure over strings drawn from some vocabulary.\n",
        "\n",
        "**Language modeling is a crucial component in real-world applications such as machine-translation and automatic speech recognition.**\n",
        "\n",
        "For these reasons, language modeling plays a central role in natural-language processing, AI, and machine learning research."
      ],
      "metadata": {
        "id": "FjkgpXQEVuFv"
      }
    },
    {
      "cell_type": "markdown",
      "source": [
        "A good example is speech recognition, where audio data is used as an input to the model and the output requires a language model that interprets the input signal and recognizes each new word within the context of the words already recognized.\n",
        "\n",
        "Similarly, language models are used to generate text in many similar natural language processing tasks, for example:\n",
        "- Optical Character Recognition\n",
        "- Handwriting Recognition.\n",
        "- Machine Translation.\n",
        "- Spelling Correction.\n",
        "- Image Captioning.\n",
        "- Text Summarization\n",
        "- And much more.\n",
        "\n",
        "**Neural Language Models**\n",
        "\n",
        "Recently, the use of neural networks in the development of language models has become very popular, to the point that it may now be the preferred approach.\n",
        "\n",
        "The use of neural networks in language modeling is often called **Neural Language Modeling**, or **NLM** for short.\n",
        "\n"
      ],
      "metadata": {
        "id": "Oq-lMwDpXtUP"
      }
    },
    {
      "cell_type": "markdown",
      "source": [
        "**How to Develop a Character-Based Neural Language Model**\n",
        "\n",
        "page 197"
      ],
      "metadata": {
        "id": "yQak-PfYnqwi"
      }
    },
    {
      "cell_type": "code",
      "execution_count": null,
      "metadata": {
        "id": "Tmtafm-X48b9"
      },
      "outputs": [],
      "source": [
        "# Because there are lots of files to be read in memory, I have uploaded the folders in \n",
        "# Google Drive, so I have to mount it first, then read the data\n",
        "\n",
        "# In this method the Authentication of google drive will open a new window.\n",
        "# There are also other ways to inform the Auth to google in program text\n",
        "\n",
        "\n",
        "from google.colab import drive\n",
        "drive.mount('/content/gdrive')     # Mounting Google Drive in Colab"
      ]
    },
    {
      "cell_type": "code",
      "source": [
        ""
      ],
      "metadata": {
        "id": "UIujM7q45Zb3"
      },
      "execution_count": null,
      "outputs": []
    },
    {
      "cell_type": "markdown",
      "source": [
        ""
      ],
      "metadata": {
        "id": "cOEBdeHyU6Sn"
      }
    },
    {
      "cell_type": "code",
      "source": [
        ""
      ],
      "metadata": {
        "id": "g1-zTRwC5Zex"
      },
      "execution_count": null,
      "outputs": []
    },
    {
      "cell_type": "code",
      "source": [
        ""
      ],
      "metadata": {
        "id": "xgyRe0fl5Zio"
      },
      "execution_count": null,
      "outputs": []
    },
    {
      "cell_type": "code",
      "source": [
        ""
      ],
      "metadata": {
        "id": "agP5keuv5Zle"
      },
      "execution_count": null,
      "outputs": []
    },
    {
      "cell_type": "code",
      "source": [
        ""
      ],
      "metadata": {
        "id": "neiAKEES5ZoM"
      },
      "execution_count": null,
      "outputs": []
    },
    {
      "cell_type": "code",
      "source": [
        ""
      ],
      "metadata": {
        "id": "N3MHYRP95Zq0"
      },
      "execution_count": null,
      "outputs": []
    },
    {
      "cell_type": "code",
      "source": [
        ""
      ],
      "metadata": {
        "id": "bPLOjpxW5Zuc"
      },
      "execution_count": null,
      "outputs": []
    }
  ]
}